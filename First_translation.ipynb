{
 "cells": [
  {
   "cell_type": "code",
   "execution_count": 1,
   "id": "ef409027-d103-4549-af9a-456440b9a59f",
   "metadata": {},
   "outputs": [
    {
     "data": {
      "text/html": [
       "<link href=\"https://fonts.googleapis.com/icon?family=Material+Icons\" rel=\"stylesheet\"><script src=\"https://spcl.github.io/dace/webclient2/dist/sdfv.js\"></script>\n",
       "<link href=\"https://spcl.github.io/dace/webclient2/sdfv.css\" rel=\"stylesheet\">\n"
      ],
      "text/plain": [
       "<IPython.core.display.HTML object>"
      ]
     },
     "metadata": {},
     "output_type": "display_data"
    }
   ],
   "source": [
    "import os\n",
    "ncpu=1\n",
    "os.environ['XLA_FLAGS'] = f\"--xla_force_host_platform_device_count={ncpu}\"\n",
    "os.environ[\"XLA_FLAGS\"] = (\"--xla_cpu_multi_thread_eigen=false \"\n",
    "                           \"intra_op_parallelism_threads=1\")\n",
    "os.environ['JAX_PLATFORMS'] = \"cpu\"\n",
    "\n",
    "import numpy as np\n",
    "import jax\n",
    "import sys\n",
    "import jax.numpy as jnp\n",
    "from jax import jit, grad, vmap\n",
    "from jax import random\n",
    "\n",
    "# This must be enabled when `make_jaxpr` is called, because otherwhise we get problems.\n",
    "jax.config.update(\"jax_enable_x64\", True)\n",
    "\n",
    "import dace\n",
    "#from dace.transformation.auto.auto_optimize import auto_optimize"
   ]
  },
  {
   "cell_type": "code",
   "execution_count": 2,
   "id": "1fa3cc62-e0a8-43e0-a9aa-9c5c6176b4b0",
   "metadata": {},
   "outputs": [],
   "source": [
    "from JaxprToSDFG import  JaxprToSDFG"
   ]
  },
  {
   "cell_type": "markdown",
   "id": "cc8924a9-89d5-4a96-bc71-21f18872a74f",
   "metadata": {},
   "source": [
    "## Demo Input\n",
    "This is the input we are using."
   ]
  },
  {
   "cell_type": "code",
   "execution_count": 3,
   "id": "43318ec1-8792-4d09-ba28-cb1c5cb35b30",
   "metadata": {},
   "outputs": [],
   "source": [
    "N1, N2, N3 = 20, 20, 4\n",
    "A = np.random.rand(N1, N2).astype(np.float64)\n",
    "B = np.random.rand(N1, N2).astype(np.float64)\n",
    "C = np.random.rand(N1).astype(np.float64)\n",
    "D = np.random.rand(N1).astype(np.float64)\n",
    "E = np.random.rand(N3).astype(np.float64)\n",
    "F = np.random.rand(N1, N2).astype(np.float64)\n",
    "G = np.random.rand(N1).astype(np.float64)\n",
    "H = np.random.rand(N1, N2, N3).astype(np.float64)\n",
    "S = np.float64(3)\n",
    "SS = np.full((1, 1), S)\n",
    "T = np.float64(3.14)\n",
    "TT = np.array(T)\n",
    "_OUT = np.ones((N1, N2))\n",
    "_OUT2 = np.ones(N1)\n",
    "_OUT3 = np.ones(N1 - 1)\n",
    "\n",
    "Idx = np.array([0, 2, 3, 6, 7, 10, 11, 19]).astype(np.int32)\n",
    "Idx2 = np.array([1, 2]).astype(np.int32)\n",
    "\n",
    "two = np.full((N1, N2), 2.)\n"
   ]
  },
  {
   "cell_type": "markdown",
   "id": "7d6fe400-8b70-4409-94e8-d7fa4ea2bbb7",
   "metadata": {},
   "source": [
    "## Functions to Transforms\n",
    "Here are various functions that we use to transform.\n",
    "They are ordered in increasing complexities."
   ]
  },
  {
   "cell_type": "code",
   "execution_count": 4,
   "id": "18a7cbc4-17e2-4767-954f-68c2cf64f5f6",
   "metadata": {},
   "outputs": [],
   "source": [
    "# A sinple function\n",
    "def f1(A, B, two):\n",
    "    return A + B * two\n",
    "#\n",
    "\n",
    "# This is the same as `f1` but this time `2.0` is a double literal and not an argument.\n",
    "#  Casting does not work yet.\n",
    "def f2(A, B):\n",
    "    return A + B * 2.0\n",
    "#\n",
    "\n",
    "# This tests the constants\n",
    "def f2_2(E):\n",
    "    return E + np.array([1, 4, 5, 90], dtype=np.float64)\n",
    "#\n",
    "\n",
    "def f2_3(A, B, F):\n",
    "    return jnp.sqrt(jnp.abs(jnp.ceil(jnp.tanh(jnp.maximum(F * 100., jnp.minimum(A * 100. , B * 100.))))))\n",
    "#\n",
    "\n",
    "def f2_4(A, B):\n",
    "    return jnp.maximum(A, B)\n",
    "#\n",
    "\n",
    "# This is a bit more complicated since it is slicing and thus the input and output have different sizes.\n",
    "def f3(A):\n",
    "    return A[2:]\n",
    "#\n",
    "\n",
    "# This is a slicing with steps\n",
    "# NOT SUPPORTED\n",
    "def f3_2(A):\n",
    "    return A[2:-2:2]\n",
    "#\n",
    "\n",
    "\n",
    "# This is a test for the return mechanism for tuple\n",
    "def f4(A, B):\n",
    "    return B + 1, A + 2\n",
    "#\n",
    "\n",
    "# This is a super simple stencil\n",
    "def f5(C):\n",
    "    return C[2:] - C[:-2]\n",
    "#\n",
    "\n",
    "# This is a test for the derivative\n",
    "def f6(S: dace.float64):\n",
    "    return jnp.exp(jnp.sin(S)**2)\n",
    "#\n",
    "\n",
    "def f6_2(S: dace.float64, T: dace.float64):\n",
    "    return jnp.exp(jnp.sin(S)**2) * (jnp.cos(T * jnp.sin(S)))\n",
    "#\n",
    "\n",
    "# This tests the broadcast and the briadcastingJaxprToSDFG/translators/simpleTranslator.py abiolities of the simple translator\n",
    "def f7(A: dace.float64[3, 2, 4], B: dace.float64[2, 4]):\n",
    "    return A + B\n",
    "#\n",
    "\n",
    "A_f7_2 = np.random.rand(3, 2, 4).astype(np.float64)\n",
    "B_f7_2 = np.random.rand(3, 2, 1).astype(np.float64)   # Without the trailing one, numpy would complain.\n",
    "def f7_2(A: dace.float64[3, 2, 4], B: dace.float64[3, 2, 1]):\n",
    "    return A + B\n",
    "#\n",
    "\n",
    "A_f7_3 = np.random.rand(2, 3, 1, 5).astype(np.float64)\n",
    "B_f7_3 = np.random.rand(2, 1, 4, 5).astype(np.float64)\n",
    "def f7_3(A: dace.float64[2, 3, 1, 5], B: dace.float64[2, 1, 4, 5]):\n",
    "    return A + B\n",
    "#\n",
    "\n",
    "\n",
    "# This is for advanced indexing\n",
    "def f8(C, Idx):\n",
    "    return C[Idx]\n",
    "#\n",
    "\n",
    "## They do not work yet, because we are missing concatenate.\n",
    "# This is also for advanced indexing\n",
    "def f9(C, D, G):\n",
    "    return jnp.where(C < 0.0, D, G)\n",
    "#\n",
    "\n",
    "def f9_2(H, Idx2):\n",
    "    #return H.at[Idx2 , :, Idx2+1].get()\n",
    "    return H[Idx2 , :, Idx2-1]\n",
    "#\n",
    "\n",
    "def f9_3(H, Idx):\n",
    "    #return H.at[: , Idx, 1:].get()\n",
    "    return H[Idx , :, :]\n",
    "#\n",
    "\n",
    "def f9_4(A, Idx):\n",
    "    #return A.at[Idx, 4].get()\n",
    "    return A[Idx, 4]\n",
    "#\n",
    "\n",
    "\n",
    "# CURRENTLY UNSUPPORTED IN THE TRANSLATOR\n",
    "def f9_5(A, Idx):\n",
    "    return A.at[4:10:3, 3:15:2].get()\n",
    "#\n",
    "\n",
    "def f9_6(C, D, G):\n",
    "    Low = 0.25 < D\n",
    "    Up  = D < 0.75\n",
    "    Sel = jnp.logical_and(Low, Up)\n",
    "    return jnp.where(Sel, C, G)\n",
    "#\n",
    "    \n",
    "\n",
    "\n",
    "    \n",
    "\n",
    "\n",
    "\n"
   ]
  },
  {
   "cell_type": "markdown",
   "id": "3ffcd098-09e7-49df-b1f7-9e33592bbebc",
   "metadata": {},
   "source": [
    "## Jaxpr\n",
    "We now transform it into Jaxpr."
   ]
  },
  {
   "cell_type": "code",
   "execution_count": 5,
   "id": "65cbafd5-aea5-4102-9d53-a85a780dfbed",
   "metadata": {},
   "outputs": [],
   "source": [
    "t = JaxprToSDFG()"
   ]
  },
  {
   "cell_type": "markdown",
   "id": "ed79c6db-d75e-41c9-b514-4e84e6c304f3",
   "metadata": {},
   "source": [
    "#### `f1`"
   ]
  },
  {
   "cell_type": "code",
   "execution_count": 6,
   "id": "defd16e7-fe13-4d64-af7d-d4fb2a53712c",
   "metadata": {},
   "outputs": [],
   "source": [
    "f1_jaxpr = jax.make_jaxpr(f1)(A, B, two)"
   ]
  },
  {
   "cell_type": "code",
   "execution_count": 7,
   "id": "aac879f5-4f00-4786-9275-dc56acd96f6c",
   "metadata": {},
   "outputs": [
    {
     "name": "stdout",
     "output_type": "stream",
     "text": [
      "{ lambda ; a:f64[20,20] b:f64[20,20] c:f64[20,20]. let\n",
      "    d:f64[20,20] = mul b c\n",
      "    e:f64[20,20] = add a d\n",
      "  in (e,) }\n"
     ]
    }
   ],
   "source": [
    "print(f1_jaxpr)"
   ]
  },
  {
   "cell_type": "code",
   "execution_count": 8,
   "id": "018303f7-6b56-4537-b494-ced68ea0953c",
   "metadata": {},
   "outputs": [
    {
     "data": {
      "text/html": [
       "\n",
       "<div id=\"contents_2588898067251247836\" style=\"position: relative; resize: vertical; overflow: auto\"></div>\n",
       "<script>\n",
       "    var sdfg_2588898067251247836 = \"{\\n  \\\"type\\\": \\\"SDFG\\\",\\n  \\\"attributes\\\": {\\n    \\\"name\\\": \\\"jax_139775416062080\\\",\\n    \\\"arg_names\\\": [\\n      \\\"a\\\",\\n      \\\"b\\\",\\n      \\\"c\\\"\\n    ],\\n    \\\"constants_prop\\\": {},\\n    \\\"_arrays\\\": {\\n      \\\"a\\\": {\\n        \\\"type\\\": \\\"Array\\\",\\n        \\\"attributes\\\": {\\n          \\\"allow_conflicts\\\": false,\\n          \\\"strides\\\": [\\n            \\\"20\\\",\\n            \\\"1\\\"\\n          ],\\n          \\\"total_size\\\": \\\"400\\\",\\n          \\\"offset\\\": [\\n            \\\"0\\\",\\n            \\\"0\\\"\\n          ],\\n          \\\"may_alias\\\": false,\\n          \\\"alignment\\\": 0,\\n          \\\"start_offset\\\": 0,\\n          \\\"optional\\\": null,\\n          \\\"pool\\\": false,\\n          \\\"dtype\\\": \\\"float64\\\",\\n          \\\"shape\\\": [\\n            \\\"20\\\",\\n            \\\"20\\\"\\n          ],\\n          \\\"transient\\\": false,\\n          \\\"storage\\\": \\\"Default\\\",\\n          \\\"lifetime\\\": \\\"Scope\\\",\\n          \\\"location\\\": {},\\n          \\\"debuginfo\\\": null\\n        }\\n      },\\n      \\\"b\\\": {\\n        \\\"type\\\": \\\"Array\\\",\\n        \\\"attributes\\\": {\\n          \\\"allow_conflicts\\\": false,\\n          \\\"strides\\\": [\\n            \\\"20\\\",\\n            \\\"1\\\"\\n          ],\\n          \\\"total_size\\\": \\\"400\\\",\\n          \\\"offset\\\": [\\n            \\\"0\\\",\\n            \\\"0\\\"\\n          ],\\n          \\\"may_alias\\\": false,\\n          \\\"alignment\\\": 0,\\n          \\\"start_offset\\\": 0,\\n          \\\"optional\\\": null,\\n          \\\"pool\\\": false,\\n          \\\"dtype\\\": \\\"float64\\\",\\n          \\\"shape\\\": [\\n            \\\"20\\\",\\n            \\\"20\\\"\\n          ],\\n          \\\"transient\\\": false,\\n          \\\"storage\\\": \\\"Default\\\",\\n          \\\"lifetime\\\": \\\"Scope\\\",\\n          \\\"location\\\": {},\\n          \\\"debuginfo\\\": null\\n        }\\n      },\\n      \\\"c\\\": {\\n        \\\"type\\\": \\\"Array\\\",\\n        \\\"attributes\\\": {\\n          \\\"allow_conflicts\\\": false,\\n          \\\"strides\\\": [\\n            \\\"20\\\",\\n            \\\"1\\\"\\n          ],\\n          \\\"total_size\\\": \\\"400\\\",\\n          \\\"offset\\\": [\\n            \\\"0\\\",\\n            \\\"0\\\"\\n          ],\\n          \\\"may_alias\\\": false,\\n          \\\"alignment\\\": 0,\\n          \\\"start_offset\\\": 0,\\n          \\\"optional\\\": null,\\n          \\\"pool\\\": false,\\n          \\\"dtype\\\": \\\"float64\\\",\\n          \\\"shape\\\": [\\n            \\\"20\\\",\\n            \\\"20\\\"\\n          ],\\n          \\\"transient\\\": false,\\n          \\\"storage\\\": \\\"Default\\\",\\n          \\\"lifetime\\\": \\\"Scope\\\",\\n          \\\"location\\\": {},\\n          \\\"debuginfo\\\": null\\n        }\\n      },\\n      \\\"d\\\": {\\n        \\\"type\\\": \\\"Array\\\",\\n        \\\"attributes\\\": {\\n          \\\"allow_conflicts\\\": false,\\n          \\\"strides\\\": [\\n            \\\"20\\\",\\n            \\\"1\\\"\\n          ],\\n          \\\"total_size\\\": \\\"400\\\",\\n          \\\"offset\\\": [\\n            \\\"0\\\",\\n            \\\"0\\\"\\n          ],\\n          \\\"may_alias\\\": false,\\n          \\\"alignment\\\": 0,\\n          \\\"start_offset\\\": 0,\\n          \\\"optional\\\": false,\\n          \\\"pool\\\": false,\\n          \\\"dtype\\\": \\\"float64\\\",\\n          \\\"shape\\\": [\\n            \\\"20\\\",\\n            \\\"20\\\"\\n          ],\\n          \\\"transient\\\": true,\\n          \\\"storage\\\": \\\"Default\\\",\\n          \\\"lifetime\\\": \\\"Scope\\\",\\n          \\\"location\\\": {},\\n          \\\"debuginfo\\\": null\\n        }\\n      },\\n      \\\"e\\\": {\\n        \\\"type\\\": \\\"Array\\\",\\n        \\\"attributes\\\": {\\n          \\\"allow_conflicts\\\": false,\\n          \\\"strides\\\": [\\n            \\\"20\\\",\\n            \\\"1\\\"\\n          ],\\n          \\\"total_size\\\": \\\"400\\\",\\n          \\\"offset\\\": [\\n            \\\"0\\\",\\n            \\\"0\\\"\\n          ],\\n          \\\"may_alias\\\": false,\\n          \\\"alignment\\\": 0,\\n          \\\"start_offset\\\": 0,\\n          \\\"optional\\\": false,\\n          \\\"pool\\\": false,\\n          \\\"dtype\\\": \\\"float64\\\",\\n          \\\"shape\\\": [\\n            \\\"20\\\",\\n            \\\"20\\\"\\n          ],\\n          \\\"transient\\\": true,\\n          \\\"storage\\\": \\\"Default\\\",\\n          \\\"lifetime\\\": \\\"Scope\\\",\\n          \\\"location\\\": {},\\n          \\\"debuginfo\\\": null\\n        }\\n      },\\n      \\\"__return\\\": {\\n        \\\"type\\\": \\\"Array\\\",\\n        \\\"attributes\\\": {\\n          \\\"allow_conflicts\\\": false,\\n          \\\"strides\\\": [\\n            \\\"20\\\",\\n            \\\"1\\\"\\n          ],\\n          \\\"total_size\\\": \\\"400\\\",\\n          \\\"offset\\\": [\\n            \\\"0\\\",\\n            \\\"0\\\"\\n          ],\\n          \\\"may_alias\\\": false,\\n          \\\"alignment\\\": 0,\\n          \\\"start_offset\\\": 0,\\n          \\\"optional\\\": null,\\n          \\\"pool\\\": false,\\n          \\\"dtype\\\": \\\"float64\\\",\\n          \\\"shape\\\": [\\n            \\\"20\\\",\\n            \\\"20\\\"\\n          ],\\n          \\\"transient\\\": false,\\n          \\\"storage\\\": \\\"Default\\\",\\n          \\\"lifetime\\\": \\\"Scope\\\",\\n          \\\"location\\\": {},\\n          \\\"debuginfo\\\": null\\n        }\\n      }\\n    },\\n    \\\"symbols\\\": {},\\n    \\\"instrument\\\": \\\"No_Instrumentation\\\",\\n    \\\"global_code\\\": {\\n      \\\"frame\\\": {\\n        \\\"string_data\\\": \\\"\\\",\\n        \\\"language\\\": \\\"CPP\\\"\\n      }\\n    },\\n    \\\"init_code\\\": {\\n      \\\"frame\\\": {\\n        \\\"string_data\\\": \\\"\\\",\\n        \\\"language\\\": \\\"CPP\\\"\\n      }\\n    },\\n    \\\"exit_code\\\": {\\n      \\\"frame\\\": {\\n        \\\"string_data\\\": \\\"\\\",\\n        \\\"language\\\": \\\"CPP\\\"\\n      }\\n    },\\n    \\\"orig_sdfg\\\": null,\\n    \\\"transformation_hist\\\": [],\\n    \\\"logical_groups\\\": [],\\n    \\\"openmp_sections\\\": false,\\n    \\\"debuginfo\\\": {\\n      \\\"type\\\": \\\"DebugInfo\\\",\\n      \\\"start_line\\\": 0,\\n      \\\"end_line\\\": 0,\\n      \\\"start_column\\\": 0,\\n      \\\"end_column\\\": 0,\\n      \\\"filename\\\": null\\n    },\\n    \\\"_pgrids\\\": {},\\n    \\\"_subarrays\\\": {},\\n    \\\"_rdistrarrays\\\": {},\\n    \\\"callback_mapping\\\": {},\\n    \\\"is_collapsed\\\": false\\n  },\\n  \\\"nodes\\\": [\\n    {\\n      \\\"type\\\": \\\"SDFGState\\\",\\n      \\\"label\\\": \\\"initial_state\\\",\\n      \\\"id\\\": 0,\\n      \\\"collapsed\\\": false,\\n      \\\"scope_dict\\\": {\\n        \\\"-1\\\": []\\n      },\\n      \\\"nodes\\\": [],\\n      \\\"edges\\\": [],\\n      \\\"attributes\\\": {\\n        \\\"nosync\\\": false,\\n        \\\"instrument\\\": \\\"No_Instrumentation\\\",\\n        \\\"symbol_instrument\\\": \\\"No_Instrumentation\\\",\\n        \\\"symbol_instrument_condition\\\": {\\n          \\\"string_data\\\": \\\"1\\\",\\n          \\\"language\\\": \\\"CPP\\\"\\n        },\\n        \\\"executions\\\": \\\"0\\\",\\n        \\\"dynamic_executions\\\": true,\\n        \\\"ranges\\\": {},\\n        \\\"location\\\": {},\\n        \\\"is_collapsed\\\": false\\n      }\\n    },\\n    {\\n      \\\"type\\\": \\\"SDFGState\\\",\\n      \\\"label\\\": \\\"mul_d__139774412336256\\\",\\n      \\\"id\\\": 1,\\n      \\\"collapsed\\\": false,\\n      \\\"scope_dict\\\": {\\n        \\\"-1\\\": [\\n          0,\\n          3,\\n          4,\\n          5\\n        ],\\n        \\\"0\\\": [\\n          1,\\n          2\\n        ]\\n      },\\n      \\\"nodes\\\": [\\n        {\\n          \\\"type\\\": \\\"MapEntry\\\",\\n          \\\"label\\\": \\\"mul_map[__i0=0:20, __i1=0:20]\\\",\\n          \\\"attributes\\\": {\\n            \\\"label\\\": \\\"mul_map\\\",\\n            \\\"params\\\": [\\n              \\\"__i0\\\",\\n              \\\"__i1\\\"\\n            ],\\n            \\\"range\\\": {\\n              \\\"type\\\": \\\"Range\\\",\\n              \\\"ranges\\\": [\\n                {\\n                  \\\"start\\\": \\\"0\\\",\\n                  \\\"end\\\": \\\"19\\\",\\n                  \\\"step\\\": \\\"1\\\",\\n                  \\\"tile\\\": \\\"1\\\"\\n                },\\n                {\\n                  \\\"start\\\": \\\"0\\\",\\n                  \\\"end\\\": \\\"19\\\",\\n                  \\\"step\\\": \\\"1\\\",\\n                  \\\"tile\\\": \\\"1\\\"\\n                }\\n              ]\\n            },\\n            \\\"schedule\\\": \\\"Default\\\",\\n            \\\"unroll\\\": false,\\n            \\\"collapse\\\": 1,\\n            \\\"debuginfo\\\": {\\n              \\\"type\\\": \\\"DebugInfo\\\",\\n              \\\"start_line\\\": 253,\\n              \\\"end_line\\\": 253,\\n              \\\"start_column\\\": 0,\\n              \\\"end_column\\\": 0,\\n              \\\"filename\\\": \\\"/home/quint_essent/git/1_CSCS/jax_demo/JaxprToSDFG/translators/simpleTranslator.py\\\"\\n            },\\n            \\\"is_collapsed\\\": false,\\n            \\\"instrument\\\": \\\"No_Instrumentation\\\",\\n            \\\"in_connectors\\\": {\\n              \\\"IN_b\\\": null,\\n              \\\"IN_c\\\": null\\n            },\\n            \\\"out_connectors\\\": {\\n              \\\"OUT_b\\\": null,\\n              \\\"OUT_c\\\": null\\n            }\\n          },\\n          \\\"id\\\": 0,\\n          \\\"scope_entry\\\": null,\\n          \\\"scope_exit\\\": \\\"2\\\"\\n        },\\n        {\\n          \\\"type\\\": \\\"Tasklet\\\",\\n          \\\"label\\\": \\\"mul\\\",\\n          \\\"attributes\\\": {\\n            \\\"code\\\": {\\n              \\\"string_data\\\": \\\"__out0 = (__in0 * __in1)\\\",\\n              \\\"language\\\": \\\"Python\\\"\\n            },\\n            \\\"state_fields\\\": [],\\n            \\\"code_global\\\": {\\n              \\\"string_data\\\": \\\"\\\",\\n              \\\"language\\\": \\\"CPP\\\"\\n            },\\n            \\\"code_init\\\": {\\n              \\\"string_data\\\": \\\"\\\",\\n              \\\"language\\\": \\\"CPP\\\"\\n            },\\n            \\\"code_exit\\\": {\\n              \\\"string_data\\\": \\\"\\\",\\n              \\\"language\\\": \\\"CPP\\\"\\n            },\\n            \\\"debuginfo\\\": {\\n              \\\"type\\\": \\\"DebugInfo\\\",\\n              \\\"start_line\\\": 253,\\n              \\\"end_line\\\": 253,\\n              \\\"start_column\\\": 0,\\n              \\\"end_column\\\": 0,\\n              \\\"filename\\\": \\\"/home/quint_essent/git/1_CSCS/jax_demo/JaxprToSDFG/translators/simpleTranslator.py\\\"\\n            },\\n            \\\"instrument\\\": \\\"No_Instrumentation\\\",\\n            \\\"side_effects\\\": null,\\n            \\\"ignored_symbols\\\": [],\\n            \\\"label\\\": \\\"mul\\\",\\n            \\\"location\\\": {},\\n            \\\"environments\\\": [],\\n            \\\"in_connectors\\\": {\\n              \\\"__in0\\\": null,\\n              \\\"__in1\\\": null\\n            },\\n            \\\"out_connectors\\\": {\\n              \\\"__out0\\\": null\\n            }\\n          },\\n          \\\"id\\\": 1,\\n          \\\"scope_entry\\\": \\\"0\\\",\\n          \\\"scope_exit\\\": \\\"2\\\"\\n        },\\n        {\\n          \\\"type\\\": \\\"MapExit\\\",\\n          \\\"label\\\": \\\"mul_map[__i0=0:20, __i1=0:20]\\\",\\n          \\\"attributes\\\": {\\n            \\\"in_connectors\\\": {\\n              \\\"IN_d\\\": null\\n            },\\n            \\\"out_connectors\\\": {\\n              \\\"OUT_d\\\": null\\n            }\\n          },\\n          \\\"id\\\": 2,\\n          \\\"scope_entry\\\": \\\"0\\\",\\n          \\\"scope_exit\\\": \\\"2\\\"\\n        },\\n        {\\n          \\\"type\\\": \\\"AccessNode\\\",\\n          \\\"label\\\": \\\"b\\\",\\n          \\\"attributes\\\": {\\n            \\\"setzero\\\": false,\\n            \\\"debuginfo\\\": {\\n              \\\"type\\\": \\\"DebugInfo\\\",\\n              \\\"start_line\\\": 1700,\\n              \\\"end_line\\\": 1700,\\n              \\\"start_column\\\": 0,\\n              \\\"end_column\\\": 0,\\n              \\\"filename\\\": \\\"/home/quint_essent/git/1_CSCS/jax_demo/dace/sdfg/state.py\\\"\\n            },\\n            \\\"data\\\": \\\"b\\\",\\n            \\\"instrument\\\": \\\"No_Instrumentation\\\",\\n            \\\"instrument_condition\\\": {\\n              \\\"string_data\\\": \\\"1\\\",\\n              \\\"language\\\": \\\"CPP\\\"\\n            },\\n            \\\"in_connectors\\\": {},\\n            \\\"out_connectors\\\": {}\\n          },\\n          \\\"id\\\": 3,\\n          \\\"scope_entry\\\": null,\\n          \\\"scope_exit\\\": null\\n        },\\n        {\\n          \\\"type\\\": \\\"AccessNode\\\",\\n          \\\"label\\\": \\\"c\\\",\\n          \\\"attributes\\\": {\\n            \\\"setzero\\\": false,\\n            \\\"debuginfo\\\": {\\n              \\\"type\\\": \\\"DebugInfo\\\",\\n              \\\"start_line\\\": 1700,\\n              \\\"end_line\\\": 1700,\\n              \\\"start_column\\\": 0,\\n              \\\"end_column\\\": 0,\\n              \\\"filename\\\": \\\"/home/quint_essent/git/1_CSCS/jax_demo/dace/sdfg/state.py\\\"\\n            },\\n            \\\"data\\\": \\\"c\\\",\\n            \\\"instrument\\\": \\\"No_Instrumentation\\\",\\n            \\\"instrument_condition\\\": {\\n              \\\"string_data\\\": \\\"1\\\",\\n              \\\"language\\\": \\\"CPP\\\"\\n            },\\n            \\\"in_connectors\\\": {},\\n            \\\"out_connectors\\\": {}\\n          },\\n          \\\"id\\\": 4,\\n          \\\"scope_entry\\\": null,\\n          \\\"scope_exit\\\": null\\n        },\\n        {\\n          \\\"type\\\": \\\"AccessNode\\\",\\n          \\\"label\\\": \\\"d\\\",\\n          \\\"attributes\\\": {\\n            \\\"setzero\\\": false,\\n            \\\"debuginfo\\\": {\\n              \\\"type\\\": \\\"DebugInfo\\\",\\n              \\\"start_line\\\": 1705,\\n              \\\"end_line\\\": 1705,\\n              \\\"start_column\\\": 0,\\n              \\\"end_column\\\": 0,\\n              \\\"filename\\\": \\\"/home/quint_essent/git/1_CSCS/jax_demo/dace/sdfg/state.py\\\"\\n            },\\n            \\\"data\\\": \\\"d\\\",\\n            \\\"instrument\\\": \\\"No_Instrumentation\\\",\\n            \\\"instrument_condition\\\": {\\n              \\\"string_data\\\": \\\"1\\\",\\n              \\\"language\\\": \\\"CPP\\\"\\n            },\\n            \\\"in_connectors\\\": {},\\n            \\\"out_connectors\\\": {}\\n          },\\n          \\\"id\\\": 5,\\n          \\\"scope_entry\\\": null,\\n          \\\"scope_exit\\\": null\\n        }\\n      ],\\n      \\\"edges\\\": [\\n        {\\n          \\\"type\\\": \\\"MultiConnectorEdge\\\",\\n          \\\"attributes\\\": {\\n            \\\"data\\\": {\\n              \\\"type\\\": \\\"Memlet\\\",\\n              \\\"attributes\\\": {\\n                \\\"volume\\\": \\\"400\\\",\\n                \\\"dynamic\\\": false,\\n                \\\"subset\\\": {\\n                  \\\"type\\\": \\\"Range\\\",\\n                  \\\"ranges\\\": [\\n                    {\\n                      \\\"start\\\": \\\"0\\\",\\n                      \\\"end\\\": \\\"19\\\",\\n                      \\\"step\\\": \\\"1\\\",\\n                      \\\"tile\\\": \\\"1\\\"\\n                    },\\n                    {\\n                      \\\"start\\\": \\\"0\\\",\\n                      \\\"end\\\": \\\"19\\\",\\n                      \\\"step\\\": \\\"1\\\",\\n                      \\\"tile\\\": \\\"1\\\"\\n                    }\\n                  ]\\n                },\\n                \\\"other_subset\\\": null,\\n                \\\"data\\\": \\\"b\\\",\\n                \\\"wcr\\\": null,\\n                \\\"debuginfo\\\": null,\\n                \\\"wcr_nonatomic\\\": false,\\n                \\\"allow_oob\\\": false,\\n                \\\"src_subset\\\": {\\n                  \\\"type\\\": \\\"Range\\\",\\n                  \\\"ranges\\\": [\\n                    {\\n                      \\\"start\\\": \\\"0\\\",\\n                      \\\"end\\\": \\\"19\\\",\\n                      \\\"step\\\": \\\"1\\\",\\n                      \\\"tile\\\": \\\"1\\\"\\n                    },\\n                    {\\n                      \\\"start\\\": \\\"0\\\",\\n                      \\\"end\\\": \\\"19\\\",\\n                      \\\"step\\\": \\\"1\\\",\\n                      \\\"tile\\\": \\\"1\\\"\\n                    }\\n                  ]\\n                },\\n                \\\"dst_subset\\\": null,\\n                \\\"is_data_src\\\": true,\\n                \\\"num_accesses\\\": \\\"400\\\"\\n              }\\n            }\\n          },\\n          \\\"src\\\": \\\"3\\\",\\n          \\\"dst\\\": \\\"0\\\",\\n          \\\"dst_connector\\\": \\\"IN_b\\\",\\n          \\\"src_connector\\\": null\\n        },\\n        {\\n          \\\"type\\\": \\\"MultiConnectorEdge\\\",\\n          \\\"attributes\\\": {\\n            \\\"data\\\": {\\n              \\\"type\\\": \\\"Memlet\\\",\\n              \\\"attributes\\\": {\\n                \\\"volume\\\": \\\"400\\\",\\n                \\\"dynamic\\\": false,\\n                \\\"subset\\\": {\\n                  \\\"type\\\": \\\"Range\\\",\\n                  \\\"ranges\\\": [\\n                    {\\n                      \\\"start\\\": \\\"0\\\",\\n                      \\\"end\\\": \\\"19\\\",\\n                      \\\"step\\\": \\\"1\\\",\\n                      \\\"tile\\\": \\\"1\\\"\\n                    },\\n                    {\\n                      \\\"start\\\": \\\"0\\\",\\n                      \\\"end\\\": \\\"19\\\",\\n                      \\\"step\\\": \\\"1\\\",\\n                      \\\"tile\\\": \\\"1\\\"\\n                    }\\n                  ]\\n                },\\n                \\\"other_subset\\\": null,\\n                \\\"data\\\": \\\"c\\\",\\n                \\\"wcr\\\": null,\\n                \\\"debuginfo\\\": null,\\n                \\\"wcr_nonatomic\\\": false,\\n                \\\"allow_oob\\\": false,\\n                \\\"src_subset\\\": {\\n                  \\\"type\\\": \\\"Range\\\",\\n                  \\\"ranges\\\": [\\n                    {\\n                      \\\"start\\\": \\\"0\\\",\\n                      \\\"end\\\": \\\"19\\\",\\n                      \\\"step\\\": \\\"1\\\",\\n                      \\\"tile\\\": \\\"1\\\"\\n                    },\\n                    {\\n                      \\\"start\\\": \\\"0\\\",\\n                      \\\"end\\\": \\\"19\\\",\\n                      \\\"step\\\": \\\"1\\\",\\n                      \\\"tile\\\": \\\"1\\\"\\n                    }\\n                  ]\\n                },\\n                \\\"dst_subset\\\": null,\\n                \\\"is_data_src\\\": true,\\n                \\\"num_accesses\\\": \\\"400\\\"\\n              }\\n            }\\n          },\\n          \\\"src\\\": \\\"4\\\",\\n          \\\"dst\\\": \\\"0\\\",\\n          \\\"dst_connector\\\": \\\"IN_c\\\",\\n          \\\"src_connector\\\": null\\n        },\\n        {\\n          \\\"type\\\": \\\"MultiConnectorEdge\\\",\\n          \\\"attributes\\\": {\\n            \\\"data\\\": {\\n              \\\"type\\\": \\\"Memlet\\\",\\n              \\\"attributes\\\": {\\n                \\\"volume\\\": \\\"1\\\",\\n                \\\"dynamic\\\": false,\\n                \\\"subset\\\": {\\n                  \\\"type\\\": \\\"Range\\\",\\n                  \\\"ranges\\\": [\\n                    {\\n                      \\\"start\\\": \\\"__i0\\\",\\n                      \\\"end\\\": \\\"__i0\\\",\\n                      \\\"step\\\": \\\"1\\\",\\n                      \\\"tile\\\": \\\"1\\\"\\n                    },\\n                    {\\n                      \\\"start\\\": \\\"__i1\\\",\\n                      \\\"end\\\": \\\"__i1\\\",\\n                      \\\"step\\\": \\\"1\\\",\\n                      \\\"tile\\\": \\\"1\\\"\\n                    }\\n                  ]\\n                },\\n                \\\"other_subset\\\": null,\\n                \\\"data\\\": \\\"b\\\",\\n                \\\"wcr\\\": null,\\n                \\\"debuginfo\\\": null,\\n                \\\"wcr_nonatomic\\\": false,\\n                \\\"allow_oob\\\": false,\\n                \\\"src_subset\\\": {\\n                  \\\"type\\\": \\\"Range\\\",\\n                  \\\"ranges\\\": [\\n                    {\\n                      \\\"start\\\": \\\"__i0\\\",\\n                      \\\"end\\\": \\\"__i0\\\",\\n                      \\\"step\\\": \\\"1\\\",\\n                      \\\"tile\\\": \\\"1\\\"\\n                    },\\n                    {\\n                      \\\"start\\\": \\\"__i1\\\",\\n                      \\\"end\\\": \\\"__i1\\\",\\n                      \\\"step\\\": \\\"1\\\",\\n                      \\\"tile\\\": \\\"1\\\"\\n                    }\\n                  ]\\n                },\\n                \\\"dst_subset\\\": null,\\n                \\\"is_data_src\\\": true,\\n                \\\"num_accesses\\\": \\\"1\\\"\\n              }\\n            }\\n          },\\n          \\\"src\\\": \\\"0\\\",\\n          \\\"dst\\\": \\\"1\\\",\\n          \\\"dst_connector\\\": \\\"__in0\\\",\\n          \\\"src_connector\\\": \\\"OUT_b\\\"\\n        },\\n        {\\n          \\\"type\\\": \\\"MultiConnectorEdge\\\",\\n          \\\"attributes\\\": {\\n            \\\"data\\\": {\\n              \\\"type\\\": \\\"Memlet\\\",\\n              \\\"attributes\\\": {\\n                \\\"volume\\\": \\\"1\\\",\\n                \\\"dynamic\\\": false,\\n                \\\"subset\\\": {\\n                  \\\"type\\\": \\\"Range\\\",\\n                  \\\"ranges\\\": [\\n                    {\\n                      \\\"start\\\": \\\"__i0\\\",\\n                      \\\"end\\\": \\\"__i0\\\",\\n                      \\\"step\\\": \\\"1\\\",\\n                      \\\"tile\\\": \\\"1\\\"\\n                    },\\n                    {\\n                      \\\"start\\\": \\\"__i1\\\",\\n                      \\\"end\\\": \\\"__i1\\\",\\n                      \\\"step\\\": \\\"1\\\",\\n                      \\\"tile\\\": \\\"1\\\"\\n                    }\\n                  ]\\n                },\\n                \\\"other_subset\\\": null,\\n                \\\"data\\\": \\\"c\\\",\\n                \\\"wcr\\\": null,\\n                \\\"debuginfo\\\": null,\\n                \\\"wcr_nonatomic\\\": false,\\n                \\\"allow_oob\\\": false,\\n                \\\"src_subset\\\": {\\n                  \\\"type\\\": \\\"Range\\\",\\n                  \\\"ranges\\\": [\\n                    {\\n                      \\\"start\\\": \\\"__i0\\\",\\n                      \\\"end\\\": \\\"__i0\\\",\\n                      \\\"step\\\": \\\"1\\\",\\n                      \\\"tile\\\": \\\"1\\\"\\n                    },\\n                    {\\n                      \\\"start\\\": \\\"__i1\\\",\\n                      \\\"end\\\": \\\"__i1\\\",\\n                      \\\"step\\\": \\\"1\\\",\\n                      \\\"tile\\\": \\\"1\\\"\\n                    }\\n                  ]\\n                },\\n                \\\"dst_subset\\\": null,\\n                \\\"is_data_src\\\": true,\\n                \\\"num_accesses\\\": \\\"1\\\"\\n              }\\n            }\\n          },\\n          \\\"src\\\": \\\"0\\\",\\n          \\\"dst\\\": \\\"1\\\",\\n          \\\"dst_connector\\\": \\\"__in1\\\",\\n          \\\"src_connector\\\": \\\"OUT_c\\\"\\n        },\\n        {\\n          \\\"type\\\": \\\"MultiConnectorEdge\\\",\\n          \\\"attributes\\\": {\\n            \\\"data\\\": {\\n              \\\"type\\\": \\\"Memlet\\\",\\n              \\\"attributes\\\": {\\n                \\\"volume\\\": \\\"400\\\",\\n                \\\"dynamic\\\": false,\\n                \\\"subset\\\": {\\n                  \\\"type\\\": \\\"Range\\\",\\n                  \\\"ranges\\\": [\\n                    {\\n                      \\\"start\\\": \\\"0\\\",\\n                      \\\"end\\\": \\\"19\\\",\\n                      \\\"step\\\": \\\"1\\\",\\n                      \\\"tile\\\": \\\"1\\\"\\n                    },\\n                    {\\n                      \\\"start\\\": \\\"0\\\",\\n                      \\\"end\\\": \\\"19\\\",\\n                      \\\"step\\\": \\\"1\\\",\\n                      \\\"tile\\\": \\\"1\\\"\\n                    }\\n                  ]\\n                },\\n                \\\"other_subset\\\": null,\\n                \\\"data\\\": \\\"d\\\",\\n                \\\"wcr\\\": null,\\n                \\\"debuginfo\\\": null,\\n                \\\"wcr_nonatomic\\\": false,\\n                \\\"allow_oob\\\": false,\\n                \\\"src_subset\\\": null,\\n                \\\"dst_subset\\\": {\\n                  \\\"type\\\": \\\"Range\\\",\\n                  \\\"ranges\\\": [\\n                    {\\n                      \\\"start\\\": \\\"0\\\",\\n                      \\\"end\\\": \\\"19\\\",\\n                      \\\"step\\\": \\\"1\\\",\\n                      \\\"tile\\\": \\\"1\\\"\\n                    },\\n                    {\\n                      \\\"start\\\": \\\"0\\\",\\n                      \\\"end\\\": \\\"19\\\",\\n                      \\\"step\\\": \\\"1\\\",\\n                      \\\"tile\\\": \\\"1\\\"\\n                    }\\n                  ]\\n                },\\n                \\\"is_data_src\\\": false,\\n                \\\"num_accesses\\\": \\\"400\\\"\\n              }\\n            }\\n          },\\n          \\\"src\\\": \\\"2\\\",\\n          \\\"dst\\\": \\\"5\\\",\\n          \\\"dst_connector\\\": null,\\n          \\\"src_connector\\\": \\\"OUT_d\\\"\\n        },\\n        {\\n          \\\"type\\\": \\\"MultiConnectorEdge\\\",\\n          \\\"attributes\\\": {\\n            \\\"data\\\": {\\n              \\\"type\\\": \\\"Memlet\\\",\\n              \\\"attributes\\\": {\\n                \\\"volume\\\": \\\"1\\\",\\n                \\\"dynamic\\\": false,\\n                \\\"subset\\\": {\\n                  \\\"type\\\": \\\"Range\\\",\\n                  \\\"ranges\\\": [\\n                    {\\n                      \\\"start\\\": \\\"__i0\\\",\\n                      \\\"end\\\": \\\"__i0\\\",\\n                      \\\"step\\\": \\\"1\\\",\\n                      \\\"tile\\\": \\\"1\\\"\\n                    },\\n                    {\\n                      \\\"start\\\": \\\"__i1\\\",\\n                      \\\"end\\\": \\\"__i1\\\",\\n                      \\\"step\\\": \\\"1\\\",\\n                      \\\"tile\\\": \\\"1\\\"\\n                    }\\n                  ]\\n                },\\n                \\\"other_subset\\\": null,\\n                \\\"data\\\": \\\"d\\\",\\n                \\\"wcr\\\": null,\\n                \\\"debuginfo\\\": null,\\n                \\\"wcr_nonatomic\\\": false,\\n                \\\"allow_oob\\\": false,\\n                \\\"src_subset\\\": null,\\n                \\\"dst_subset\\\": {\\n                  \\\"type\\\": \\\"Range\\\",\\n                  \\\"ranges\\\": [\\n                    {\\n                      \\\"start\\\": \\\"__i0\\\",\\n                      \\\"end\\\": \\\"__i0\\\",\\n                      \\\"step\\\": \\\"1\\\",\\n                      \\\"tile\\\": \\\"1\\\"\\n                    },\\n                    {\\n                      \\\"start\\\": \\\"__i1\\\",\\n                      \\\"end\\\": \\\"__i1\\\",\\n                      \\\"step\\\": \\\"1\\\",\\n                      \\\"tile\\\": \\\"1\\\"\\n                    }\\n                  ]\\n                },\\n                \\\"is_data_src\\\": false,\\n                \\\"num_accesses\\\": \\\"1\\\"\\n              }\\n            }\\n          },\\n          \\\"src\\\": \\\"1\\\",\\n          \\\"dst\\\": \\\"2\\\",\\n          \\\"dst_connector\\\": \\\"IN_d\\\",\\n          \\\"src_connector\\\": \\\"__out0\\\"\\n        }\\n      ],\\n      \\\"attributes\\\": {\\n        \\\"nosync\\\": false,\\n        \\\"instrument\\\": \\\"No_Instrumentation\\\",\\n        \\\"symbol_instrument\\\": \\\"No_Instrumentation\\\",\\n        \\\"symbol_instrument_condition\\\": {\\n          \\\"string_data\\\": \\\"1\\\",\\n          \\\"language\\\": \\\"CPP\\\"\\n        },\\n        \\\"executions\\\": \\\"0\\\",\\n        \\\"dynamic_executions\\\": true,\\n        \\\"ranges\\\": {},\\n        \\\"location\\\": {},\\n        \\\"is_collapsed\\\": false\\n      }\\n    },\\n    {\\n      \\\"type\\\": \\\"SDFGState\\\",\\n      \\\"label\\\": \\\"add_e__139774412336736\\\",\\n      \\\"id\\\": 2,\\n      \\\"collapsed\\\": false,\\n      \\\"scope_dict\\\": {\\n        \\\"-1\\\": [\\n          0,\\n          3,\\n          4,\\n          5\\n        ],\\n        \\\"0\\\": [\\n          1,\\n          2\\n        ]\\n      },\\n      \\\"nodes\\\": [\\n        {\\n          \\\"type\\\": \\\"MapEntry\\\",\\n          \\\"label\\\": \\\"add_map[__i0=0:20, __i1=0:20]\\\",\\n          \\\"attributes\\\": {\\n            \\\"label\\\": \\\"add_map\\\",\\n            \\\"params\\\": [\\n              \\\"__i0\\\",\\n              \\\"__i1\\\"\\n            ],\\n            \\\"range\\\": {\\n              \\\"type\\\": \\\"Range\\\",\\n              \\\"ranges\\\": [\\n                {\\n                  \\\"start\\\": \\\"0\\\",\\n                  \\\"end\\\": \\\"19\\\",\\n                  \\\"step\\\": \\\"1\\\",\\n                  \\\"tile\\\": \\\"1\\\"\\n                },\\n                {\\n                  \\\"start\\\": \\\"0\\\",\\n                  \\\"end\\\": \\\"19\\\",\\n                  \\\"step\\\": \\\"1\\\",\\n                  \\\"tile\\\": \\\"1\\\"\\n                }\\n              ]\\n            },\\n            \\\"schedule\\\": \\\"Default\\\",\\n            \\\"unroll\\\": false,\\n            \\\"collapse\\\": 1,\\n            \\\"debuginfo\\\": {\\n              \\\"type\\\": \\\"DebugInfo\\\",\\n              \\\"start_line\\\": 253,\\n              \\\"end_line\\\": 253,\\n              \\\"start_column\\\": 0,\\n              \\\"end_column\\\": 0,\\n              \\\"filename\\\": \\\"/home/quint_essent/git/1_CSCS/jax_demo/JaxprToSDFG/translators/simpleTranslator.py\\\"\\n            },\\n            \\\"is_collapsed\\\": false,\\n            \\\"instrument\\\": \\\"No_Instrumentation\\\",\\n            \\\"in_connectors\\\": {\\n              \\\"IN_a\\\": null,\\n              \\\"IN_d\\\": null\\n            },\\n            \\\"out_connectors\\\": {\\n              \\\"OUT_a\\\": null,\\n              \\\"OUT_d\\\": null\\n            }\\n          },\\n          \\\"id\\\": 0,\\n          \\\"scope_entry\\\": null,\\n          \\\"scope_exit\\\": \\\"2\\\"\\n        },\\n        {\\n          \\\"type\\\": \\\"Tasklet\\\",\\n          \\\"label\\\": \\\"add\\\",\\n          \\\"attributes\\\": {\\n            \\\"code\\\": {\\n              \\\"string_data\\\": \\\"__out0 = (__in0 + __in1)\\\",\\n              \\\"language\\\": \\\"Python\\\"\\n            },\\n            \\\"state_fields\\\": [],\\n            \\\"code_global\\\": {\\n              \\\"string_data\\\": \\\"\\\",\\n              \\\"language\\\": \\\"CPP\\\"\\n            },\\n            \\\"code_init\\\": {\\n              \\\"string_data\\\": \\\"\\\",\\n              \\\"language\\\": \\\"CPP\\\"\\n            },\\n            \\\"code_exit\\\": {\\n              \\\"string_data\\\": \\\"\\\",\\n              \\\"language\\\": \\\"CPP\\\"\\n            },\\n            \\\"debuginfo\\\": {\\n              \\\"type\\\": \\\"DebugInfo\\\",\\n              \\\"start_line\\\": 253,\\n              \\\"end_line\\\": 253,\\n              \\\"start_column\\\": 0,\\n              \\\"end_column\\\": 0,\\n              \\\"filename\\\": \\\"/home/quint_essent/git/1_CSCS/jax_demo/JaxprToSDFG/translators/simpleTranslator.py\\\"\\n            },\\n            \\\"instrument\\\": \\\"No_Instrumentation\\\",\\n            \\\"side_effects\\\": null,\\n            \\\"ignored_symbols\\\": [],\\n            \\\"label\\\": \\\"add\\\",\\n            \\\"location\\\": {},\\n            \\\"environments\\\": [],\\n            \\\"in_connectors\\\": {\\n              \\\"__in0\\\": null,\\n              \\\"__in1\\\": null\\n            },\\n            \\\"out_connectors\\\": {\\n              \\\"__out0\\\": null\\n            }\\n          },\\n          \\\"id\\\": 1,\\n          \\\"scope_entry\\\": \\\"0\\\",\\n          \\\"scope_exit\\\": \\\"2\\\"\\n        },\\n        {\\n          \\\"type\\\": \\\"MapExit\\\",\\n          \\\"label\\\": \\\"add_map[__i0=0:20, __i1=0:20]\\\",\\n          \\\"attributes\\\": {\\n            \\\"in_connectors\\\": {\\n              \\\"IN_e\\\": null\\n            },\\n            \\\"out_connectors\\\": {\\n              \\\"OUT_e\\\": null\\n            }\\n          },\\n          \\\"id\\\": 2,\\n          \\\"scope_entry\\\": \\\"0\\\",\\n          \\\"scope_exit\\\": \\\"2\\\"\\n        },\\n        {\\n          \\\"type\\\": \\\"AccessNode\\\",\\n          \\\"label\\\": \\\"a\\\",\\n          \\\"attributes\\\": {\\n            \\\"setzero\\\": false,\\n            \\\"debuginfo\\\": {\\n              \\\"type\\\": \\\"DebugInfo\\\",\\n              \\\"start_line\\\": 1700,\\n              \\\"end_line\\\": 1700,\\n              \\\"start_column\\\": 0,\\n              \\\"end_column\\\": 0,\\n              \\\"filename\\\": \\\"/home/quint_essent/git/1_CSCS/jax_demo/dace/sdfg/state.py\\\"\\n            },\\n            \\\"data\\\": \\\"a\\\",\\n            \\\"instrument\\\": \\\"No_Instrumentation\\\",\\n            \\\"instrument_condition\\\": {\\n              \\\"string_data\\\": \\\"1\\\",\\n              \\\"language\\\": \\\"CPP\\\"\\n            },\\n            \\\"in_connectors\\\": {},\\n            \\\"out_connectors\\\": {}\\n          },\\n          \\\"id\\\": 3,\\n          \\\"scope_entry\\\": null,\\n          \\\"scope_exit\\\": null\\n        },\\n        {\\n          \\\"type\\\": \\\"AccessNode\\\",\\n          \\\"label\\\": \\\"d\\\",\\n          \\\"attributes\\\": {\\n            \\\"setzero\\\": false,\\n            \\\"debuginfo\\\": {\\n              \\\"type\\\": \\\"DebugInfo\\\",\\n              \\\"start_line\\\": 1700,\\n              \\\"end_line\\\": 1700,\\n              \\\"start_column\\\": 0,\\n              \\\"end_column\\\": 0,\\n              \\\"filename\\\": \\\"/home/quint_essent/git/1_CSCS/jax_demo/dace/sdfg/state.py\\\"\\n            },\\n            \\\"data\\\": \\\"d\\\",\\n            \\\"instrument\\\": \\\"No_Instrumentation\\\",\\n            \\\"instrument_condition\\\": {\\n              \\\"string_data\\\": \\\"1\\\",\\n              \\\"language\\\": \\\"CPP\\\"\\n            },\\n            \\\"in_connectors\\\": {},\\n            \\\"out_connectors\\\": {}\\n          },\\n          \\\"id\\\": 4,\\n          \\\"scope_entry\\\": null,\\n          \\\"scope_exit\\\": null\\n        },\\n        {\\n          \\\"type\\\": \\\"AccessNode\\\",\\n          \\\"label\\\": \\\"e\\\",\\n          \\\"attributes\\\": {\\n            \\\"setzero\\\": false,\\n            \\\"debuginfo\\\": {\\n              \\\"type\\\": \\\"DebugInfo\\\",\\n              \\\"start_line\\\": 1705,\\n              \\\"end_line\\\": 1705,\\n              \\\"start_column\\\": 0,\\n              \\\"end_column\\\": 0,\\n              \\\"filename\\\": \\\"/home/quint_essent/git/1_CSCS/jax_demo/dace/sdfg/state.py\\\"\\n            },\\n            \\\"data\\\": \\\"e\\\",\\n            \\\"instrument\\\": \\\"No_Instrumentation\\\",\\n            \\\"instrument_condition\\\": {\\n              \\\"string_data\\\": \\\"1\\\",\\n              \\\"language\\\": \\\"CPP\\\"\\n            },\\n            \\\"in_connectors\\\": {},\\n            \\\"out_connectors\\\": {}\\n          },\\n          \\\"id\\\": 5,\\n          \\\"scope_entry\\\": null,\\n          \\\"scope_exit\\\": null\\n        }\\n      ],\\n      \\\"edges\\\": [\\n        {\\n          \\\"type\\\": \\\"MultiConnectorEdge\\\",\\n          \\\"attributes\\\": {\\n            \\\"data\\\": {\\n              \\\"type\\\": \\\"Memlet\\\",\\n              \\\"attributes\\\": {\\n                \\\"volume\\\": \\\"400\\\",\\n                \\\"dynamic\\\": false,\\n                \\\"subset\\\": {\\n                  \\\"type\\\": \\\"Range\\\",\\n                  \\\"ranges\\\": [\\n                    {\\n                      \\\"start\\\": \\\"0\\\",\\n                      \\\"end\\\": \\\"19\\\",\\n                      \\\"step\\\": \\\"1\\\",\\n                      \\\"tile\\\": \\\"1\\\"\\n                    },\\n                    {\\n                      \\\"start\\\": \\\"0\\\",\\n                      \\\"end\\\": \\\"19\\\",\\n                      \\\"step\\\": \\\"1\\\",\\n                      \\\"tile\\\": \\\"1\\\"\\n                    }\\n                  ]\\n                },\\n                \\\"other_subset\\\": null,\\n                \\\"data\\\": \\\"a\\\",\\n                \\\"wcr\\\": null,\\n                \\\"debuginfo\\\": null,\\n                \\\"wcr_nonatomic\\\": false,\\n                \\\"allow_oob\\\": false,\\n                \\\"src_subset\\\": {\\n                  \\\"type\\\": \\\"Range\\\",\\n                  \\\"ranges\\\": [\\n                    {\\n                      \\\"start\\\": \\\"0\\\",\\n                      \\\"end\\\": \\\"19\\\",\\n                      \\\"step\\\": \\\"1\\\",\\n                      \\\"tile\\\": \\\"1\\\"\\n                    },\\n                    {\\n                      \\\"start\\\": \\\"0\\\",\\n                      \\\"end\\\": \\\"19\\\",\\n                      \\\"step\\\": \\\"1\\\",\\n                      \\\"tile\\\": \\\"1\\\"\\n                    }\\n                  ]\\n                },\\n                \\\"dst_subset\\\": null,\\n                \\\"is_data_src\\\": true,\\n                \\\"num_accesses\\\": \\\"400\\\"\\n              }\\n            }\\n          },\\n          \\\"src\\\": \\\"3\\\",\\n          \\\"dst\\\": \\\"0\\\",\\n          \\\"dst_connector\\\": \\\"IN_a\\\",\\n          \\\"src_connector\\\": null\\n        },\\n        {\\n          \\\"type\\\": \\\"MultiConnectorEdge\\\",\\n          \\\"attributes\\\": {\\n            \\\"data\\\": {\\n              \\\"type\\\": \\\"Memlet\\\",\\n              \\\"attributes\\\": {\\n                \\\"volume\\\": \\\"400\\\",\\n                \\\"dynamic\\\": false,\\n                \\\"subset\\\": {\\n                  \\\"type\\\": \\\"Range\\\",\\n                  \\\"ranges\\\": [\\n                    {\\n                      \\\"start\\\": \\\"0\\\",\\n                      \\\"end\\\": \\\"19\\\",\\n                      \\\"step\\\": \\\"1\\\",\\n                      \\\"tile\\\": \\\"1\\\"\\n                    },\\n                    {\\n                      \\\"start\\\": \\\"0\\\",\\n                      \\\"end\\\": \\\"19\\\",\\n                      \\\"step\\\": \\\"1\\\",\\n                      \\\"tile\\\": \\\"1\\\"\\n                    }\\n                  ]\\n                },\\n                \\\"other_subset\\\": null,\\n                \\\"data\\\": \\\"d\\\",\\n                \\\"wcr\\\": null,\\n                \\\"debuginfo\\\": null,\\n                \\\"wcr_nonatomic\\\": false,\\n                \\\"allow_oob\\\": false,\\n                \\\"src_subset\\\": {\\n                  \\\"type\\\": \\\"Range\\\",\\n                  \\\"ranges\\\": [\\n                    {\\n                      \\\"start\\\": \\\"0\\\",\\n                      \\\"end\\\": \\\"19\\\",\\n                      \\\"step\\\": \\\"1\\\",\\n                      \\\"tile\\\": \\\"1\\\"\\n                    },\\n                    {\\n                      \\\"start\\\": \\\"0\\\",\\n                      \\\"end\\\": \\\"19\\\",\\n                      \\\"step\\\": \\\"1\\\",\\n                      \\\"tile\\\": \\\"1\\\"\\n                    }\\n                  ]\\n                },\\n                \\\"dst_subset\\\": null,\\n                \\\"is_data_src\\\": true,\\n                \\\"num_accesses\\\": \\\"400\\\"\\n              }\\n            }\\n          },\\n          \\\"src\\\": \\\"4\\\",\\n          \\\"dst\\\": \\\"0\\\",\\n          \\\"dst_connector\\\": \\\"IN_d\\\",\\n          \\\"src_connector\\\": null\\n        },\\n        {\\n          \\\"type\\\": \\\"MultiConnectorEdge\\\",\\n          \\\"attributes\\\": {\\n            \\\"data\\\": {\\n              \\\"type\\\": \\\"Memlet\\\",\\n              \\\"attributes\\\": {\\n                \\\"volume\\\": \\\"1\\\",\\n                \\\"dynamic\\\": false,\\n                \\\"subset\\\": {\\n                  \\\"type\\\": \\\"Range\\\",\\n                  \\\"ranges\\\": [\\n                    {\\n                      \\\"start\\\": \\\"__i0\\\",\\n                      \\\"end\\\": \\\"__i0\\\",\\n                      \\\"step\\\": \\\"1\\\",\\n                      \\\"tile\\\": \\\"1\\\"\\n                    },\\n                    {\\n                      \\\"start\\\": \\\"__i1\\\",\\n                      \\\"end\\\": \\\"__i1\\\",\\n                      \\\"step\\\": \\\"1\\\",\\n                      \\\"tile\\\": \\\"1\\\"\\n                    }\\n                  ]\\n                },\\n                \\\"other_subset\\\": null,\\n                \\\"data\\\": \\\"a\\\",\\n                \\\"wcr\\\": null,\\n                \\\"debuginfo\\\": null,\\n                \\\"wcr_nonatomic\\\": false,\\n                \\\"allow_oob\\\": false,\\n                \\\"src_subset\\\": {\\n                  \\\"type\\\": \\\"Range\\\",\\n                  \\\"ranges\\\": [\\n                    {\\n                      \\\"start\\\": \\\"__i0\\\",\\n                      \\\"end\\\": \\\"__i0\\\",\\n                      \\\"step\\\": \\\"1\\\",\\n                      \\\"tile\\\": \\\"1\\\"\\n                    },\\n                    {\\n                      \\\"start\\\": \\\"__i1\\\",\\n                      \\\"end\\\": \\\"__i1\\\",\\n                      \\\"step\\\": \\\"1\\\",\\n                      \\\"tile\\\": \\\"1\\\"\\n                    }\\n                  ]\\n                },\\n                \\\"dst_subset\\\": null,\\n                \\\"is_data_src\\\": true,\\n                \\\"num_accesses\\\": \\\"1\\\"\\n              }\\n            }\\n          },\\n          \\\"src\\\": \\\"0\\\",\\n          \\\"dst\\\": \\\"1\\\",\\n          \\\"dst_connector\\\": \\\"__in0\\\",\\n          \\\"src_connector\\\": \\\"OUT_a\\\"\\n        },\\n        {\\n          \\\"type\\\": \\\"MultiConnectorEdge\\\",\\n          \\\"attributes\\\": {\\n            \\\"data\\\": {\\n              \\\"type\\\": \\\"Memlet\\\",\\n              \\\"attributes\\\": {\\n                \\\"volume\\\": \\\"1\\\",\\n                \\\"dynamic\\\": false,\\n                \\\"subset\\\": {\\n                  \\\"type\\\": \\\"Range\\\",\\n                  \\\"ranges\\\": [\\n                    {\\n                      \\\"start\\\": \\\"__i0\\\",\\n                      \\\"end\\\": \\\"__i0\\\",\\n                      \\\"step\\\": \\\"1\\\",\\n                      \\\"tile\\\": \\\"1\\\"\\n                    },\\n                    {\\n                      \\\"start\\\": \\\"__i1\\\",\\n                      \\\"end\\\": \\\"__i1\\\",\\n                      \\\"step\\\": \\\"1\\\",\\n                      \\\"tile\\\": \\\"1\\\"\\n                    }\\n                  ]\\n                },\\n                \\\"other_subset\\\": null,\\n                \\\"data\\\": \\\"d\\\",\\n                \\\"wcr\\\": null,\\n                \\\"debuginfo\\\": null,\\n                \\\"wcr_nonatomic\\\": false,\\n                \\\"allow_oob\\\": false,\\n                \\\"src_subset\\\": {\\n                  \\\"type\\\": \\\"Range\\\",\\n                  \\\"ranges\\\": [\\n                    {\\n                      \\\"start\\\": \\\"__i0\\\",\\n                      \\\"end\\\": \\\"__i0\\\",\\n                      \\\"step\\\": \\\"1\\\",\\n                      \\\"tile\\\": \\\"1\\\"\\n                    },\\n                    {\\n                      \\\"start\\\": \\\"__i1\\\",\\n                      \\\"end\\\": \\\"__i1\\\",\\n                      \\\"step\\\": \\\"1\\\",\\n                      \\\"tile\\\": \\\"1\\\"\\n                    }\\n                  ]\\n                },\\n                \\\"dst_subset\\\": null,\\n                \\\"is_data_src\\\": true,\\n                \\\"num_accesses\\\": \\\"1\\\"\\n              }\\n            }\\n          },\\n          \\\"src\\\": \\\"0\\\",\\n          \\\"dst\\\": \\\"1\\\",\\n          \\\"dst_connector\\\": \\\"__in1\\\",\\n          \\\"src_connector\\\": \\\"OUT_d\\\"\\n        },\\n        {\\n          \\\"type\\\": \\\"MultiConnectorEdge\\\",\\n          \\\"attributes\\\": {\\n            \\\"data\\\": {\\n              \\\"type\\\": \\\"Memlet\\\",\\n              \\\"attributes\\\": {\\n                \\\"volume\\\": \\\"400\\\",\\n                \\\"dynamic\\\": false,\\n                \\\"subset\\\": {\\n                  \\\"type\\\": \\\"Range\\\",\\n                  \\\"ranges\\\": [\\n                    {\\n                      \\\"start\\\": \\\"0\\\",\\n                      \\\"end\\\": \\\"19\\\",\\n                      \\\"step\\\": \\\"1\\\",\\n                      \\\"tile\\\": \\\"1\\\"\\n                    },\\n                    {\\n                      \\\"start\\\": \\\"0\\\",\\n                      \\\"end\\\": \\\"19\\\",\\n                      \\\"step\\\": \\\"1\\\",\\n                      \\\"tile\\\": \\\"1\\\"\\n                    }\\n                  ]\\n                },\\n                \\\"other_subset\\\": null,\\n                \\\"data\\\": \\\"e\\\",\\n                \\\"wcr\\\": null,\\n                \\\"debuginfo\\\": null,\\n                \\\"wcr_nonatomic\\\": false,\\n                \\\"allow_oob\\\": false,\\n                \\\"src_subset\\\": null,\\n                \\\"dst_subset\\\": {\\n                  \\\"type\\\": \\\"Range\\\",\\n                  \\\"ranges\\\": [\\n                    {\\n                      \\\"start\\\": \\\"0\\\",\\n                      \\\"end\\\": \\\"19\\\",\\n                      \\\"step\\\": \\\"1\\\",\\n                      \\\"tile\\\": \\\"1\\\"\\n                    },\\n                    {\\n                      \\\"start\\\": \\\"0\\\",\\n                      \\\"end\\\": \\\"19\\\",\\n                      \\\"step\\\": \\\"1\\\",\\n                      \\\"tile\\\": \\\"1\\\"\\n                    }\\n                  ]\\n                },\\n                \\\"is_data_src\\\": false,\\n                \\\"num_accesses\\\": \\\"400\\\"\\n              }\\n            }\\n          },\\n          \\\"src\\\": \\\"2\\\",\\n          \\\"dst\\\": \\\"5\\\",\\n          \\\"dst_connector\\\": null,\\n          \\\"src_connector\\\": \\\"OUT_e\\\"\\n        },\\n        {\\n          \\\"type\\\": \\\"MultiConnectorEdge\\\",\\n          \\\"attributes\\\": {\\n            \\\"data\\\": {\\n              \\\"type\\\": \\\"Memlet\\\",\\n              \\\"attributes\\\": {\\n                \\\"volume\\\": \\\"1\\\",\\n                \\\"dynamic\\\": false,\\n                \\\"subset\\\": {\\n                  \\\"type\\\": \\\"Range\\\",\\n                  \\\"ranges\\\": [\\n                    {\\n                      \\\"start\\\": \\\"__i0\\\",\\n                      \\\"end\\\": \\\"__i0\\\",\\n                      \\\"step\\\": \\\"1\\\",\\n                      \\\"tile\\\": \\\"1\\\"\\n                    },\\n                    {\\n                      \\\"start\\\": \\\"__i1\\\",\\n                      \\\"end\\\": \\\"__i1\\\",\\n                      \\\"step\\\": \\\"1\\\",\\n                      \\\"tile\\\": \\\"1\\\"\\n                    }\\n                  ]\\n                },\\n                \\\"other_subset\\\": null,\\n                \\\"data\\\": \\\"e\\\",\\n                \\\"wcr\\\": null,\\n                \\\"debuginfo\\\": null,\\n                \\\"wcr_nonatomic\\\": false,\\n                \\\"allow_oob\\\": false,\\n                \\\"src_subset\\\": null,\\n                \\\"dst_subset\\\": {\\n                  \\\"type\\\": \\\"Range\\\",\\n                  \\\"ranges\\\": [\\n                    {\\n                      \\\"start\\\": \\\"__i0\\\",\\n                      \\\"end\\\": \\\"__i0\\\",\\n                      \\\"step\\\": \\\"1\\\",\\n                      \\\"tile\\\": \\\"1\\\"\\n                    },\\n                    {\\n                      \\\"start\\\": \\\"__i1\\\",\\n                      \\\"end\\\": \\\"__i1\\\",\\n                      \\\"step\\\": \\\"1\\\",\\n                      \\\"tile\\\": \\\"1\\\"\\n                    }\\n                  ]\\n                },\\n                \\\"is_data_src\\\": false,\\n                \\\"num_accesses\\\": \\\"1\\\"\\n              }\\n            }\\n          },\\n          \\\"src\\\": \\\"1\\\",\\n          \\\"dst\\\": \\\"2\\\",\\n          \\\"dst_connector\\\": \\\"IN_e\\\",\\n          \\\"src_connector\\\": \\\"__out0\\\"\\n        }\\n      ],\\n      \\\"attributes\\\": {\\n        \\\"nosync\\\": false,\\n        \\\"instrument\\\": \\\"No_Instrumentation\\\",\\n        \\\"symbol_instrument\\\": \\\"No_Instrumentation\\\",\\n        \\\"symbol_instrument_condition\\\": {\\n          \\\"string_data\\\": \\\"1\\\",\\n          \\\"language\\\": \\\"CPP\\\"\\n        },\\n        \\\"executions\\\": \\\"0\\\",\\n        \\\"dynamic_executions\\\": true,\\n        \\\"ranges\\\": {},\\n        \\\"location\\\": {},\\n        \\\"is_collapsed\\\": false\\n      }\\n    },\\n    {\\n      \\\"type\\\": \\\"SDFGState\\\",\\n      \\\"label\\\": \\\"Final_State\\\",\\n      \\\"id\\\": 3,\\n      \\\"collapsed\\\": false,\\n      \\\"scope_dict\\\": {\\n        \\\"-1\\\": [\\n          0,\\n          1\\n        ]\\n      },\\n      \\\"nodes\\\": [\\n        {\\n          \\\"type\\\": \\\"AccessNode\\\",\\n          \\\"label\\\": \\\"e\\\",\\n          \\\"attributes\\\": {\\n            \\\"setzero\\\": false,\\n            \\\"debuginfo\\\": {\\n              \\\"type\\\": \\\"DebugInfo\\\",\\n              \\\"start_line\\\": 297,\\n              \\\"end_line\\\": 297,\\n              \\\"start_column\\\": 0,\\n              \\\"end_column\\\": 0,\\n              \\\"filename\\\": \\\"/home/quint_essent/git/1_CSCS/jax_demo/JaxprToSDFG/JaxprToSDFG.py\\\"\\n            },\\n            \\\"data\\\": \\\"e\\\",\\n            \\\"instrument\\\": \\\"No_Instrumentation\\\",\\n            \\\"instrument_condition\\\": {\\n              \\\"string_data\\\": \\\"1\\\",\\n              \\\"language\\\": \\\"CPP\\\"\\n            },\\n            \\\"in_connectors\\\": {},\\n            \\\"out_connectors\\\": {}\\n          },\\n          \\\"id\\\": 0,\\n          \\\"scope_entry\\\": null,\\n          \\\"scope_exit\\\": null\\n        },\\n        {\\n          \\\"type\\\": \\\"AccessNode\\\",\\n          \\\"label\\\": \\\"__return\\\",\\n          \\\"attributes\\\": {\\n            \\\"setzero\\\": false,\\n            \\\"debuginfo\\\": {\\n              \\\"type\\\": \\\"DebugInfo\\\",\\n              \\\"start_line\\\": 298,\\n              \\\"end_line\\\": 298,\\n              \\\"start_column\\\": 0,\\n              \\\"end_column\\\": 0,\\n              \\\"filename\\\": \\\"/home/quint_essent/git/1_CSCS/jax_demo/JaxprToSDFG/JaxprToSDFG.py\\\"\\n            },\\n            \\\"data\\\": \\\"__return\\\",\\n            \\\"instrument\\\": \\\"No_Instrumentation\\\",\\n            \\\"instrument_condition\\\": {\\n              \\\"string_data\\\": \\\"1\\\",\\n              \\\"language\\\": \\\"CPP\\\"\\n            },\\n            \\\"in_connectors\\\": {},\\n            \\\"out_connectors\\\": {}\\n          },\\n          \\\"id\\\": 1,\\n          \\\"scope_entry\\\": null,\\n          \\\"scope_exit\\\": null\\n        }\\n      ],\\n      \\\"edges\\\": [\\n        {\\n          \\\"type\\\": \\\"MultiConnectorEdge\\\",\\n          \\\"attributes\\\": {\\n            \\\"data\\\": {\\n              \\\"type\\\": \\\"Memlet\\\",\\n              \\\"attributes\\\": {\\n                \\\"volume\\\": \\\"400\\\",\\n                \\\"dynamic\\\": false,\\n                \\\"subset\\\": {\\n                  \\\"type\\\": \\\"Range\\\",\\n                  \\\"ranges\\\": [\\n                    {\\n                      \\\"start\\\": \\\"0\\\",\\n                      \\\"end\\\": \\\"19\\\",\\n                      \\\"step\\\": \\\"1\\\",\\n                      \\\"tile\\\": \\\"1\\\"\\n                    },\\n                    {\\n                      \\\"start\\\": \\\"0\\\",\\n                      \\\"end\\\": \\\"19\\\",\\n                      \\\"step\\\": \\\"1\\\",\\n                      \\\"tile\\\": \\\"1\\\"\\n                    }\\n                  ]\\n                },\\n                \\\"other_subset\\\": null,\\n                \\\"data\\\": \\\"__return\\\",\\n                \\\"wcr\\\": null,\\n                \\\"debuginfo\\\": null,\\n                \\\"wcr_nonatomic\\\": false,\\n                \\\"allow_oob\\\": false,\\n                \\\"src_subset\\\": null,\\n                \\\"dst_subset\\\": {\\n                  \\\"type\\\": \\\"Range\\\",\\n                  \\\"ranges\\\": [\\n                    {\\n                      \\\"start\\\": \\\"0\\\",\\n                      \\\"end\\\": \\\"19\\\",\\n                      \\\"step\\\": \\\"1\\\",\\n                      \\\"tile\\\": \\\"1\\\"\\n                    },\\n                    {\\n                      \\\"start\\\": \\\"0\\\",\\n                      \\\"end\\\": \\\"19\\\",\\n                      \\\"step\\\": \\\"1\\\",\\n                      \\\"tile\\\": \\\"1\\\"\\n                    }\\n                  ]\\n                },\\n                \\\"is_data_src\\\": false,\\n                \\\"num_accesses\\\": \\\"400\\\"\\n              }\\n            }\\n          },\\n          \\\"src\\\": \\\"0\\\",\\n          \\\"dst\\\": \\\"1\\\",\\n          \\\"dst_connector\\\": null,\\n          \\\"src_connector\\\": null\\n        }\\n      ],\\n      \\\"attributes\\\": {\\n        \\\"nosync\\\": false,\\n        \\\"instrument\\\": \\\"No_Instrumentation\\\",\\n        \\\"symbol_instrument\\\": \\\"No_Instrumentation\\\",\\n        \\\"symbol_instrument_condition\\\": {\\n          \\\"string_data\\\": \\\"1\\\",\\n          \\\"language\\\": \\\"CPP\\\"\\n        },\\n        \\\"executions\\\": \\\"0\\\",\\n        \\\"dynamic_executions\\\": true,\\n        \\\"ranges\\\": {},\\n        \\\"location\\\": {},\\n        \\\"is_collapsed\\\": false\\n      }\\n    }\\n  ],\\n  \\\"edges\\\": [\\n    {\\n      \\\"type\\\": \\\"Edge\\\",\\n      \\\"attributes\\\": {\\n        \\\"data\\\": {\\n          \\\"type\\\": \\\"InterstateEdge\\\",\\n          \\\"attributes\\\": {\\n            \\\"assignments\\\": {},\\n            \\\"condition\\\": {\\n              \\\"string_data\\\": \\\"1\\\",\\n              \\\"language\\\": \\\"Python\\\"\\n            }\\n          },\\n          \\\"label\\\": \\\"\\\"\\n        }\\n      },\\n      \\\"src\\\": \\\"0\\\",\\n      \\\"dst\\\": \\\"1\\\"\\n    },\\n    {\\n      \\\"type\\\": \\\"Edge\\\",\\n      \\\"attributes\\\": {\\n        \\\"data\\\": {\\n          \\\"type\\\": \\\"InterstateEdge\\\",\\n          \\\"attributes\\\": {\\n            \\\"assignments\\\": {},\\n            \\\"condition\\\": {\\n              \\\"string_data\\\": \\\"1\\\",\\n              \\\"language\\\": \\\"Python\\\"\\n            }\\n          },\\n          \\\"label\\\": \\\"\\\"\\n        }\\n      },\\n      \\\"src\\\": \\\"1\\\",\\n      \\\"dst\\\": \\\"2\\\"\\n    },\\n    {\\n      \\\"type\\\": \\\"Edge\\\",\\n      \\\"attributes\\\": {\\n        \\\"data\\\": {\\n          \\\"type\\\": \\\"InterstateEdge\\\",\\n          \\\"attributes\\\": {\\n            \\\"assignments\\\": {},\\n            \\\"condition\\\": {\\n              \\\"string_data\\\": \\\"1\\\",\\n              \\\"language\\\": \\\"Python\\\"\\n            }\\n          },\\n          \\\"label\\\": \\\"\\\"\\n        }\\n      },\\n      \\\"src\\\": \\\"2\\\",\\n      \\\"dst\\\": \\\"3\\\"\\n    }\\n  ],\\n  \\\"collapsed\\\": false,\\n  \\\"label\\\": \\\"\\\",\\n  \\\"id\\\": null,\\n  \\\"sdfg_list_id\\\": 0,\\n  \\\"start_state\\\": 0,\\n  \\\"dace_version\\\": \\\"0.15\\\"\\n}\";\n",
       "    var sdfv_2588898067251247836 = new SDFV();\n",
       "    var renderer_2588898067251247836 = new SDFGRenderer(sdfv_2588898067251247836, parse_sdfg(sdfg_2588898067251247836),\n",
       "        document.getElementById('contents_2588898067251247836'));\n",
       "</script>"
      ],
      "text/plain": [
       "SDFG (jax_139775416062080)"
      ]
     },
     "execution_count": 8,
     "metadata": {},
     "output_type": "execute_result"
    }
   ],
   "source": [
    "f1_sdfg = t(f1_jaxpr)\n",
    "f1_sdfg"
   ]
  },
  {
   "cell_type": "code",
   "execution_count": 9,
   "id": "5082cda5-bf0e-4f91-b260-231dffeec3eb",
   "metadata": {},
   "outputs": [],
   "source": [
    "# Currently it is requiered to make the renaming manually.\n",
    "_OUT = f1_sdfg(A, B, two)"
   ]
  },
  {
   "cell_type": "code",
   "execution_count": 10,
   "id": "e72e90f2-fc8a-44c5-b803-21727a752349",
   "metadata": {},
   "outputs": [],
   "source": [
    "resExp = f1(A, B, two)\n",
    "resDC  = _OUT\n",
    "\n",
    "assert np.all(np.abs(resDC - resExp) <= 10**(-13))"
   ]
  },
  {
   "cell_type": "markdown",
   "id": "cca2c82b-c599-4473-9b94-eab48f9f32fd",
   "metadata": {},
   "source": [
    "#### `f2`"
   ]
  },
  {
   "cell_type": "code",
   "execution_count": 11,
   "id": "062b9277-ff41-47b5-a0df-cd4ea4789ed8",
   "metadata": {},
   "outputs": [
    {
     "name": "stdout",
     "output_type": "stream",
     "text": [
      "{ lambda ; a:f64[20,20] b:f64[20,20]. let\n",
      "    c:f64[20,20] = mul b 2.0\n",
      "    d:f64[20,20] = add a c\n",
      "  in (d,) }\n"
     ]
    }
   ],
   "source": [
    "f2_jaxpr = jax.make_jaxpr(f2)(A, B)\n",
    "print(f2_jaxpr)"
   ]
  },
  {
   "cell_type": "code",
   "execution_count": 12,
   "id": "dddc1c6b-dd4d-4341-8b17-819599ba462b",
   "metadata": {},
   "outputs": [],
   "source": [
    "f2_sdfg = t(f2_jaxpr)"
   ]
  },
  {
   "cell_type": "code",
   "execution_count": 13,
   "id": "b9e892d6-e4c3-4b99-8428-df197a0dc68d",
   "metadata": {},
   "outputs": [],
   "source": [
    "# Currently it is requiered to make the renaming manually.\n",
    "_OUT = f2_sdfg(A, B)"
   ]
  },
  {
   "cell_type": "code",
   "execution_count": 14,
   "id": "f5f769c4-e28a-44cf-97e1-b1d63719be7c",
   "metadata": {},
   "outputs": [],
   "source": [
    "resExp = f2(A, B)\n",
    "resDC  = _OUT\n",
    "\n",
    "assert np.all(np.abs(resDC - resExp) <= 10**(-13))"
   ]
  },
  {
   "cell_type": "markdown",
   "id": "065addc5-0ebe-4f1e-b53d-39536746795a",
   "metadata": {},
   "source": [
    "##### `f2_2`"
   ]
  },
  {
   "cell_type": "code",
   "execution_count": 15,
   "id": "d7d3ce9c-4734-40ab-b431-163d65f3fda0",
   "metadata": {},
   "outputs": [
    {
     "name": "stdout",
     "output_type": "stream",
     "text": [
      "{ lambda a:f64[4]; b:f64[4]. let c:f64[4] = add b a in (c,) }\n"
     ]
    }
   ],
   "source": [
    "f2_2_jaxpr = jax.make_jaxpr(f2_2)(E)\n",
    "print(f2_2_jaxpr)"
   ]
  },
  {
   "cell_type": "code",
   "execution_count": 16,
   "id": "a9f0b609-77fc-48e0-bee4-58b3349c677e",
   "metadata": {},
   "outputs": [],
   "source": [
    "f2_2_sdfg = t(f2_2_jaxpr)\n",
    "resExp = f2_2(E)\n",
    "resDC  = f2_2_sdfg(b=E)\n",
    "\n",
    "assert np.all(np.abs(resDC - resExp) <= 10**(-13))"
   ]
  },
  {
   "cell_type": "markdown",
   "id": "ff1b5d9b-d3da-4909-8864-ea42bf9e6f19",
   "metadata": {},
   "source": [
    "##### `f2_3`\n"
   ]
  },
  {
   "cell_type": "code",
   "execution_count": 17,
   "id": "236d5126-987b-414e-ac75-7b16cfbd1f6b",
   "metadata": {},
   "outputs": [
    {
     "name": "stdout",
     "output_type": "stream",
     "text": [
      "{ lambda ; a:f64[20,20] b:f64[20,20] c:f64[20,20]. let\n",
      "    d:f64[20,20] = mul c 100.0\n",
      "    e:f64[20,20] = mul a 100.0\n",
      "    f:f64[20,20] = mul b 100.0\n",
      "    g:f64[20,20] = min e f\n",
      "    h:f64[20,20] = max d g\n",
      "    i:f64[20,20] = tanh h\n",
      "    j:f64[20,20] = ceil i\n",
      "    k:f64[20,20] = abs j\n",
      "    l:f64[20,20] = sqrt k\n",
      "  in (l,) }\n"
     ]
    }
   ],
   "source": [
    "f2_3_jaxpr = jax.make_jaxpr(f2_3)(A, B, F)\n",
    "print(f2_3_jaxpr)"
   ]
  },
  {
   "cell_type": "code",
   "execution_count": 18,
   "id": "1305fa6d-5d43-4ecf-87cf-662c1ac62ec2",
   "metadata": {},
   "outputs": [],
   "source": [
    "f2_3_sdfg = t(f2_3_jaxpr)\n",
    "resExp = f2_3(A, B, F)\n",
    "resDC  = f2_3_sdfg(A, B, F)\n",
    "\n",
    "assert np.all(np.abs(resDC - resExp) <= 10**(-13))"
   ]
  },
  {
   "cell_type": "markdown",
   "id": "08176182-924f-4b4d-be04-172d5646bf64",
   "metadata": {},
   "source": [
    "##### `f2_4`"
   ]
  },
  {
   "cell_type": "code",
   "execution_count": 19,
   "id": "69da7b48-081a-4842-88b5-a082da5319e5",
   "metadata": {},
   "outputs": [
    {
     "name": "stdout",
     "output_type": "stream",
     "text": [
      "{ lambda ; a:f64[20,20] b:f64[20,20]. let c:f64[20,20] = max a b in (c,) }\n"
     ]
    }
   ],
   "source": [
    "f2_4_jaxpr = jax.make_jaxpr(f2_4)(A, B)\n",
    "print(f2_4_jaxpr)"
   ]
  },
  {
   "cell_type": "code",
   "execution_count": 20,
   "id": "094dddcd-1b8e-4874-915b-7d9b93e9b9b0",
   "metadata": {},
   "outputs": [],
   "source": [
    "f2_4_sdfg = t(f2_4_jaxpr)\n",
    "resExp = f2_4(A, B)\n",
    "resDC  = f2_4_sdfg(A, B, F)\n",
    "\n",
    "assert np.all(np.abs(resDC - resExp) <= 10**(-13))"
   ]
  },
  {
   "cell_type": "markdown",
   "id": "b688f180-0c87-4a45-80d2-58a76bbefb08",
   "metadata": {},
   "source": [
    "#### `f3`\n",
    "Simple slicing."
   ]
  },
  {
   "cell_type": "code",
   "execution_count": 21,
   "id": "64a86031-242d-4c9b-8180-1136527155d9",
   "metadata": {},
   "outputs": [
    {
     "name": "stdout",
     "output_type": "stream",
     "text": [
      "{ lambda ; a:f64[20]. let\n",
      "    b:f64[18] = slice[limit_indices=(20,) start_indices=(2,) strides=None] a\n",
      "  in (b,) }\n"
     ]
    }
   ],
   "source": [
    "f3_jaxpr = jax.make_jaxpr(f3)(C)\n",
    "print(f3_jaxpr)"
   ]
  },
  {
   "cell_type": "code",
   "execution_count": 22,
   "id": "1b078e7a-f66e-499a-890d-8deb63dda62d",
   "metadata": {},
   "outputs": [],
   "source": [
    "f3_sdfg = t(f3_jaxpr)"
   ]
  },
  {
   "cell_type": "code",
   "execution_count": 23,
   "id": "41f8648a-d417-4e72-be13-4ab5e5e74343",
   "metadata": {},
   "outputs": [],
   "source": [
    "resExp = f3(C)\n",
    "_OUTF3 = f3_sdfg(C)\n",
    "resDC  = _OUTF3\n",
    "\n",
    "assert np.all(np.abs(resDC - resExp) <= 10**(-13))"
   ]
  },
  {
   "cell_type": "markdown",
   "id": "9da41db8-48cb-479a-a048-8f8880401fd3",
   "metadata": {},
   "source": [
    "##### `f3_2`"
   ]
  },
  {
   "cell_type": "code",
   "execution_count": 24,
   "id": "754375f6-9d1c-449e-b40c-09a34ce338b9",
   "metadata": {},
   "outputs": [
    {
     "name": "stdout",
     "output_type": "stream",
     "text": [
      "{ lambda a:i32[8]; b:f64[20]. let\n",
      "    c:i32[8,1] = broadcast_in_dim[broadcast_dimensions=(0,) shape=(8, 1)] a\n",
      "    d:f64[8] = gather[\n",
      "      dimension_numbers=GatherDimensionNumbers(offset_dims=(), collapsed_slice_dims=(0,), start_index_map=(0,))\n",
      "      fill_value=None\n",
      "      indices_are_sorted=True\n",
      "      mode=GatherScatterMode.PROMISE_IN_BOUNDS\n",
      "      slice_sizes=(1,)\n",
      "      unique_indices=True\n",
      "    ] b c\n",
      "  in (d,) }\n"
     ]
    }
   ],
   "source": [
    "f3_2_jaxpr = jax.make_jaxpr(f3_2)(C)\n",
    "print(f3_2_jaxpr)"
   ]
  },
  {
   "cell_type": "markdown",
   "id": "847fdb0b-8365-41a4-9a06-7447f8fab009",
   "metadata": {},
   "source": [
    "#### `f4`"
   ]
  },
  {
   "cell_type": "code",
   "execution_count": 25,
   "id": "ed982569-d4a2-4477-91ac-1a33b6008efd",
   "metadata": {},
   "outputs": [
    {
     "name": "stdout",
     "output_type": "stream",
     "text": [
      "{ lambda ; a:f64[20,20] b:f64[20,20]. let\n",
      "    c:f64[20,20] = add b 1.0\n",
      "    d:f64[20,20] = add a 2.0\n",
      "  in (c, d) }\n"
     ]
    }
   ],
   "source": [
    "f4_jaxpr = jax.make_jaxpr(f4)(A, B)\n",
    "print(f4_jaxpr)"
   ]
  },
  {
   "cell_type": "code",
   "execution_count": 26,
   "id": "eb3696b0-c218-4ced-85c7-f0522b791d4d",
   "metadata": {},
   "outputs": [],
   "source": [
    "f4_sdfg = t(f4_jaxpr)"
   ]
  },
  {
   "cell_type": "code",
   "execution_count": 27,
   "id": "fceca6f5-bdf3-4621-97ad-3f33ab2af4ca",
   "metadata": {},
   "outputs": [],
   "source": [
    "resExp1, resExp2 = f4(A, B)\n",
    "resDC1, resDC2 = f4_sdfg(A, B)\n",
    "\n",
    "assert np.all(np.abs(resDC1 - resExp1) <= 10**(-13))\n",
    "assert np.all(np.abs(resDC2 - resExp2) <= 10**(-13))"
   ]
  },
  {
   "cell_type": "markdown",
   "id": "d06ba3da-8d14-40bd-8a4f-5fba038a518b",
   "metadata": {},
   "source": [
    "#### `f5`"
   ]
  },
  {
   "cell_type": "code",
   "execution_count": 28,
   "id": "fb55653f-dad9-4738-b189-b4617ad787f7",
   "metadata": {},
   "outputs": [
    {
     "name": "stdout",
     "output_type": "stream",
     "text": [
      "{ lambda ; a:f64[20]. let\n",
      "    b:f64[18] = slice[limit_indices=(20,) start_indices=(2,) strides=None] a\n",
      "    c:f64[18] = slice[limit_indices=(18,) start_indices=(0,) strides=None] a\n",
      "    d:f64[18] = sub b c\n",
      "  in (d,) }\n"
     ]
    }
   ],
   "source": [
    "f5_jaxpr = jax.make_jaxpr(f5)(C)\n",
    "print(f5_jaxpr)"
   ]
  },
  {
   "cell_type": "code",
   "execution_count": 29,
   "id": "e6f023b9-be79-4930-9a1b-458ef40f1f2c",
   "metadata": {},
   "outputs": [],
   "source": [
    "f5_sdfg = t(f5_jaxpr)"
   ]
  },
  {
   "cell_type": "code",
   "execution_count": 30,
   "id": "ad2c40fb-f85d-41d7-b3bc-071ec9bb790d",
   "metadata": {},
   "outputs": [],
   "source": [
    "resExp = f5(C)\n",
    "resDC  = f5_sdfg(C)\n",
    "\n",
    "assert np.all(np.abs(resDC - resExp) <= 10**(-13))"
   ]
  },
  {
   "cell_type": "markdown",
   "id": "28781a31-769e-40e4-b59f-9a4a6ef06d5d",
   "metadata": {},
   "source": [
    "#### `f6`\n",
    "These are the derivative tests."
   ]
  },
  {
   "cell_type": "code",
   "execution_count": 31,
   "id": "f6b20599-40c1-445b-a2bf-46834072791e",
   "metadata": {},
   "outputs": [
    {
     "name": "stdout",
     "output_type": "stream",
     "text": [
      "{ lambda ; a:f64[]. let\n",
      "    b:f64[] = sin a\n",
      "    c:f64[] = integer_pow[y=2] b\n",
      "    d:f64[] = exp c\n",
      "  in (d,) }\n"
     ]
    }
   ],
   "source": [
    "f6_jaxpr = jax.make_jaxpr(f6)(S)\n",
    "print(f6_jaxpr)"
   ]
  },
  {
   "cell_type": "code",
   "execution_count": 32,
   "id": "6707aa6f-13c9-4cee-a000-be4516d6e11f",
   "metadata": {},
   "outputs": [],
   "source": [
    "f6_sdfg = t(f6_jaxpr)"
   ]
  },
  {
   "cell_type": "code",
   "execution_count": 33,
   "id": "66e4e62f-512a-48b0-8721-c676d49e50dd",
   "metadata": {},
   "outputs": [],
   "source": [
    "resExp = f6(S) #SS)\n",
    "resDC  = f6_sdfg(S) #SS)\n",
    "assert np.all(np.abs(resDC - resExp) <= 10**(-13))"
   ]
  },
  {
   "cell_type": "code",
   "execution_count": 34,
   "id": "f6a36467-1c3a-4e3d-9cd4-8b100a9b5ca2",
   "metadata": {},
   "outputs": [
    {
     "name": "stdout",
     "output_type": "stream",
     "text": [
      "{ lambda ; a:f64[]. let\n",
      "    b:f64[] = sin a\n",
      "    c:f64[] = cos a\n",
      "    d:f64[] = cos a\n",
      "    e:f64[] = sin a\n",
      "    f:f64[] = integer_pow[y=2] b\n",
      "    g:f64[] = integer_pow[y=1] b\n",
      "    h:f64[] = mul 2.0 g\n",
      "    i:f64[] = integer_pow[y=1] b\n",
      "    j:f64[] = integer_pow[y=0] b\n",
      "    k:f64[] = mul 1.0 j\n",
      "    l:f64[] = mul 2.0 i\n",
      "    m:f64[] = exp f\n",
      "    n:f64[] = mul 1.0 m\n",
      "    o:f64[] = mul n l\n",
      "    _:f64[] = mul o d\n",
      "    p:f64[] = mul o 1.0\n",
      "    q:f64[] = mul 1.0 d\n",
      "    r:f64[] = mul n q\n",
      "    s:f64[] = mul 2.0 r\n",
      "    t:f64[] = mul s k\n",
      "    u:f64[] = mul q l\n",
      "    v:f64[] = mul 1.0 u\n",
      "    w:f64[] = mul v m\n",
      "    x:f64[] = mul w h\n",
      "    y:f64[] = add_any t x\n",
      "    z:f64[] = neg p\n",
      "    ba:f64[] = mul z e\n",
      "    bb:f64[] = mul y c\n",
      "    bc:f64[] = add_any ba bb\n",
      "  in (bc,) }\n"
     ]
    }
   ],
   "source": [
    "f6dd_jaxpr = jax.make_jaxpr(jax.grad(jax.grad(f6)))(S)\n",
    "print(f6dd_jaxpr)\n",
    "f6dd_sdfg = t(f6dd_jaxpr)"
   ]
  },
  {
   "cell_type": "code",
   "execution_count": 35,
   "id": "764159d9-d534-4ce7-be58-ff095227eb68",
   "metadata": {},
   "outputs": [],
   "source": [
    "resExp = jax.grad(jax.grad(f6))(S)\n",
    "resDC  = f6dd_sdfg(S)\n",
    "assert np.all(np.abs(resDC - resExp) <= 10**(-13))"
   ]
  },
  {
   "cell_type": "markdown",
   "id": "74117b7c-e570-42f1-8782-efca9cf6fa5d",
   "metadata": {},
   "source": [
    "##### `f6_2`"
   ]
  },
  {
   "cell_type": "code",
   "execution_count": 36,
   "id": "d5c9c4ee-137b-46aa-879c-e2577204c02e",
   "metadata": {},
   "outputs": [],
   "source": [
    "f6_2G = jax.grad(f6_2, argnums=(0, 1))\n",
    "f6_2G_jaxpr = jax.make_jaxpr(f6_2G)(S, T)\n",
    "f6_2G_sdfg = t(f6_2G_jaxpr)"
   ]
  },
  {
   "cell_type": "code",
   "execution_count": 37,
   "id": "384146a8-8258-4467-a7e7-d840d121b440",
   "metadata": {},
   "outputs": [],
   "source": [
    "resExp = f6_2G(S, T)\n",
    "resDC  = f6_2G_sdfg(S, T)\n",
    "assert all([np.all(np.abs(dc - ex) <= 10**(-13))  for dc, ex in zip(resDC, resExp)])"
   ]
  },
  {
   "cell_type": "markdown",
   "id": "4f6a1b8c-d491-4054-8264-ad0c126644ff",
   "metadata": {},
   "source": [
    "#### `f7`"
   ]
  },
  {
   "cell_type": "code",
   "execution_count": 38,
   "id": "be42ad3c-b514-469a-82bb-e140e1601f7b",
   "metadata": {},
   "outputs": [
    {
     "name": "stdout",
     "output_type": "stream",
     "text": [
      "{ lambda ; a:f64[3,2,4] b:f64[2,4]. let\n",
      "    c:f64[1,2,4] = broadcast_in_dim[broadcast_dimensions=(1, 2) shape=(1, 2, 4)] b\n",
      "    d:f64[3,2,4] = add a c\n",
      "  in (d,) }\n"
     ]
    }
   ],
   "source": [
    "Af7 = np.random.rand(3, 2, 4).astype(np.float64)\n",
    "Bf7 = np.random.rand(2, 4).astype(np.float64)\n",
    "\n",
    "f7_jaxpr = jax.make_jaxpr(f7)(Af7, Bf7)\n",
    "print(f7_jaxpr)"
   ]
  },
  {
   "cell_type": "code",
   "execution_count": 39,
   "id": "74a6d881-5de4-4ef0-bf0f-121f150a50e1",
   "metadata": {},
   "outputs": [],
   "source": [
    "f7_sdfg = t(f7_jaxpr)\n",
    "\n",
    "resExp = f7(Af7, Bf7)\n",
    "resDC  = f7_sdfg(Af7, Bf7)\n",
    "assert np.all(np.abs(resDC - resExp) <= 10**(-13))\n",
    "\n"
   ]
  },
  {
   "cell_type": "markdown",
   "id": "64d1280a-284f-44e9-a29e-b2f142c159dc",
   "metadata": {},
   "source": [
    "##### `f7_2`"
   ]
  },
  {
   "cell_type": "code",
   "execution_count": 40,
   "id": "ca9f7b9f-fe01-44be-a774-c2195bdde1b4",
   "metadata": {},
   "outputs": [
    {
     "name": "stdout",
     "output_type": "stream",
     "text": [
      "{ lambda ; a:f64[3,2,4] b:f64[3,2,1]. let c:f64[3,2,4] = add a b in (c,) }\n"
     ]
    }
   ],
   "source": [
    "f7_2_jaxpr = jax.make_jaxpr(f7_2)(A_f7_2, B_f7_2)\n",
    "print(f7_2_jaxpr)"
   ]
  },
  {
   "cell_type": "code",
   "execution_count": 41,
   "id": "4d57e2b9-4bcf-4989-966e-d50783ab001e",
   "metadata": {},
   "outputs": [],
   "source": [
    "f7_2_sdfg = t(f7_2_jaxpr)\n",
    "\n",
    "resExp = f7_2(A_f7_2, B_f7_2)\n",
    "resDC  = f7_2_sdfg(A_f7_2, B_f7_2)\n",
    "assert np.all(np.abs(resDC - resExp) <= 10**(-13))"
   ]
  },
  {
   "cell_type": "markdown",
   "id": "ad961a49-6bd0-475d-8529-86060bf19dc5",
   "metadata": {},
   "source": [
    "##### `f7_3`"
   ]
  },
  {
   "cell_type": "code",
   "execution_count": 42,
   "id": "8d359195-0304-42b7-9530-c13d5d532c46",
   "metadata": {},
   "outputs": [
    {
     "name": "stdout",
     "output_type": "stream",
     "text": [
      "{ lambda ; a:f64[2,3,1,5] b:f64[2,1,4,5]. let c:f64[2,3,4,5] = add a b in (c,) }\n"
     ]
    }
   ],
   "source": [
    "f7_3_jaxpr = jax.make_jaxpr(f7_3)(A_f7_3, B_f7_3)\n",
    "print(f7_3_jaxpr)"
   ]
  },
  {
   "cell_type": "code",
   "execution_count": 43,
   "id": "4d29698a-d041-4a8b-94b3-0878b551672f",
   "metadata": {},
   "outputs": [],
   "source": [
    "f7_3_sdfg = t(f7_3_jaxpr)\n",
    "\n",
    "resExp = f7_3(A_f7_3, B_f7_3)\n",
    "resDC  = f7_3_sdfg(A_f7_3, B_f7_3)\n",
    "assert np.all(np.abs(resDC - resExp) <= 10**(-13))"
   ]
  },
  {
   "cell_type": "markdown",
   "id": "f0e798dd-1000-4c66-9502-30d31b0f899d",
   "metadata": {},
   "source": [
    "#### `f8`"
   ]
  },
  {
   "cell_type": "code",
   "execution_count": 44,
   "id": "97cb68d1-4573-48f9-a671-445d78342c61",
   "metadata": {},
   "outputs": [
    {
     "name": "stdout",
     "output_type": "stream",
     "text": [
      "{ lambda ; a:f64[20] b:i32[8]. let\n",
      "    c:bool[8] = lt b 0\n",
      "    d:i32[8] = add b 20\n",
      "    e:i32[8] = select_n c b d\n",
      "    f:i32[8,1] = broadcast_in_dim[broadcast_dimensions=(0,) shape=(8, 1)] e\n",
      "    g:f64[8] = gather[\n",
      "      dimension_numbers=GatherDimensionNumbers(offset_dims=(), collapsed_slice_dims=(0,), start_index_map=(0,))\n",
      "      fill_value=None\n",
      "      indices_are_sorted=False\n",
      "      mode=GatherScatterMode.PROMISE_IN_BOUNDS\n",
      "      slice_sizes=(1,)\n",
      "      unique_indices=False\n",
      "    ] a f\n",
      "  in (g,) }\n"
     ]
    }
   ],
   "source": [
    "with jax.disable_jit(disable=True):\n",
    "    f8_jaxpr = jax.make_jaxpr(f8)(C, Idx)\n",
    "    print(f8_jaxpr)"
   ]
  },
  {
   "cell_type": "code",
   "execution_count": 45,
   "id": "ffe76a18-c507-4376-b603-dfa57513ad7b",
   "metadata": {},
   "outputs": [
    {
     "name": "stderr",
     "output_type": "stream",
     "text": [
      "/home/quint_essent/git/1_CSCS/jax_demo/dace/sdfg/validation.py:438: UserWarning: WARNING: Use of uninitialized transient \"g\" in state Final_State\n",
      "  warnings.warn('WARNING: Use of uninitialized transient \"%s\" in state %s' %\n"
     ]
    }
   ],
   "source": [
    "# There is this warning I have to get rid of.\n",
    "f8_sdfg = t(f8_jaxpr)\n",
    "\n",
    "resExp = f8(C, Idx)\n",
    "resDC  = f8_sdfg(C, Idx)\n",
    "assert np.all(np.abs(resDC - resExp) <= 10**(-13))"
   ]
  },
  {
   "cell_type": "markdown",
   "id": "1b6f307a-0fee-4cea-b323-3e5e87324172",
   "metadata": {},
   "source": [
    "#### `f9`"
   ]
  },
  {
   "cell_type": "code",
   "execution_count": 46,
   "id": "e92cdd55-8e04-4180-bae7-3d0f3c9515a6",
   "metadata": {},
   "outputs": [
    {
     "name": "stdout",
     "output_type": "stream",
     "text": [
      "{ lambda ; a:f64[20] b:f64[20] c:f64[20]. let\n",
      "    d:bool[20] = lt a 0.0\n",
      "    e:f64[20] = select_n d c b\n",
      "  in (e,) }\n"
     ]
    }
   ],
   "source": [
    "with jax.disable_jit(disable=True):\n",
    "    f9_jaxpr = jax.make_jaxpr(f9)(C, D, G)\n",
    "print(f9_jaxpr)"
   ]
  },
  {
   "cell_type": "code",
   "execution_count": 47,
   "id": "d0e923a1-99d0-4bb3-8349-a01f728a63e5",
   "metadata": {},
   "outputs": [],
   "source": [
    "f9_sdfg = t(f9_jaxpr)\n",
    "\n",
    "resExp = f9(C, D, G)\n",
    "resDC  = f9_sdfg(C, D, G)\n",
    "assert np.all(np.abs(resDC - resExp) <= 10**(-13))"
   ]
  },
  {
   "cell_type": "markdown",
   "id": "95ff894f-e753-4e71-9420-e294f8e78426",
   "metadata": {},
   "source": [
    "##### `f9_2`"
   ]
  },
  {
   "cell_type": "code",
   "execution_count": 48,
   "id": "e4a59e4f-09f5-4218-a762-7e2eae045d4c",
   "metadata": {},
   "outputs": [
    {
     "name": "stdout",
     "output_type": "stream",
     "text": [
      "{ lambda ; a:f64[20,20,4] b:i32[2]. let\n",
      "    c:i32[2] = sub b 1\n",
      "    d:bool[2] = lt b 0\n",
      "    e:i32[2] = add b 20\n",
      "    f:i32[2] = select_n d b e\n",
      "    g:bool[2] = lt c 0\n",
      "    h:i32[2] = add c 4\n",
      "    i:i32[2] = select_n g c h\n",
      "    j:i32[2,1] = broadcast_in_dim[broadcast_dimensions=(0,) shape=(2, 1)] f\n",
      "    k:i32[2,1] = broadcast_in_dim[broadcast_dimensions=(0,) shape=(2, 1)] i\n",
      "    l:i32[2,2] = concatenate[dimension=1] j k\n",
      "    m:f64[2,20] = gather[\n",
      "      dimension_numbers=GatherDimensionNumbers(offset_dims=(1,), collapsed_slice_dims=(0, 2), start_index_map=(0, 2))\n",
      "      fill_value=None\n",
      "      indices_are_sorted=False\n",
      "      mode=GatherScatterMode.PROMISE_IN_BOUNDS\n",
      "      slice_sizes=(1, 20, 1)\n",
      "      unique_indices=False\n",
      "    ] a l\n",
      "  in (m,) }\n"
     ]
    }
   ],
   "source": [
    "f9_2_jaxpr = jax.make_jaxpr(f9_2)(H, Idx2)\n",
    "print(f9_2_jaxpr)"
   ]
  },
  {
   "cell_type": "code",
   "execution_count": 49,
   "id": "4a13d6f0-c913-48b0-93e3-16d4c904c6d7",
   "metadata": {},
   "outputs": [
    {
     "name": "stderr",
     "output_type": "stream",
     "text": [
      "/home/quint_essent/git/1_CSCS/jax_demo/dace/sdfg/validation.py:438: UserWarning: WARNING: Use of uninitialized transient \"m\" in state Final_State\n",
      "  warnings.warn('WARNING: Use of uninitialized transient \"%s\" in state %s' %\n"
     ]
    }
   ],
   "source": [
    "f9_2_sdfg = t(f9_2_jaxpr)\n",
    "\n",
    "resExp = f9_2(H, Idx2)\n",
    "resDC  = f9_2_sdfg(H, Idx2)\n",
    "assert np.all(np.abs(resDC - resExp) <= 10**(-13))"
   ]
  },
  {
   "cell_type": "markdown",
   "id": "d9748c77-6ca3-48b6-9808-d764cc23def8",
   "metadata": {},
   "source": [
    "##### `f9_3`"
   ]
  },
  {
   "cell_type": "code",
   "execution_count": 50,
   "id": "49a695c7-e5b2-4dd4-ac94-f460131d2c56",
   "metadata": {},
   "outputs": [
    {
     "name": "stdout",
     "output_type": "stream",
     "text": [
      "{ lambda ; a:f64[20,20,4] b:i32[2]. let\n",
      "    c:bool[2] = lt b 0\n",
      "    d:i32[2] = add b 20\n",
      "    e:i32[2] = select_n c b d\n",
      "    f:i32[2,1] = broadcast_in_dim[broadcast_dimensions=(0,) shape=(2, 1)] e\n",
      "    g:f64[2,20,4] = gather[\n",
      "      dimension_numbers=GatherDimensionNumbers(offset_dims=(1, 2), collapsed_slice_dims=(0,), start_index_map=(0,))\n",
      "      fill_value=None\n",
      "      indices_are_sorted=False\n",
      "      mode=GatherScatterMode.PROMISE_IN_BOUNDS\n",
      "      slice_sizes=(1, 20, 4)\n",
      "      unique_indices=False\n",
      "    ] a f\n",
      "  in (g,) }\n"
     ]
    }
   ],
   "source": [
    "f9_3_jaxpr = jax.make_jaxpr(f9_3)(H, Idx2)\n",
    "print(f9_3_jaxpr)"
   ]
  },
  {
   "cell_type": "code",
   "execution_count": 51,
   "id": "06eeb005-6b48-4aa5-b2d4-29eb32178f6d",
   "metadata": {},
   "outputs": [],
   "source": [
    "f9_3_sdfg = t(f9_3_jaxpr)\n",
    "\n",
    "resExp = f9_3(H, Idx2)\n",
    "resDC  = f9_3_sdfg(H, Idx2)\n",
    "assert np.all(np.abs(resDC - resExp) <= 10**(-13))"
   ]
  },
  {
   "cell_type": "markdown",
   "id": "3fbb3cc8-41df-462a-8d5f-2f0071064024",
   "metadata": {},
   "source": [
    "##### `f9_4`"
   ]
  },
  {
   "cell_type": "code",
   "execution_count": 52,
   "id": "fd22ee28-d5d0-4487-9338-2659d093d905",
   "metadata": {},
   "outputs": [
    {
     "name": "stdout",
     "output_type": "stream",
     "text": [
      "{ lambda ; a:f64[20,20] b:i32[8]. let\n",
      "    c:bool[8] = lt b 0\n",
      "    d:i32[8] = add b 20\n",
      "    e:i32[8] = select_n c b d\n",
      "    f:bool[] = lt 4 0\n",
      "    g:i64[] = add 4 20\n",
      "    h:i64[] = select_n f 4 g\n",
      "    i:i64[8] = broadcast_in_dim[broadcast_dimensions=() shape=(8,)] h\n",
      "    j:i32[8] = convert_element_type[new_dtype=int32 weak_type=False] i\n",
      "    k:i32[8,1] = broadcast_in_dim[broadcast_dimensions=(0,) shape=(8, 1)] e\n",
      "    l:i32[8,1] = broadcast_in_dim[broadcast_dimensions=(0,) shape=(8, 1)] j\n",
      "    m:i32[8,2] = concatenate[dimension=1] k l\n",
      "    n:f64[8] = gather[\n",
      "      dimension_numbers=GatherDimensionNumbers(offset_dims=(), collapsed_slice_dims=(0, 1), start_index_map=(0, 1))\n",
      "      fill_value=None\n",
      "      indices_are_sorted=False\n",
      "      mode=GatherScatterMode.PROMISE_IN_BOUNDS\n",
      "      slice_sizes=(1, 1)\n",
      "      unique_indices=False\n",
      "    ] a m\n",
      "  in (n,) }\n"
     ]
    }
   ],
   "source": [
    "f9_4_jaxpr = jax.make_jaxpr(f9_4)(A, Idx)\n",
    "print(f9_4_jaxpr)"
   ]
  },
  {
   "cell_type": "code",
   "execution_count": 53,
   "id": "0835cc9d-e62c-4f78-af23-7e2c55254a5c",
   "metadata": {},
   "outputs": [
    {
     "name": "stderr",
     "output_type": "stream",
     "text": [
      "/home/quint_essent/git/1_CSCS/jax_demo/dace/sdfg/validation.py:438: UserWarning: WARNING: Use of uninitialized transient \"n\" in state Final_State\n",
      "  warnings.warn('WARNING: Use of uninitialized transient \"%s\" in state %s' %\n"
     ]
    }
   ],
   "source": [
    "f9_4_sdfg = t(f9_4_jaxpr)\n",
    "\n",
    "resExp = f9_4(A, Idx)\n",
    "resDC  = f9_4_sdfg(A, Idx)\n",
    "assert np.all(np.abs(resDC - resExp) <= 10**(-13))"
   ]
  },
  {
   "cell_type": "markdown",
   "id": "b932e045-de53-4684-8b0b-28f34147a76e",
   "metadata": {},
   "source": [
    "##### `f9_6`"
   ]
  },
  {
   "cell_type": "code",
   "execution_count": 54,
   "id": "a636d907-5f27-46e8-b14a-e7acd8ccbe77",
   "metadata": {},
   "outputs": [
    {
     "name": "stdout",
     "output_type": "stream",
     "text": [
      "{ lambda ; a:f64[20] b:f64[20] c:f64[20]. let\n",
      "    d:bool[20] = gt b 0.25\n",
      "    e:bool[20] = lt b 0.75\n",
      "    f:bool[20] = and d e\n",
      "    g:f64[20] = select_n f c a\n",
      "  in (g,) }\n"
     ]
    }
   ],
   "source": [
    "with jax.disable_jit(disable=True):\n",
    "    f9_6_jaxpr = jax.make_jaxpr(f9_6)(C, D, G)\n",
    "print(f9_6_jaxpr)"
   ]
  },
  {
   "cell_type": "code",
   "execution_count": 55,
   "id": "2207d0eb-4473-4760-b603-84e50f3150d2",
   "metadata": {},
   "outputs": [],
   "source": [
    "f9_6_sdfg = t(f9_6_jaxpr)\n",
    "\n",
    "resExp = f9_6(C, D, G)\n",
    "resDC  = f9_6_sdfg(C, D, G)\n",
    "assert np.all(np.abs(resDC - resExp) <= 10**(-13))"
   ]
  }
 ],
 "metadata": {
  "kernelspec": {
   "display_name": "dace",
   "language": "python",
   "name": "dace"
  },
  "language_info": {
   "codemirror_mode": {
    "name": "ipython",
    "version": 3
   },
   "file_extension": ".py",
   "mimetype": "text/x-python",
   "name": "python",
   "nbconvert_exporter": "python",
   "pygments_lexer": "ipython3",
   "version": "3.11.4"
  }
 },
 "nbformat": 4,
 "nbformat_minor": 5
}
