{
 "cells": [
  {
   "cell_type": "code",
   "execution_count": 1,
   "id": "ef409027-d103-4549-af9a-456440b9a59f",
   "metadata": {},
   "outputs": [
    {
     "data": {
      "text/html": [
       "<link href=\"https://fonts.googleapis.com/icon?family=Material+Icons\" rel=\"stylesheet\"><script src=\"https://spcl.github.io/dace/webclient2/dist/sdfv.js\"></script>\n",
       "<link href=\"https://spcl.github.io/dace/webclient2/sdfv.css\" rel=\"stylesheet\">\n"
      ],
      "text/plain": [
       "<IPython.core.display.HTML object>"
      ]
     },
     "metadata": {},
     "output_type": "display_data"
    }
   ],
   "source": [
    "import numpy as np\n",
    "import jax\n",
    "import jax.numpy as jnp\n",
    "from jax import jit, grad, vmap\n",
    "from jax import random\n",
    "\n",
    "import dace"
   ]
  },
  {
   "cell_type": "code",
   "execution_count": 2,
   "id": "1fa3cc62-e0a8-43e0-a9aa-9c5c6176b4b0",
   "metadata": {},
   "outputs": [],
   "source": [
    "from JaxprToSDFG import  JaxprToSDFG"
   ]
  },
  {
   "cell_type": "markdown",
   "id": "cc8924a9-89d5-4a96-bc71-21f18872a74f",
   "metadata": {},
   "source": [
    "## Demo Input\n",
    "This is the input we are using."
   ]
  },
  {
   "cell_type": "code",
   "execution_count": 3,
   "id": "43318ec1-8792-4d09-ba28-cb1c5cb35b30",
   "metadata": {},
   "outputs": [],
   "source": [
    "N1, N2 = 20, 20\n",
    "A = np.random.rand(N1, N2).astype(np.float64)\n",
    "B = np.random.rand(N1, N2).astype(np.float64)\n",
    "_OUT = np.ones((N1, N2))\n",
    "\n",
    "two = np.full((N1, N2), 2.)\n"
   ]
  },
  {
   "cell_type": "markdown",
   "id": "7d6fe400-8b70-4409-94e8-d7fa4ea2bbb7",
   "metadata": {},
   "source": [
    "## Functions to Transforms\n",
    "Here are various functions that we use to transform.\n",
    "They are ordered in increasing complexities."
   ]
  },
  {
   "cell_type": "code",
   "execution_count": 4,
   "id": "18a7cbc4-17e2-4767-954f-68c2cf64f5f6",
   "metadata": {},
   "outputs": [],
   "source": [
    "# A sinple function\n",
    "def f1(A, B, two):\n",
    "    return A + B * two\n",
    "#\n",
    "\n",
    "# This is the same as `f1` but this time `2.0` is a double literal and not an argument.\n",
    "#  Casting does not work yet.\n",
    "def f2(A, B):\n",
    "    return A + B * 2.0\n",
    "#\n",
    "\n"
   ]
  },
  {
   "cell_type": "markdown",
   "id": "3ffcd098-09e7-49df-b1f7-9e33592bbebc",
   "metadata": {},
   "source": [
    "## Jaxpr\n",
    "We now transform it into Jaxpr."
   ]
  },
  {
   "cell_type": "markdown",
   "id": "bf994bef-c991-4a99-9814-cc374d936ded",
   "metadata": {},
   "source": [
    "#### `f1`"
   ]
  },
  {
   "cell_type": "code",
   "execution_count": 5,
   "id": "e8471b62-bced-4611-bf40-76abea3fe148",
   "metadata": {},
   "outputs": [],
   "source": [
    "f1_jaxpr = jax.make_jaxpr(f1)(A, B, two)"
   ]
  },
  {
   "cell_type": "code",
   "execution_count": 6,
   "id": "767c92c3-5eeb-42a9-85af-551cd2b48924",
   "metadata": {},
   "outputs": [
    {
     "name": "stdout",
     "output_type": "stream",
     "text": [
      "{ lambda ; a:f32[20,20] b:f32[20,20] c:f32[20,20]. let\n",
      "    d:f32[20,20] = mul b c\n",
      "    e:f32[20,20] = add a d\n",
      "  in (e,) }\n"
     ]
    }
   ],
   "source": [
    "print(f1_jaxpr)"
   ]
  },
  {
   "cell_type": "code",
   "execution_count": 7,
   "id": "e23eb4b5-2192-4032-8153-ec7166798351",
   "metadata": {},
   "outputs": [],
   "source": [
    "t = JaxprToSDFG()\n",
    "f1_sdfg = t(f1_jaxpr)\n",
    "#f1_sdfg"
   ]
  },
  {
   "cell_type": "code",
   "execution_count": 8,
   "id": "dec5f978-ba95-42b8-9cda-d336f1f2e07a",
   "metadata": {},
   "outputs": [],
   "source": [
    "# Currently it is requiered to make the renaming manually.\n",
    "f1_sdfg(a=A, b=B, c=two, _out=_OUT)"
   ]
  },
  {
   "cell_type": "code",
   "execution_count": 9,
   "id": "cdd262e3-7291-40e6-b57c-42f24170f491",
   "metadata": {},
   "outputs": [],
   "source": [
    "resExp = f1(A, B, two)\n",
    "resDC  = _OUT\n",
    "\n",
    "assert np.all(np.abs(resDC - resExp) <= 10**(-13))\n"
   ]
  },
  {
   "cell_type": "markdown",
   "id": "b64e7637-a110-4168-bb04-774d98a747ec",
   "metadata": {},
   "source": [
    "#### `f2`"
   ]
  },
  {
   "cell_type": "code",
   "execution_count": 10,
   "id": "2b0ecdf6-0cee-4f69-b53d-51182fc2a6b4",
   "metadata": {},
   "outputs": [
    {
     "name": "stdout",
     "output_type": "stream",
     "text": [
      "{ lambda ; a:f32[20,20] b:f32[20,20]. let\n",
      "    c:f32[20,20] = mul b 2.0\n",
      "    d:f32[20,20] = add a c\n",
      "  in (d,) }\n"
     ]
    }
   ],
   "source": [
    "f2_jaxpr = jax.make_jaxpr(f2)(A, B)\n",
    "print(f2_jaxpr)"
   ]
  },
  {
   "cell_type": "code",
   "execution_count": 12,
   "id": "435691ec-f259-494f-b7a4-f3d293ce9b52",
   "metadata": {},
   "outputs": [
    {
     "ename": "AssertionError",
     "evalue": "Expected to find input '['2.0']'",
     "output_type": "error",
     "traceback": [
      "\u001b[0;31m---------------------------------------------------------------------------\u001b[0m",
      "\u001b[0;31mAssertionError\u001b[0m                            Traceback (most recent call last)",
      "Cell \u001b[0;32mIn[12], line 1\u001b[0m\n\u001b[0;32m----> 1\u001b[0m f2_sdfg \u001b[38;5;241m=\u001b[39m \u001b[43mt\u001b[49m\u001b[43m(\u001b[49m\u001b[43mf2_jaxpr\u001b[49m\u001b[43m)\u001b[49m\n",
      "File \u001b[0;32m~/git/1_CSCS/jax_demo/JaxprToSDFG.py:37\u001b[0m, in \u001b[0;36mJaxprToSDFG.__call__\u001b[0;34m(self, jaxpr)\u001b[0m\n\u001b[1;32m     34\u001b[0m \u001b[38;5;28;01mdef\u001b[39;00m \u001b[38;5;21m__call__\u001b[39m(\u001b[38;5;28mself\u001b[39m, jaxpr: ClosedJaxpr) \u001b[38;5;241m-\u001b[39m\u001b[38;5;241m>\u001b[39m dace\u001b[38;5;241m.\u001b[39mSDFG:\n\u001b[1;32m     35\u001b[0m \u001b[38;5;250m    \u001b[39m\u001b[38;5;124;03m\"\"\"An alias for `self.transform(jaxpr)`.\u001b[39;00m\n\u001b[1;32m     36\u001b[0m \u001b[38;5;124;03m    \"\"\"\u001b[39;00m\n\u001b[0;32m---> 37\u001b[0m     \u001b[38;5;28;01mreturn\u001b[39;00m \u001b[38;5;28;43mself\u001b[39;49m\u001b[38;5;241;43m.\u001b[39;49m\u001b[43mtransform\u001b[49m\u001b[43m(\u001b[49m\u001b[43mjaxpr\u001b[49m\u001b[43m)\u001b[49m\n",
      "File \u001b[0;32m~/git/1_CSCS/jax_demo/JaxprToSDFG.py:48\u001b[0m, in \u001b[0;36mJaxprToSDFG.transform\u001b[0;34m(self, jaxpr)\u001b[0m\n\u001b[1;32m     42\u001b[0m \u001b[38;5;250m\u001b[39m\u001b[38;5;124;03m\"\"\"Transforms the `jaxpr` into an SDFG and returns it.\u001b[39;00m\n\u001b[1;32m     43\u001b[0m \n\u001b[1;32m     44\u001b[0m \u001b[38;5;124;03mThe idea of the transformation is quite simple.\u001b[39;00m\n\u001b[1;32m     45\u001b[0m \u001b[38;5;124;03mSince Jaxpr is essentially a list of more or less simple instructions we can just loop through them and transform them, each of them translates to a single map.\u001b[39;00m\n\u001b[1;32m     46\u001b[0m \u001b[38;5;124;03m\"\"\"\u001b[39;00m\n\u001b[1;32m     47\u001b[0m \u001b[38;5;28;01mtry\u001b[39;00m:\n\u001b[0;32m---> 48\u001b[0m     \u001b[38;5;28;01mreturn\u001b[39;00m \u001b[38;5;28;43mself\u001b[39;49m\u001b[38;5;241;43m.\u001b[39;49m\u001b[43m_transform\u001b[49m\u001b[43m(\u001b[49m\u001b[43mjaxpr\u001b[49m\u001b[43m)\u001b[49m\n\u001b[1;32m     49\u001b[0m \u001b[38;5;28;01mfinally\u001b[39;00m:\n\u001b[1;32m     50\u001b[0m     \u001b[38;5;28mself\u001b[39m\u001b[38;5;241m.\u001b[39m_clearState()\n",
      "File \u001b[0;32m~/git/1_CSCS/jax_demo/JaxprToSDFG.py:105\u001b[0m, in \u001b[0;36mJaxprToSDFG._transform\u001b[0;34m(self, jaxpr)\u001b[0m\n\u001b[1;32m    103\u001b[0m \u001b[38;5;66;03m# Now transforming every equation one by one.\u001b[39;00m\n\u001b[1;32m    104\u001b[0m \u001b[38;5;28;01mfor\u001b[39;00m eqn \u001b[38;5;129;01min\u001b[39;00m jaxpr\u001b[38;5;241m.\u001b[39mjaxpr\u001b[38;5;241m.\u001b[39meqns:\n\u001b[0;32m--> 105\u001b[0m     \u001b[38;5;28;43mself\u001b[39;49m\u001b[38;5;241;43m.\u001b[39;49m\u001b[43m_translateEqn\u001b[49m\u001b[43m(\u001b[49m\u001b[43mjaxpr\u001b[49m\u001b[43m,\u001b[49m\u001b[43m \u001b[49m\u001b[43meqn\u001b[49m\u001b[43m)\u001b[49m\n\u001b[1;32m    106\u001b[0m \u001b[38;5;66;03m#\u001b[39;00m\n\u001b[1;32m    107\u001b[0m \n\u001b[1;32m    108\u001b[0m \u001b[38;5;66;03m# Handle the output stuff\u001b[39;00m\n\u001b[1;32m    109\u001b[0m \u001b[38;5;28mself\u001b[39m\u001b[38;5;241m.\u001b[39m_createOutputs(jaxpr)\n",
      "File \u001b[0;32m~/git/1_CSCS/jax_demo/JaxprToSDFG.py:217\u001b[0m, in \u001b[0;36mJaxprToSDFG._translateEqn\u001b[0;34m(self, closedJaxp, eqn)\u001b[0m\n\u001b[1;32m    215\u001b[0m \u001b[38;5;28;01massert\u001b[39;00m \u001b[38;5;28misinstance\u001b[39m(eqn, jax\u001b[38;5;241m.\u001b[39m_src\u001b[38;5;241m.\u001b[39mcore\u001b[38;5;241m.\u001b[39mJaxprEqn)\n\u001b[1;32m    216\u001b[0m \u001b[38;5;28;01massert\u001b[39;00m \u001b[38;5;28mall\u001b[39m([\u001b[38;5;28mstr\u001b[39m(out) \u001b[38;5;129;01mnot\u001b[39;00m \u001b[38;5;129;01min\u001b[39;00m \u001b[38;5;28mself\u001b[39m\u001b[38;5;241m.\u001b[39mm_sdfg\u001b[38;5;241m.\u001b[39marrays  \u001b[38;5;28;01mfor\u001b[39;00m out \u001b[38;5;129;01min\u001b[39;00m eqn\u001b[38;5;241m.\u001b[39moutvars])\n\u001b[0;32m--> 217\u001b[0m \u001b[38;5;28;01massert\u001b[39;00m \u001b[38;5;28mall\u001b[39m([\u001b[38;5;28mstr\u001b[39m(inp)     \u001b[38;5;129;01min\u001b[39;00m \u001b[38;5;28mself\u001b[39m\u001b[38;5;241m.\u001b[39mm_sdfg\u001b[38;5;241m.\u001b[39marrays  \u001b[38;5;28;01mfor\u001b[39;00m inp \u001b[38;5;129;01min\u001b[39;00m eqn\u001b[38;5;241m.\u001b[39minvars ]), \u001b[38;5;124mf\u001b[39m\u001b[38;5;124m\"\u001b[39m\u001b[38;5;124mExpected to find input \u001b[39m\u001b[38;5;124m'\u001b[39m\u001b[38;5;132;01m{\u001b[39;00m[\u001b[38;5;250m \u001b[39m\u001b[38;5;28mstr\u001b[39m(inp)\u001b[38;5;250m  \u001b[39m\u001b[38;5;28;01mfor\u001b[39;00m\u001b[38;5;250m \u001b[39minp\u001b[38;5;250m \u001b[39m\u001b[38;5;129;01min\u001b[39;00m\u001b[38;5;250m \u001b[39meqn\u001b[38;5;241m.\u001b[39minvars\u001b[38;5;250m \u001b[39m\u001b[38;5;28;01mif\u001b[39;00m\u001b[38;5;250m \u001b[39m\u001b[38;5;28mstr\u001b[39m(inp)\u001b[38;5;250m \u001b[39m\u001b[38;5;129;01mnot\u001b[39;00m\u001b[38;5;250m \u001b[39m\u001b[38;5;129;01min\u001b[39;00m\u001b[38;5;250m \u001b[39m\u001b[38;5;28mself\u001b[39m\u001b[38;5;241m.\u001b[39mm_sdfg\u001b[38;5;241m.\u001b[39marrays]\u001b[38;5;132;01m}\u001b[39;00m\u001b[38;5;124m'\u001b[39m\u001b[38;5;124m\"\u001b[39m\n\u001b[1;32m    218\u001b[0m \u001b[38;5;28;01massert\u001b[39;00m \u001b[38;5;28mlen\u001b[39m(eqn\u001b[38;5;241m.\u001b[39minvars)  \u001b[38;5;241m>\u001b[39m  \u001b[38;5;241m0\u001b[39m\n\u001b[1;32m    219\u001b[0m \u001b[38;5;28;01massert\u001b[39;00m \u001b[38;5;28mlen\u001b[39m(eqn\u001b[38;5;241m.\u001b[39moutvars) \u001b[38;5;241m==\u001b[39m \u001b[38;5;241m1\u001b[39m, \u001b[38;5;124mf\u001b[39m\u001b[38;5;124m\"\u001b[39m\u001b[38;5;124mExpected only one return value of equation \u001b[39m\u001b[38;5;124m'\u001b[39m\u001b[38;5;132;01m{\u001b[39;00m\u001b[38;5;28mstr\u001b[39m(eqn)\u001b[38;5;132;01m}\u001b[39;00m\u001b[38;5;124m'\u001b[39m\u001b[38;5;124m but it had \u001b[39m\u001b[38;5;132;01m{\u001b[39;00m\u001b[38;5;28mlen\u001b[39m(eqn\u001b[38;5;241m.\u001b[39moutvars)\u001b[38;5;132;01m}\u001b[39;00m\u001b[38;5;124m\"\u001b[39m\n",
      "\u001b[0;31mAssertionError\u001b[0m: Expected to find input '['2.0']'"
     ]
    }
   ],
   "source": [
    "f2_sdfg = t(f2_jaxpr)"
   ]
  },
  {
   "cell_type": "code",
   "execution_count": null,
   "id": "f5ce25aa-9621-4fe9-90c9-a1f66a721982",
   "metadata": {},
   "outputs": [],
   "source": []
  },
  {
   "cell_type": "code",
   "execution_count": null,
   "id": "43bf1a81-8373-4ab3-bd20-4f47cafbd186",
   "metadata": {},
   "outputs": [],
   "source": []
  }
 ],
 "metadata": {
  "kernelspec": {
   "display_name": "dace",
   "language": "python",
   "name": "dace"
  },
  "language_info": {
   "codemirror_mode": {
    "name": "ipython",
    "version": 3
   },
   "file_extension": ".py",
   "mimetype": "text/x-python",
   "name": "python",
   "nbconvert_exporter": "python",
   "pygments_lexer": "ipython3",
   "version": "3.11.4"
  }
 },
 "nbformat": 4,
 "nbformat_minor": 5
}
