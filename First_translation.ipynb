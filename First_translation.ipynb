{
 "cells": [
  {
   "cell_type": "code",
   "execution_count": 1,
   "id": "ef409027-d103-4549-af9a-456440b9a59f",
   "metadata": {},
   "outputs": [
    {
     "data": {
      "text/html": [
       "<link href=\"https://fonts.googleapis.com/icon?family=Material+Icons\" rel=\"stylesheet\"><script src=\"https://spcl.github.io/dace/webclient2/dist/sdfv.js\"></script>\n",
       "<link href=\"https://spcl.github.io/dace/webclient2/sdfv.css\" rel=\"stylesheet\">\n"
      ],
      "text/plain": [
       "<IPython.core.display.HTML object>"
      ]
     },
     "metadata": {},
     "output_type": "display_data"
    }
   ],
   "source": [
    "import numpy as np\n",
    "import jax\n",
    "import jax.numpy as jnp\n",
    "from jax import jit, grad, vmap\n",
    "from jax import random\n",
    "\n",
    "import dace"
   ]
  },
  {
   "cell_type": "code",
   "execution_count": 2,
   "id": "1fa3cc62-e0a8-43e0-a9aa-9c5c6176b4b0",
   "metadata": {},
   "outputs": [],
   "source": [
    "from JaxprToSDFG import  JaxprToSDFG"
   ]
  },
  {
   "cell_type": "markdown",
   "id": "cc8924a9-89d5-4a96-bc71-21f18872a74f",
   "metadata": {},
   "source": [
    "## Demo Input\n",
    "This is the input we are using."
   ]
  },
  {
   "cell_type": "code",
   "execution_count": 3,
   "id": "43318ec1-8792-4d09-ba28-cb1c5cb35b30",
   "metadata": {},
   "outputs": [],
   "source": [
    "N1, N2 = 20, 20\n",
    "A = np.random.rand(N1, N2).astype(np.float64)\n",
    "B = np.random.rand(N1, N2).astype(np.float64)\n",
    "C = np.random.rand(N1).astype(np.float64)\n",
    "D = np.random.rand(N1).astype(np.float64)\n",
    "_OUT = np.ones((N1, N2))\n",
    "_OUT2 = np.ones(N1)\n",
    "_OUT3 = np.ones(N1 - 1)\n",
    "\n",
    "two = np.full((N1, N2), 2.)\n"
   ]
  },
  {
   "cell_type": "markdown",
   "id": "7d6fe400-8b70-4409-94e8-d7fa4ea2bbb7",
   "metadata": {},
   "source": [
    "## Functions to Transforms\n",
    "Here are various functions that we use to transform.\n",
    "They are ordered in increasing complexities."
   ]
  },
  {
   "cell_type": "code",
   "execution_count": 4,
   "id": "18a7cbc4-17e2-4767-954f-68c2cf64f5f6",
   "metadata": {},
   "outputs": [],
   "source": [
    "# A sinple function\n",
    "def f1(A, B, two):\n",
    "    return A + B * two\n",
    "#\n",
    "\n",
    "# This is the same as `f1` but this time `2.0` is a double literal and not an argument.\n",
    "#  Casting does not work yet.\n",
    "def f2(A, B):\n",
    "    return A + B * 2.0\n",
    "#\n",
    "\n",
    "# This is a bit more complicated since it is slicing and thus the input and output have different sizes.\n",
    "def f3(A):\n",
    "    return A[2:]\n",
    "#\n",
    "\n",
    "\n",
    "\n"
   ]
  },
  {
   "cell_type": "markdown",
   "id": "3ffcd098-09e7-49df-b1f7-9e33592bbebc",
   "metadata": {},
   "source": [
    "## Jaxpr\n",
    "We now transform it into Jaxpr."
   ]
  },
  {
   "cell_type": "markdown",
   "id": "bf994bef-c991-4a99-9814-cc374d936ded",
   "metadata": {},
   "source": [
    "#### `f1`"
   ]
  },
  {
   "cell_type": "code",
   "execution_count": 5,
   "id": "e8471b62-bced-4611-bf40-76abea3fe148",
   "metadata": {},
   "outputs": [],
   "source": [
    "f1_jaxpr = jax.make_jaxpr(f1)(A, B, two)"
   ]
  },
  {
   "cell_type": "code",
   "execution_count": 6,
   "id": "767c92c3-5eeb-42a9-85af-551cd2b48924",
   "metadata": {},
   "outputs": [
    {
     "name": "stdout",
     "output_type": "stream",
     "text": [
      "{ lambda ; a:f32[20,20] b:f32[20,20] c:f32[20,20]. let\n",
      "    d:f32[20,20] = mul b c\n",
      "    e:f32[20,20] = add a d\n",
      "  in (e,) }\n"
     ]
    }
   ],
   "source": [
    "print(f1_jaxpr)"
   ]
  },
  {
   "cell_type": "code",
   "execution_count": 7,
   "id": "e23eb4b5-2192-4032-8153-ec7166798351",
   "metadata": {},
   "outputs": [],
   "source": [
    "t = JaxprToSDFG()\n",
    "f1_sdfg = t(f1_jaxpr)\n",
    "#f1_sdfg"
   ]
  },
  {
   "cell_type": "code",
   "execution_count": 8,
   "id": "dec5f978-ba95-42b8-9cda-d336f1f2e07a",
   "metadata": {},
   "outputs": [],
   "source": [
    "# Currently it is requiered to make the renaming manually.\n",
    "f1_sdfg(a=A, b=B, c=two, _out=_OUT)"
   ]
  },
  {
   "cell_type": "code",
   "execution_count": 9,
   "id": "cdd262e3-7291-40e6-b57c-42f24170f491",
   "metadata": {},
   "outputs": [],
   "source": [
    "resExp = f1(A, B, two)\n",
    "resDC  = _OUT\n",
    "\n",
    "assert np.all(np.abs(resDC - resExp) <= 10**(-13))\n"
   ]
  },
  {
   "cell_type": "markdown",
   "id": "b64e7637-a110-4168-bb04-774d98a747ec",
   "metadata": {},
   "source": [
    "#### `f2`"
   ]
  },
  {
   "cell_type": "code",
   "execution_count": 10,
   "id": "2b0ecdf6-0cee-4f69-b53d-51182fc2a6b4",
   "metadata": {},
   "outputs": [
    {
     "name": "stdout",
     "output_type": "stream",
     "text": [
      "{ lambda ; a:f32[20,20] b:f32[20,20]. let\n",
      "    c:f32[20,20] = mul b 2.0\n",
      "    d:f32[20,20] = add a c\n",
      "  in (d,) }\n"
     ]
    }
   ],
   "source": [
    "f2_jaxpr = jax.make_jaxpr(f2)(A, B)\n",
    "print(f2_jaxpr)"
   ]
  },
  {
   "cell_type": "code",
   "execution_count": 11,
   "id": "435691ec-f259-494f-b7a4-f3d293ce9b52",
   "metadata": {},
   "outputs": [],
   "source": [
    "f2_sdfg = t(f2_jaxpr)"
   ]
  },
  {
   "cell_type": "code",
   "execution_count": 12,
   "id": "517caf6b-a6d3-4ffd-be5d-6126bd60899b",
   "metadata": {},
   "outputs": [],
   "source": [
    "# Currently it is requiered to make the renaming manually.\n",
    "f2_sdfg(a=A, b=B, _out=_OUT)"
   ]
  },
  {
   "cell_type": "code",
   "execution_count": 13,
   "id": "f98ce440-cee4-4aff-9531-03094c8d0f44",
   "metadata": {},
   "outputs": [],
   "source": [
    "resExp = f2(A, B)\n",
    "resDC  = _OUT\n",
    "\n",
    "assert np.all(np.abs(resDC - resExp) <= 10**(-13))"
   ]
  },
  {
   "cell_type": "markdown",
   "id": "f4e7385d-b0ec-4dc7-8422-bdffa2474724",
   "metadata": {},
   "source": [
    "#### `f3`\n",
    "Simple slicing."
   ]
  },
  {
   "cell_type": "code",
   "execution_count": 14,
   "id": "ed72cb2a-69ca-48ee-a738-a7854758d8d8",
   "metadata": {},
   "outputs": [
    {
     "name": "stdout",
     "output_type": "stream",
     "text": [
      "{ lambda ; a:f32[20]. let\n",
      "    b:f32[18] = slice[limit_indices=(20,) start_indices=(2,) strides=None] a\n",
      "  in (b,) }\n"
     ]
    }
   ],
   "source": [
    "f3_jaxpr = jax.make_jaxpr(f3)(C)\n",
    "print(f3_jaxpr)"
   ]
  },
  {
   "cell_type": "code",
   "execution_count": 15,
   "id": "068b955e-6239-43a9-af96-4cf0b36e1deb",
   "metadata": {},
   "outputs": [],
   "source": [
    "f3_sdfg = t(f3_jaxpr)"
   ]
  },
  {
   "cell_type": "code",
   "execution_count": 16,
   "id": "bad16e05-10c2-4c0d-9114-b0a0039c3ac9",
   "metadata": {},
   "outputs": [],
   "source": [
    "resExp = f3(C)\n",
    "_OUTF3 = np.ones_like(resExp)   # I have to fix this error\n",
    "f3_sdfg(a=C, _out=_OUTF3)\n",
    "resDC  = _OUTF3\n",
    "\n",
    "assert np.all(np.abs(resDC - resExp) <= 10**(-13))"
   ]
  },
  {
   "cell_type": "code",
   "execution_count": null,
   "id": "6453ee4d-4aee-44e7-8632-b5fb75a5f086",
   "metadata": {},
   "outputs": [],
   "source": []
  }
 ],
 "metadata": {
  "kernelspec": {
   "display_name": "dace",
   "language": "python",
   "name": "dace"
  },
  "language_info": {
   "codemirror_mode": {
    "name": "ipython",
    "version": 3
   },
   "file_extension": ".py",
   "mimetype": "text/x-python",
   "name": "python",
   "nbconvert_exporter": "python",
   "pygments_lexer": "ipython3",
   "version": "3.11.4"
  }
 },
 "nbformat": 4,
 "nbformat_minor": 5
}
