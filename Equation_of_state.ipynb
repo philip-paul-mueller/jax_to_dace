{
 "cells": [
  {
   "cell_type": "markdown",
   "id": "0c108d30-454b-4138-a3ed-6e37c5bc9e9a",
   "metadata": {},
   "source": [
    "# Equation of State\n",
    "This uses the [equation of state](https://github.com/dionhaefner/pyhpc-benchmarks/blob/master/benchmarks/equation_of_state/eos_jax.py) from the [`pyhpc`](https://github.com/dionhaefner/pyhpc-benchmarks/) benchmark."
   ]
  },
  {
   "cell_type": "code",
   "execution_count": null,
   "id": "48f1d8aa-6b2a-4e6b-b5bb-6fb2d29e03a9",
   "metadata": {},
   "outputs": [],
   "source": []
  },
  {
   "cell_type": "code",
   "execution_count": 1,
   "id": "05ab0c6e-499f-4c52-ab5b-66f00e5415c5",
   "metadata": {},
   "outputs": [
    {
     "data": {
      "text/html": [
       "<link href=\"https://fonts.googleapis.com/icon?family=Material+Icons\" rel=\"stylesheet\"><script src=\"https://spcl.github.io/dace/webclient2/dist/sdfv.js\"></script>\n",
       "<link href=\"https://spcl.github.io/dace/webclient2/sdfv.css\" rel=\"stylesheet\">\n"
      ],
      "text/plain": [
       "<IPython.core.display.HTML object>"
      ]
     },
     "metadata": {},
     "output_type": "display_data"
    }
   ],
   "source": [
    "import os, copy\n",
    "#ncpu=1\n",
    "#os.environ['XLA_FLAGS'] = f\"--xla_force_host_platform_device_count={ncpu}\"\n",
    "#os.environ[\"XLA_FLAGS\"] = (\"--xla_cpu_multi_thread_eigen=false \" \"intra_op_parallelism_threads=1\")\n",
    "#os.environ['JAX_PLATFORMS'] = \"cpu\"\n",
    "\n",
    "UseGPU = True\n",
    "\n",
    "if UseGPU:\n",
    "    devType = 'GPU'\n",
    "    os.environ['JAX_PLATFORMS'] = \"cuda\"\n",
    "    os.environ[\"XLA_PYTHON_CLIENT_MEM_FRACTION\"] = \".30\"    # https://jax.readthedocs.io/en/latest/gpu_memory_allocation.html\n",
    "    import cupy as np\n",
    "\n",
    "else:\n",
    "    devType = 'CPU'\n",
    "    os.environ['JAX_PLATFORMS'] = \"cpu\"\n",
    "    import numpy as np\n",
    "#\n",
    "\n",
    "import numpy\n",
    "import jax\n",
    "import sys\n",
    "import jax.numpy as jnp\n",
    "from jax import jit, grad, vmap\n",
    "from jax import random\n",
    "\n",
    "# This must be enabled when `make_jaxpr` is called, because otherwhise we get problems.\n",
    "jax.config.update(\"jax_enable_x64\", True)\n",
    "\n",
    "\n",
    "import timeit\n",
    "from datetime import datetime\n",
    "from pickle import dump\n",
    "\n",
    "\n",
    "import pyhpc\n",
    "from pyhpc.equation_of_state import get_callable, generate_inputs\n",
    "from pyhpc.equation_of_state.eos_jax import gsw_dHdT as CALL\n",
    "from pyhpc.equation_of_state.eos_numpy import gsw_dHdT as gsw_dHdT_NP\n",
    "\n",
    "import dace\n",
    "\n",
    "\n",
    "if UseGPU:\n",
    "    device = dace.DeviceType.GPU\n",
    "    dace.config.Config.set(\"compiler\", \"cpu\", \"executable\", value=\"/usr/bin/g++-12\")\n",
    "else:\n",
    "    device = dace.DeviceType.CPU\n",
    "#"
   ]
  },
  {
   "cell_type": "markdown",
   "id": "ac417d13-b905-4bea-9050-64a5c9689dcf",
   "metadata": {},
   "source": [
    "#### Parameter of Benchmarking"
   ]
  },
  {
   "cell_type": "code",
   "execution_count": 2,
   "id": "ea0fad2c-652d-43bd-837b-bba781cb63ee",
   "metadata": {},
   "outputs": [],
   "source": [
    "repeat, number = 3000, 50"
   ]
  },
  {
   "cell_type": "markdown",
   "id": "bbcb87d3-d10b-4519-814e-4b6f4f0e5015",
   "metadata": {},
   "source": [
    "#### The `JAX->SDFG` Translator"
   ]
  },
  {
   "cell_type": "code",
   "execution_count": 3,
   "id": "80c511c4-ee32-492e-a86a-0d5ba6f5b104",
   "metadata": {},
   "outputs": [],
   "source": [
    "from JaxprToSDFG import  JaxprToSDFG\n",
    "t = JaxprToSDFG(device=device, inp_on_gpu=True)"
   ]
  },
  {
   "cell_type": "markdown",
   "id": "82c98a76-250f-40d6-a35b-599f2fb48a3a",
   "metadata": {},
   "source": [
    "###### Options for Compilation"
   ]
  },
  {
   "cell_type": "code",
   "execution_count": 4,
   "id": "b6d41424-b1d7-4368-99c0-e3f00896284e",
   "metadata": {},
   "outputs": [],
   "source": [
    "_build_type = \"Release\"\n",
    "# removing  -ffast-math from DaCe default compiler args in order to support isfinite/isinf/isnan built-ins\n",
    "_cpu_args = dace.config.Config.get(\"compiler\", \"cpu\", \"args\").replace('-ffast-math', '') + ' -fopenmp' + ' -faligned-new'"
   ]
  },
  {
   "cell_type": "markdown",
   "id": "05ef090f-3e3e-4846-855a-bf40e2bc9192",
   "metadata": {},
   "source": [
    "### Bench Loop"
   ]
  },
  {
   "cell_type": "code",
   "execution_count": 5,
   "id": "a4b50ee2-5eae-402e-acde-fdb8a3ad7dbb",
   "metadata": {},
   "outputs": [
    {
     "name": "stdout",
     "output_type": "stream",
     "text": [
      "Start with size 5\n",
      "Applied 286 MapFusion.Elimination.\r"
     ]
    },
    {
     "name": "stderr",
     "output_type": "stream",
     "text": [
      "/home/quint_essent/git/1_CSCS/dace/dace/codegen/targets/cuda.py:1830: UserWarning: No `gpu_block_size` property specified on map \"outer_fused\". Falling back to the configuration entry `compiler.cuda.default_block_size`: 32,1,1. You can either specify the block size to use with the gpu_block_size property, or by adding nested `GPU_ThreadBlock` maps, which map work to individual threads. For more information, see https://spcldace.readthedocs.io/en/latest/optimization/gpu.html\n",
      "  warnings.warn(\n"
     ]
    },
    {
     "name": "stdout",
     "output_type": "stream",
     "text": [
      "Start with size 20\n",
      "Applied 304 TrivialMapElimination.\r"
     ]
    },
    {
     "ename": "KeyboardInterrupt",
     "evalue": "",
     "output_type": "error",
     "traceback": [
      "\u001b[0;31m---------------------------------------------------------------------------\u001b[0m",
      "\u001b[0;31mKeyboardInterrupt\u001b[0m                         Traceback (most recent call last)",
      "Cell \u001b[0;32mIn[5], line 51\u001b[0m\n\u001b[1;32m     49\u001b[0m \u001b[38;5;28;01mif\u001b[39;00m(auto_opt): \u001b[38;5;66;03m# to_sdfg() does not apply optimizations\u001b[39;00m\n\u001b[1;32m     50\u001b[0m     \u001b[38;5;28;01mfrom\u001b[39;00m \u001b[38;5;21;01mdace\u001b[39;00m\u001b[38;5;21;01m.\u001b[39;00m\u001b[38;5;21;01mtransformation\u001b[39;00m\u001b[38;5;21;01m.\u001b[39;00m\u001b[38;5;21;01mauto\u001b[39;00m \u001b[38;5;28;01mimport\u001b[39;00m auto_optimize \u001b[38;5;28;01mas\u001b[39;00m autoopt\n\u001b[0;32m---> 51\u001b[0m     CallPFSDFG \u001b[38;5;241m=\u001b[39m \u001b[43mautoopt\u001b[49m\u001b[38;5;241;43m.\u001b[39;49m\u001b[43mauto_optimize\u001b[49m\u001b[43m(\u001b[49m\u001b[43mCallPFSDFG\u001b[49m\u001b[43m,\u001b[49m\u001b[43m \u001b[49m\u001b[43mdevice\u001b[49m\u001b[38;5;241;43m=\u001b[39;49m\u001b[43mdevice\u001b[49m\u001b[43m,\u001b[49m\u001b[43m \u001b[49m\u001b[43mvalidate\u001b[49m\u001b[38;5;241;43m=\u001b[39;49m\u001b[38;5;28;43;01mFalse\u001b[39;49;00m\u001b[43m)\u001b[49m\n\u001b[1;32m     52\u001b[0m \u001b[38;5;28;01mif\u001b[39;00m(UseGPU):\n\u001b[1;32m     53\u001b[0m     CallPFSDFG\u001b[38;5;241m.\u001b[39mapply_gpu_transformations(validate\u001b[38;5;241m=\u001b[39m\u001b[38;5;28;01mFalse\u001b[39;00m)\n",
      "File \u001b[0;32m~/git/1_CSCS/dace/dace/transformation/auto/auto_optimize.py:570\u001b[0m, in \u001b[0;36mauto_optimize\u001b[0;34m(sdfg, device, validate, validate_all, symbols, use_gpu_storage)\u001b[0m\n\u001b[1;32m    568\u001b[0m \u001b[38;5;66;03m# Simplification and loop parallelization\u001b[39;00m\n\u001b[1;32m    569\u001b[0m transformed \u001b[38;5;241m=\u001b[39m \u001b[38;5;28;01mTrue\u001b[39;00m\n\u001b[0;32m--> 570\u001b[0m \u001b[43msdfg\u001b[49m\u001b[38;5;241;43m.\u001b[39;49m\u001b[43mapply_transformations_repeated\u001b[49m\u001b[43m(\u001b[49m\u001b[43mTrivialMapElimination\u001b[49m\u001b[43m,\u001b[49m\u001b[43m \u001b[49m\u001b[43mvalidate\u001b[49m\u001b[38;5;241;43m=\u001b[39;49m\u001b[43mvalidate\u001b[49m\u001b[43m,\u001b[49m\u001b[43m \u001b[49m\u001b[43mvalidate_all\u001b[49m\u001b[38;5;241;43m=\u001b[39;49m\u001b[43mvalidate_all\u001b[49m\u001b[43m)\u001b[49m\n\u001b[1;32m    571\u001b[0m \u001b[38;5;28;01mwhile\u001b[39;00m transformed:\n\u001b[1;32m    572\u001b[0m     sdfg\u001b[38;5;241m.\u001b[39msimplify(validate\u001b[38;5;241m=\u001b[39m\u001b[38;5;28;01mFalse\u001b[39;00m, validate_all\u001b[38;5;241m=\u001b[39mvalidate_all)\n",
      "File \u001b[0;32m~/git/1_CSCS/dace/dace/sdfg/sdfg.py:2484\u001b[0m, in \u001b[0;36mSDFG.apply_transformations_repeated\u001b[0;34m(self, xforms, options, validate, validate_all, permissive, states, print_report, order_by_transformation, progress)\u001b[0m\n\u001b[1;32m   2480\u001b[0m xforms \u001b[38;5;241m=\u001b[39m \u001b[38;5;28mself\u001b[39m\u001b[38;5;241m.\u001b[39m_initialize_transformations_from_type(xforms, options)\n\u001b[1;32m   2482\u001b[0m pazz \u001b[38;5;241m=\u001b[39m PatternMatchAndApplyRepeated(xforms, permissive, validate, validate_all, states, print_report, progress,\n\u001b[1;32m   2483\u001b[0m                                     order_by_transformation)\n\u001b[0;32m-> 2484\u001b[0m results \u001b[38;5;241m=\u001b[39m \u001b[43mpazz\u001b[49m\u001b[38;5;241;43m.\u001b[39;49m\u001b[43mapply_pass\u001b[49m\u001b[43m(\u001b[49m\u001b[38;5;28;43mself\u001b[39;49m\u001b[43m,\u001b[49m\u001b[43m \u001b[49m\u001b[43m{\u001b[49m\u001b[43m}\u001b[49m\u001b[43m)\u001b[49m\n\u001b[1;32m   2486\u001b[0m \u001b[38;5;66;03m# Return number of transformations applied\u001b[39;00m\n\u001b[1;32m   2487\u001b[0m \u001b[38;5;28;01mif\u001b[39;00m results \u001b[38;5;129;01mis\u001b[39;00m \u001b[38;5;28;01mNone\u001b[39;00m:\n",
      "File \u001b[0;32m~/git/1_CSCS/dace/dace/transformation/passes/pattern_matching.py:253\u001b[0m, in \u001b[0;36mPatternMatchAndApplyRepeated.apply_pass\u001b[0;34m(self, sdfg, pipeline_results)\u001b[0m\n\u001b[1;32m    252\u001b[0m \u001b[38;5;28;01mdef\u001b[39;00m \u001b[38;5;21mapply_pass\u001b[39m(\u001b[38;5;28mself\u001b[39m, sdfg: SDFG, pipeline_results: Dict[\u001b[38;5;28mstr\u001b[39m, Any]) \u001b[38;5;241m-\u001b[39m\u001b[38;5;241m>\u001b[39m Dict[\u001b[38;5;28mstr\u001b[39m, List[Any]]:\n\u001b[0;32m--> 253\u001b[0m     \u001b[38;5;28;01mreturn\u001b[39;00m \u001b[38;5;28;43mself\u001b[39;49m\u001b[38;5;241;43m.\u001b[39;49m\u001b[43m_apply_pass\u001b[49m\u001b[43m(\u001b[49m\u001b[43msdfg\u001b[49m\u001b[43m,\u001b[49m\u001b[43m \u001b[49m\u001b[43mpipeline_results\u001b[49m\u001b[43m,\u001b[49m\u001b[43m \u001b[49m\u001b[43mapply_once\u001b[49m\u001b[38;5;241;43m=\u001b[39;49m\u001b[38;5;28;43;01mFalse\u001b[39;49;00m\u001b[43m)\u001b[49m\n",
      "File \u001b[0;32m~/git/1_CSCS/dace/dace/transformation/passes/pattern_matching.py:206\u001b[0m, in \u001b[0;36mPatternMatchAndApplyRepeated._apply_pass\u001b[0;34m(self, sdfg, pipeline_results, apply_once)\u001b[0m\n\u001b[1;32m    204\u001b[0m \u001b[38;5;28;01mwhile\u001b[39;00m applied:\n\u001b[1;32m    205\u001b[0m     applied \u001b[38;5;241m=\u001b[39m \u001b[38;5;28;01mFalse\u001b[39;00m\n\u001b[0;32m--> 206\u001b[0m     \u001b[38;5;28;01mfor\u001b[39;00m match \u001b[38;5;129;01min\u001b[39;00m match_patterns(sdfg,\n\u001b[1;32m    207\u001b[0m                                 permissive\u001b[38;5;241m=\u001b[39m\u001b[38;5;28mself\u001b[39m\u001b[38;5;241m.\u001b[39mpermissive,\n\u001b[1;32m    208\u001b[0m                                 patterns\u001b[38;5;241m=\u001b[39m[xform],\n\u001b[1;32m    209\u001b[0m                                 states\u001b[38;5;241m=\u001b[39m\u001b[38;5;28mself\u001b[39m\u001b[38;5;241m.\u001b[39mstates,\n\u001b[1;32m    210\u001b[0m                                 metadata\u001b[38;5;241m=\u001b[39m\u001b[38;5;28mself\u001b[39m\u001b[38;5;241m.\u001b[39m_metadata):\n\u001b[1;32m    211\u001b[0m         \u001b[38;5;28mself\u001b[39m\u001b[38;5;241m.\u001b[39m_apply_and_validate(match, sdfg, start, pipeline_results, applied_transformations)\n\u001b[1;32m    212\u001b[0m         applied \u001b[38;5;241m=\u001b[39m \u001b[38;5;28;01mTrue\u001b[39;00m\n",
      "File \u001b[0;32m~/git/1_CSCS/dace/dace/transformation/passes/pattern_matching.py:546\u001b[0m, in \u001b[0;36mmatch_patterns\u001b[0;34m(sdfg, patterns, node_match, edge_match, permissive, metadata, states, options)\u001b[0m\n\u001b[1;32m    544\u001b[0m \u001b[38;5;28;01mfor\u001b[39;00m xform, expr_idx, nxpattern, matcher, opts \u001b[38;5;129;01min\u001b[39;00m singlestate_transformations:\n\u001b[1;32m    545\u001b[0m     \u001b[38;5;28;01mfor\u001b[39;00m subgraph \u001b[38;5;129;01min\u001b[39;00m matcher(digraph, nxpattern, node_match, edge_match):\n\u001b[0;32m--> 546\u001b[0m         match \u001b[38;5;241m=\u001b[39m \u001b[43m_try_to_match_transformation\u001b[49m\u001b[43m(\u001b[49m\u001b[43mstate\u001b[49m\u001b[43m,\u001b[49m\u001b[43m \u001b[49m\u001b[43mdigraph\u001b[49m\u001b[43m,\u001b[49m\u001b[43m \u001b[49m\u001b[43msubgraph\u001b[49m\u001b[43m,\u001b[49m\u001b[43m \u001b[49m\u001b[43mtsdfg\u001b[49m\u001b[43m,\u001b[49m\u001b[43m \u001b[49m\u001b[43mxform\u001b[49m\u001b[43m,\u001b[49m\u001b[43m \u001b[49m\u001b[43mexpr_idx\u001b[49m\u001b[43m,\u001b[49m\u001b[43m \u001b[49m\u001b[43mnxpattern\u001b[49m\u001b[43m,\u001b[49m\n\u001b[1;32m    547\u001b[0m \u001b[43m                                             \u001b[49m\u001b[43mstate_id\u001b[49m\u001b[43m,\u001b[49m\u001b[43m \u001b[49m\u001b[43mpermissive\u001b[49m\u001b[43m,\u001b[49m\u001b[43m \u001b[49m\u001b[43mopts\u001b[49m\u001b[43m)\u001b[49m\n\u001b[1;32m    548\u001b[0m         \u001b[38;5;28;01mif\u001b[39;00m match \u001b[38;5;129;01mis\u001b[39;00m \u001b[38;5;129;01mnot\u001b[39;00m \u001b[38;5;28;01mNone\u001b[39;00m:\n\u001b[1;32m    549\u001b[0m             \u001b[38;5;28;01myield\u001b[39;00m match\n",
      "File \u001b[0;32m~/git/1_CSCS/dace/dace/transformation/passes/pattern_matching.py:381\u001b[0m, in \u001b[0;36m_try_to_match_transformation\u001b[0;34m(graph, collapsed_graph, subgraph, sdfg, xform, expr_idx, nxpattern, state_id, permissive, options)\u001b[0m\n\u001b[1;32m    378\u001b[0m                 \u001b[38;5;28msetattr\u001b[39m(match, oname, oval)\n\u001b[1;32m    380\u001b[0m     \u001b[38;5;28;01mmatch\u001b[39;00m\u001b[38;5;241m.\u001b[39msetup_match(sdfg, sdfg\u001b[38;5;241m.\u001b[39msdfg_id, state_id, subgraph, expr_idx, options\u001b[38;5;241m=\u001b[39moptions)\n\u001b[0;32m--> 381\u001b[0m     match_found \u001b[38;5;241m=\u001b[39m \u001b[43mmatch\u001b[49m\u001b[38;5;241;43m.\u001b[39;49m\u001b[43mcan_be_applied\u001b[49m\u001b[43m(\u001b[49m\u001b[43mgraph\u001b[49m\u001b[43m,\u001b[49m\u001b[43m \u001b[49m\u001b[43mexpr_idx\u001b[49m\u001b[43m,\u001b[49m\u001b[43m \u001b[49m\u001b[43msdfg\u001b[49m\u001b[43m,\u001b[49m\u001b[43m \u001b[49m\u001b[43mpermissive\u001b[49m\u001b[38;5;241;43m=\u001b[39;49m\u001b[43mpermissive\u001b[49m\u001b[43m)\u001b[49m\n\u001b[1;32m    382\u001b[0m \u001b[38;5;28;01mexcept\u001b[39;00m \u001b[38;5;167;01mException\u001b[39;00m \u001b[38;5;28;01mas\u001b[39;00m e:\n\u001b[1;32m    383\u001b[0m     \u001b[38;5;28;01mif\u001b[39;00m Config\u001b[38;5;241m.\u001b[39mget_bool(\u001b[38;5;124m'\u001b[39m\u001b[38;5;124moptimizer\u001b[39m\u001b[38;5;124m'\u001b[39m, \u001b[38;5;124m'\u001b[39m\u001b[38;5;124mmatch_exception\u001b[39m\u001b[38;5;124m'\u001b[39m):\n",
      "File \u001b[0;32m~/git/1_CSCS/dace/dace/transformation/dataflow/trivial_map_elimination.py:28\u001b[0m, in \u001b[0;36mTrivialMapElimination.can_be_applied\u001b[0;34m(self, graph, expr_index, sdfg, permissive)\u001b[0m\n\u001b[1;32m     27\u001b[0m \u001b[38;5;28;01mdef\u001b[39;00m \u001b[38;5;21mcan_be_applied\u001b[39m(\u001b[38;5;28mself\u001b[39m, graph, expr_index, sdfg, permissive\u001b[38;5;241m=\u001b[39m\u001b[38;5;28;01mFalse\u001b[39;00m):\n\u001b[0;32m---> 28\u001b[0m     map_entry \u001b[38;5;241m=\u001b[39m \u001b[38;5;28;43mself\u001b[39;49m\u001b[38;5;241;43m.\u001b[39;49m\u001b[43mmap_entry\u001b[49m\n\u001b[1;32m     29\u001b[0m     \u001b[38;5;28;01mreturn\u001b[39;00m \u001b[38;5;28many\u001b[39m(r[\u001b[38;5;241m0\u001b[39m] \u001b[38;5;241m==\u001b[39m r[\u001b[38;5;241m1\u001b[39m] \u001b[38;5;28;01mfor\u001b[39;00m r \u001b[38;5;129;01min\u001b[39;00m map_entry\u001b[38;5;241m.\u001b[39mmap\u001b[38;5;241m.\u001b[39mrange)\n",
      "File \u001b[0;32m~/git/1_CSCS/dace/dace/transformation/transformation.py:568\u001b[0m, in \u001b[0;36mPatternNode.__get__\u001b[0;34m(self, instance, owner)\u001b[0m\n\u001b[1;32m    565\u001b[0m     \u001b[38;5;28;01mreturn\u001b[39;00m instance\u001b[38;5;241m.\u001b[39m_sdfg\u001b[38;5;241m.\u001b[39mnode(node_id)\n\u001b[1;32m    567\u001b[0m \u001b[38;5;66;03m# Single-state transformation\u001b[39;00m\n\u001b[0;32m--> 568\u001b[0m \u001b[38;5;28;01mreturn\u001b[39;00m \u001b[43minstance\u001b[49m\u001b[38;5;241;43m.\u001b[39;49m\u001b[43m_sdfg\u001b[49m\u001b[38;5;241;43m.\u001b[39;49m\u001b[43mnode\u001b[49m\u001b[43m(\u001b[49m\u001b[43mstate_id\u001b[49m\u001b[43m)\u001b[49m\u001b[38;5;241;43m.\u001b[39;49m\u001b[43mnode\u001b[49m\u001b[43m(\u001b[49m\u001b[43mnode_id\u001b[49m\u001b[43m)\u001b[49m\n",
      "File \u001b[0;32m~/git/1_CSCS/dace/dace/sdfg/graph.py:634\u001b[0m, in \u001b[0;36mOrderedDiGraph.node\u001b[0;34m(self, id)\u001b[0m\n\u001b[1;32m    632\u001b[0m \u001b[38;5;28;01mdef\u001b[39;00m \u001b[38;5;21mnode\u001b[39m(\u001b[38;5;28mself\u001b[39m, \u001b[38;5;28mid\u001b[39m: \u001b[38;5;28mint\u001b[39m) \u001b[38;5;241m-\u001b[39m\u001b[38;5;241m>\u001b[39m NodeT:\n\u001b[1;32m    633\u001b[0m     \u001b[38;5;28;01mtry\u001b[39;00m:\n\u001b[0;32m--> 634\u001b[0m         \u001b[38;5;28;01mreturn\u001b[39;00m \u001b[38;5;28;43mnext\u001b[39;49m\u001b[43m(\u001b[49m\u001b[43mn\u001b[49m\u001b[43m \u001b[49m\u001b[38;5;28;43;01mfor\u001b[39;49;00m\u001b[43m \u001b[49m\u001b[43mi\u001b[49m\u001b[43m,\u001b[49m\u001b[43m \u001b[49m\u001b[43mn\u001b[49m\u001b[43m \u001b[49m\u001b[38;5;129;43;01min\u001b[39;49;00m\u001b[43m \u001b[49m\u001b[38;5;28;43menumerate\u001b[39;49m\u001b[43m(\u001b[49m\u001b[38;5;28;43mself\u001b[39;49m\u001b[38;5;241;43m.\u001b[39;49m\u001b[43m_nodes\u001b[49m\u001b[38;5;241;43m.\u001b[39;49m\u001b[43mkeys\u001b[49m\u001b[43m(\u001b[49m\u001b[43m)\u001b[49m\u001b[43m)\u001b[49m\u001b[43m \u001b[49m\u001b[38;5;28;43;01mif\u001b[39;49;00m\u001b[43m \u001b[49m\u001b[43mi\u001b[49m\u001b[43m \u001b[49m\u001b[38;5;241;43m==\u001b[39;49m\u001b[43m \u001b[49m\u001b[38;5;28;43mid\u001b[39;49m\u001b[43m)\u001b[49m\n\u001b[1;32m    635\u001b[0m     \u001b[38;5;28;01mexcept\u001b[39;00m \u001b[38;5;167;01mStopIteration\u001b[39;00m:\n\u001b[1;32m    636\u001b[0m         \u001b[38;5;28;01mraise\u001b[39;00m NodeNotFoundError\n",
      "File \u001b[0;32m~/git/1_CSCS/dace/dace/sdfg/graph.py:634\u001b[0m, in \u001b[0;36m<genexpr>\u001b[0;34m(.0)\u001b[0m\n\u001b[1;32m    632\u001b[0m \u001b[38;5;28;01mdef\u001b[39;00m \u001b[38;5;21mnode\u001b[39m(\u001b[38;5;28mself\u001b[39m, \u001b[38;5;28mid\u001b[39m: \u001b[38;5;28mint\u001b[39m) \u001b[38;5;241m-\u001b[39m\u001b[38;5;241m>\u001b[39m NodeT:\n\u001b[1;32m    633\u001b[0m     \u001b[38;5;28;01mtry\u001b[39;00m:\n\u001b[0;32m--> 634\u001b[0m         \u001b[38;5;28;01mreturn\u001b[39;00m \u001b[38;5;28mnext\u001b[39m(n \u001b[38;5;28;01mfor\u001b[39;00m i, n \u001b[38;5;129;01min\u001b[39;00m \u001b[38;5;28menumerate\u001b[39m(\u001b[38;5;28mself\u001b[39m\u001b[38;5;241m.\u001b[39m_nodes\u001b[38;5;241m.\u001b[39mkeys()) \u001b[38;5;28;01mif\u001b[39;00m i \u001b[38;5;241m==\u001b[39m \u001b[38;5;28mid\u001b[39m)\n\u001b[1;32m    635\u001b[0m     \u001b[38;5;28;01mexcept\u001b[39;00m \u001b[38;5;167;01mStopIteration\u001b[39;00m:\n\u001b[1;32m    636\u001b[0m         \u001b[38;5;28;01mraise\u001b[39;00m NodeNotFoundError\n",
      "\u001b[0;31mKeyboardInterrupt\u001b[0m: "
     ]
    }
   ],
   "source": [
    "xSizes = numpy.array([5 * i  for i in range(1, 10)])\n",
    "ySizes = xSizes.copy()\n",
    "gSizes = numpy.array([5] + [20 * i  for i in range(1, 21)])\n",
    "\n",
    "resTime_sdfg = []\n",
    "resTime_pf   = []\n",
    "resTime_jax  = []\n",
    "\n",
    "usePF = True\n",
    "useJaxToSDFG = True\n",
    "\n",
    "simplify = True\n",
    "auto_opt = True\n",
    "\n",
    "# For dumping\n",
    "Now = datetime.now()\n",
    "FileName = f'EqOfState_{devType}__{Now.year}-{Now.month}-{Now.day}_{Now.hour}-{Now.minute}-{Now.second}.pickle'\n",
    "gSizesUntilNow = []\n",
    "\n",
    "for gSize in gSizes:\n",
    "    print(f\"Start with size {gSize}\")\n",
    "    # Generate the input that we use\n",
    "    INP_NP = generate_inputs(gSize)\n",
    "    INP = [np.array(x)  for x in INP_NP]\n",
    "    INP_JAX = [jnp.array(x)  for x in INP_NP]\n",
    "\n",
    "    # Generate the SDFG we will use to call\n",
    "    with jax.disable_jit(disable=True):\n",
    "        if(useJaxToSDFG):\n",
    "            JaxprCall = jax.make_jaxpr(CALL)(*INP)\n",
    "            CallSDFG = t(JaxprCall, simplify=simplify, auto_opt=auto_opt, ret_by_arg=True, device=device)\n",
    "        #\n",
    "    #\n",
    "    with dace.config.temporary_config():\n",
    "        dace.config.Config.set(\"compiler\", \"build_type\", value=_build_type)\n",
    "        dace.config.Config.set(\"compiler\", \"cpu\", \"args\", value=_cpu_args)\n",
    "\n",
    "        if(useJaxToSDFG):\n",
    "            CallDaCe = CallSDFG.compile()\n",
    "\n",
    "        # Generate the SDFG that is based on the Python frontend\n",
    "        if(usePF):\n",
    "            # We have to do it that way, because otherwise we got some strange errors.\n",
    "            #  Also the `validate=False`\n",
    "            CallPFProg = dace.program(auto_optimize=False, recreate_sdfg=True, device=device)(gsw_dHdT_NP)\n",
    "            CallPFSDFG = CallPFProg.to_sdfg(*INP, simplify=False, validate=False)\n",
    "            if(simplify):\n",
    "                CallPFSDFG.simplify(validate=False)\n",
    "            if(auto_opt): # to_sdfg() does not apply optimizations\n",
    "                from dace.transformation.auto import auto_optimize as autoopt\n",
    "                CallPFSDFG = autoopt.auto_optimize(CallPFSDFG, device=device, validate=False)\n",
    "            if(UseGPU):\n",
    "                CallPFSDFG.apply_gpu_transformations(validate=False)\n",
    "                # Allow to put everything on the GPU\n",
    "                for argName in CallPFSDFG.arg_names:\n",
    "                    sdfgArr = CallPFSDFG.arrays[argName]\n",
    "                    sdfgArr.storage = dace.StorageType.GPU_Global\n",
    "                #\n",
    "                CallPFSDFG.simplify(validate=False)\n",
    "                del sdfgArr, argName\n",
    "            #\n",
    "            CallPFSDFG.validate()\n",
    "            CallPF   = CallPFSDFG.compile()\n",
    "        #\n",
    "    #\n",
    "\n",
    "    # Now generate the Jax Call\n",
    "    CallJax = jax.jit(CALL)\n",
    "    _ = CallJax(*INP_JAX).block_until_ready()\n",
    "\n",
    "    # Now call JAX and SDFG once\n",
    "    _out = np.zeros_like(INP[0])\n",
    "    _ = CallJax(*INP_NP).block_until_ready()\n",
    "\n",
    "    if(useJaxToSDFG):\n",
    "        _ = CallDaCe(*INP, _out)\n",
    "        _ = CallDaCe._fast_call(*CallDaCe._lastargs)\n",
    "    if(usePF):\n",
    "        _ = CallPF(*INP)\n",
    "        _ = CallPF._fast_call(*CallPF._lastargs)\n",
    "    #\n",
    "    \n",
    "    # Run JAX\n",
    "    t_ = timeit.Timer(lambda: CallJax(*INP_JAX).block_until_ready() )\n",
    "    r = numpy.array(t_.repeat(repeat, number))\n",
    "    resTime_jax.append(r)\n",
    "\n",
    "    \n",
    "    # Run Python Frontend\n",
    "    if(usePF):\n",
    "        t_ = timeit.Timer(lambda: CallPF._fast_call(*CallPF._lastargs))\n",
    "        r = numpy.array(t_.repeat(repeat, number))\n",
    "        resTime_pf.append(r)\n",
    "    else:\n",
    "        resTime_pf.append(numpy.zeros(repeat))\n",
    "    #   \n",
    "    \n",
    "    # Run SDFG\n",
    "    if(useJaxToSDFG):\n",
    "        t_ = timeit.Timer(lambda: CallDaCe._fast_call(*CallDaCe._lastargs))\n",
    "        r = numpy.array(t_.repeat(repeat, number))\n",
    "        resTime_sdfg.append(r)\n",
    "    else:\n",
    "        resTime_sdfg.append(numpy.zeros(repeat))\n",
    "    #\n",
    "\n",
    "    # Perform a dump\n",
    "    gSizesUntilNow.append(gSize)\n",
    "    with open(FileName, '+bw') as F:\n",
    "        dump((gSizesUntilNow, resTime_pf, resTime_jax, resTime_sdfg), F)\n",
    "    #\n",
    "#"
   ]
  },
  {
   "cell_type": "code",
   "execution_count": null,
   "id": "3193ac5d-d46b-4ac0-ac4e-d9bda24bdfb2",
   "metadata": {},
   "outputs": [],
   "source": [
    "resTime_sdfg_min = numpy.array([r.min()  for r in resTime_sdfg])\n",
    "resTime_jax_min = numpy.array([r.min()  for r in resTime_jax])\n",
    "resTime_pf_min = numpy.array([r.min()  for r in resTime_pf])\n",
    "\n",
    "resTime_sdfg_mean = numpy.array([r.mean()  for r in resTime_sdfg])\n",
    "resTime_jax_mean = numpy.array([r.mean()  for r in resTime_jax])\n",
    "resTime_pf_mean = numpy.array([r.mean()  for r in resTime_pf])\n",
    "\n",
    "resTime_sdfg_std = numpy.array([r.std()  for r in resTime_sdfg])\n",
    "resTime_jax_std = numpy.array([r.std()  for r in resTime_jax])\n",
    "resTime_pf_std = numpy.array([r.std()  for r in resTime_pf])"
   ]
  },
  {
   "cell_type": "code",
   "execution_count": null,
   "id": "99bc4d14-ea64-4346-ad49-6b499a9463e8",
   "metadata": {},
   "outputs": [],
   "source": [
    "import matplotlib as mpl\n",
    "from matplotlib import pyplot as plt"
   ]
  },
  {
   "cell_type": "code",
   "execution_count": null,
   "id": "12dbbaf5-efa7-42d0-aef3-4d35b5d80136",
   "metadata": {},
   "outputs": [],
   "source": [
    "X = numpy.vstack([gSizesUntilNow, numpy.ones_like(gSizesUntilNow)]).T\n",
    "\n",
    "for ID, Time in {'JAX -> SDFG':  resTime_sdfg_min,\n",
    "                 'DaCe':         resTime_pf_min,\n",
    "                 'JAX':          resTime_jax_min, }.items():\n",
    "    plt.plot(gSizesUntilNow, Time * 1000000 / number, label=ID)\n",
    "    col = plt.gca().lines[-1].get_color()\n",
    "    a, b = numpy.linalg.lstsq(X, Time / number, rcond=None)[0]\n",
    "\n",
    "    Times_ = a * numpy.array(gSizesUntilNow) + b\n",
    "    plt.plot(\n",
    "        gSizesUntilNow, Times_ * 1000000,\n",
    "        c=col, linestyle='--', alpha=0.8, \n",
    "        label=f'${int(a * (1e6*1e4))/1e4} \\\\cdot k + {int(b * (1e3*1e4))/1e4}$',\n",
    "    )\n",
    "#\n",
    "\n",
    "\n",
    "plt.legend()\n",
    "plt.xlabel('size')\n",
    "plt.ylabel('$t_{min run}$ [$\\\\mu$s]')\n",
    "plt.grid(visible=True)\n",
    "#plt.yscale('log')\n",
    "\n",
    "plt.title(\"Minimal Runtime\")\n",
    "\n",
    "plt.show()\n"
   ]
  },
  {
   "cell_type": "code",
   "execution_count": null,
   "id": "707bd6a1-b9e0-4c0f-b750-1bea5946d2b5",
   "metadata": {},
   "outputs": [],
   "source": []
  }
 ],
 "metadata": {
  "kernelspec": {
   "display_name": "dace_gt4py",
   "language": "python",
   "name": "dace_gt4py"
  },
  "language_info": {
   "codemirror_mode": {
    "name": "ipython",
    "version": 3
   },
   "file_extension": ".py",
   "mimetype": "text/x-python",
   "name": "python",
   "nbconvert_exporter": "python",
   "pygments_lexer": "ipython3",
   "version": "3.10.13"
  }
 },
 "nbformat": 4,
 "nbformat_minor": 5
}
