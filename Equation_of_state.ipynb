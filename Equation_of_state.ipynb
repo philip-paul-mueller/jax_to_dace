{
 "cells": [
  {
   "cell_type": "markdown",
   "id": "0c108d30-454b-4138-a3ed-6e37c5bc9e9a",
   "metadata": {},
   "source": [
    "# Equation of State\n",
    "This uses the [equation of state](https://github.com/dionhaefner/pyhpc-benchmarks/blob/master/benchmarks/equation_of_state/eos_jax.py) from the [`pyhpc`](https://github.com/dionhaefner/pyhpc-benchmarks/) benchmark."
   ]
  },
  {
   "cell_type": "code",
   "execution_count": 1,
   "id": "05ab0c6e-499f-4c52-ab5b-66f00e5415c5",
   "metadata": {},
   "outputs": [
    {
     "data": {
      "text/html": [
       "<link href=\"https://fonts.googleapis.com/icon?family=Material+Icons\" rel=\"stylesheet\"><script src=\"https://spcl.github.io/dace/webclient2/dist/sdfv.js\"></script>\n",
       "<link href=\"https://spcl.github.io/dace/webclient2/sdfv.css\" rel=\"stylesheet\">\n"
      ],
      "text/plain": [
       "<IPython.core.display.HTML object>"
      ]
     },
     "metadata": {},
     "output_type": "display_data"
    }
   ],
   "source": [
    "import os, copy\n",
    "#ncpu=1\n",
    "#os.environ['XLA_FLAGS'] = f\"--xla_force_host_platform_device_count={ncpu}\"\n",
    "#os.environ[\"XLA_FLAGS\"] = (\"--xla_cpu_multi_thread_eigen=false \" \"intra_op_parallelism_threads=1\")\n",
    "#os.environ['JAX_PLATFORMS'] = \"cpu\"\n",
    "\n",
    "UseGPU       = True\n",
    "usePF        = True\n",
    "useJaxToSDFG = True\n",
    "\n",
    "if UseGPU:\n",
    "    devType = 'GPU'\n",
    "    os.environ['JAX_PLATFORMS'] = \"cuda\"\n",
    "    os.environ[\"XLA_PYTHON_CLIENT_MEM_FRACTION\"] = \".30\"    # https://jax.readthedocs.io/en/latest/gpu_memory_allocation.html\n",
    "    import cupy as np\n",
    "\n",
    "else:\n",
    "    devType = 'CPU'\n",
    "    os.environ['JAX_PLATFORMS'] = \"cpu\"\n",
    "    import numpy as np\n",
    "#\n",
    "\n",
    "import numpy\n",
    "import jax\n",
    "import sys\n",
    "import jax.numpy as jnp\n",
    "from jax import jit, grad, vmap\n",
    "from jax import random\n",
    "\n",
    "# This must be enabled when `make_jaxpr` is called, because otherwhise we get problems.\n",
    "jax.config.update(\"jax_enable_x64\", True)\n",
    "\n",
    "\n",
    "import timeit\n",
    "from datetime import datetime\n",
    "from pickle import dump\n",
    "\n",
    "\n",
    "import pyhpc\n",
    "from pyhpc.equation_of_state import get_callable, generate_inputs\n",
    "from pyhpc.equation_of_state.eos_jax import gsw_dHdT as CALL\n",
    "from pyhpc.equation_of_state.eos_numpy import gsw_dHdT as gsw_dHdT_NP\n",
    "\n",
    "import dace\n",
    "\n",
    "\n",
    "if UseGPU:\n",
    "    device = dace.DeviceType.GPU\n",
    "    dace.config.Config.set(\"compiler\", \"cpu\", \"executable\", value=\"/usr/bin/g++-12\")\n",
    "else:\n",
    "    device = dace.DeviceType.CPU\n",
    "#"
   ]
  },
  {
   "cell_type": "markdown",
   "id": "ac417d13-b905-4bea-9050-64a5c9689dcf",
   "metadata": {},
   "source": [
    "#### Parameter of Benchmarking"
   ]
  },
  {
   "cell_type": "code",
   "execution_count": 2,
   "id": "ea0fad2c-652d-43bd-837b-bba781cb63ee",
   "metadata": {},
   "outputs": [],
   "source": [
    "repeat, number = 3000, 50"
   ]
  },
  {
   "cell_type": "markdown",
   "id": "bbcb87d3-d10b-4519-814e-4b6f4f0e5015",
   "metadata": {},
   "source": [
    "#### The `JAX->SDFG` Translator"
   ]
  },
  {
   "cell_type": "code",
   "execution_count": 3,
   "id": "80c511c4-ee32-492e-a86a-0d5ba6f5b104",
   "metadata": {},
   "outputs": [],
   "source": [
    "from JaxprToSDFG import  JaxprToSDFG\n",
    "t = JaxprToSDFG(device=device, inp_on_gpu=True)"
   ]
  },
  {
   "cell_type": "markdown",
   "id": "82c98a76-250f-40d6-a35b-599f2fb48a3a",
   "metadata": {},
   "source": [
    "###### Options for Compilation"
   ]
  },
  {
   "cell_type": "code",
   "execution_count": 4,
   "id": "b6d41424-b1d7-4368-99c0-e3f00896284e",
   "metadata": {},
   "outputs": [],
   "source": [
    "_build_type = \"Release\"\n",
    "# removing  -ffast-math from DaCe default compiler args in order to support isfinite/isinf/isnan built-ins\n",
    "_cpu_args = dace.config.Config.get(\"compiler\", \"cpu\", \"args\").replace('-ffast-math', '') + ' -fopenmp' + ' -faligned-new'"
   ]
  },
  {
   "cell_type": "markdown",
   "id": "05ef090f-3e3e-4846-855a-bf40e2bc9192",
   "metadata": {},
   "source": [
    "### Bench Loop"
   ]
  },
  {
   "cell_type": "code",
   "execution_count": 5,
   "id": "a4b50ee2-5eae-402e-acde-fdb8a3ad7dbb",
   "metadata": {},
   "outputs": [
    {
     "name": "stdout",
     "output_type": "stream",
     "text": [
      "Start with size 5\n",
      "Applied 285 MapFusion.Elimination.\r"
     ]
    }
   ],
   "source": [
    "xSizes = numpy.array([5 * i  for i in range(1, 10)])\n",
    "ySizes = xSizes.copy()\n",
    "gSizes = numpy.array([5] + [20 * i  for i in range(1, 21)])\n",
    "\n",
    "resTime_sdfg = []\n",
    "resTime_pf   = []\n",
    "resTime_jax  = []\n",
    "\n",
    "simplify = True\n",
    "auto_opt = True\n",
    "\n",
    "# For dumping\n",
    "Now = datetime.now()\n",
    "FileName = f'EqOfState_{devType}__{Now.year}-{Now.month}-{Now.day}_{Now.hour}-{Now.minute}-{Now.second}.pickle'\n",
    "gSizesUntilNow = []\n",
    "\n",
    "for gSize in gSizes:\n",
    "    print(f\"Start with size {gSize}\")\n",
    "    # Generate the input that we use\n",
    "    INP_NP = generate_inputs(gSize)\n",
    "    INP = [np.array(x)  for x in INP_NP]\n",
    "    INP_JAX = [jnp.array(x)  for x in INP_NP]\n",
    "\n",
    "    # Generate the SDFG we will use to call\n",
    "    with jax.disable_jit(disable=True):\n",
    "        if(useJaxToSDFG):\n",
    "            JaxprCall = jax.make_jaxpr(CALL)(*INP)\n",
    "            CallSDFG = t(JaxprCall, simplify=simplify, auto_opt=auto_opt, ret_by_arg=True, device=device)\n",
    "        #\n",
    "    #\n",
    "    with dace.config.temporary_config():\n",
    "        dace.config.Config.set(\"compiler\", \"build_type\", value=_build_type)\n",
    "        dace.config.Config.set(\"compiler\", \"cpu\", \"args\", value=_cpu_args)\n",
    "\n",
    "        if(useJaxToSDFG):\n",
    "            CallDaCe = CallSDFG.compile()\n",
    "\n",
    "        # Generate the SDFG that is based on the Python frontend\n",
    "        if(usePF):\n",
    "            # We have to do it that way, because otherwise we got some strange errors.\n",
    "            #  Also the `validate=False`\n",
    "            CallPFProg = dace.program(auto_optimize=False, recreate_sdfg=True, device=device)(gsw_dHdT_NP)\n",
    "            CallPFSDFG = CallPFProg.to_sdfg(*INP, simplify=False, validate=False)\n",
    "            if(simplify):\n",
    "                CallPFSDFG.simplify(validate=False)\n",
    "            if(auto_opt): # to_sdfg() does not apply optimizations\n",
    "                from dace.transformation.auto import auto_optimize as autoopt\n",
    "                CallPFSDFG = autoopt.auto_optimize(CallPFSDFG, device=device, validate=False)\n",
    "            if(UseGPU):\n",
    "                CallPFSDFG.apply_gpu_transformations(validate=False)\n",
    "                # Allow to put everything on the GPU\n",
    "                for argName in CallPFSDFG.arg_names:\n",
    "                    sdfgArr = CallPFSDFG.arrays[argName]\n",
    "                    sdfgArr.storage = dace.StorageType.GPU_Global\n",
    "                #\n",
    "                CallPFSDFG.simplify(validate=False)\n",
    "                del sdfgArr, argName\n",
    "            #\n",
    "            CallPFSDFG.validate()\n",
    "            CallPF   = CallPFSDFG.compile()\n",
    "        #\n",
    "    #\n",
    "\n",
    "    # Now generate the Jax Call\n",
    "    CallJax = jax.jit(CALL)\n",
    "    _ = CallJax(*INP_JAX).block_until_ready()\n",
    "\n",
    "    # Now call JAX and SDFG once\n",
    "    _out = np.zeros_like(INP[0])\n",
    "    _ = CallJax(*INP_NP).block_until_ready()\n",
    "\n",
    "    if(useJaxToSDFG):\n",
    "        _ = CallDaCe(*INP, _out)\n",
    "        _ = CallDaCe._fast_call(*CallDaCe._lastargs)\n",
    "    if(usePF):\n",
    "        _ = CallPF(*INP)\n",
    "        _ = CallPF._fast_call(*CallPF._lastargs)\n",
    "    #\n",
    "    \n",
    "    # Run JAX\n",
    "    t_ = timeit.Timer(lambda: CallJax(*INP_JAX).block_until_ready() )\n",
    "    r = numpy.array(t_.repeat(repeat, number))\n",
    "    resTime_jax.append(r)\n",
    "\n",
    "    \n",
    "    # Run Python Frontend\n",
    "    if(usePF):\n",
    "        t_ = timeit.Timer(lambda: CallPF._fast_call(*CallPF._lastargs))\n",
    "        r = numpy.array(t_.repeat(repeat, number))\n",
    "        resTime_pf.append(r)\n",
    "    else:\n",
    "        resTime_pf.append(numpy.zeros(repeat))\n",
    "    #   \n",
    "    \n",
    "    # Run SDFG\n",
    "    if(useJaxToSDFG):\n",
    "        t_ = timeit.Timer(lambda: CallDaCe._fast_call(*CallDaCe._lastargs))\n",
    "        r = numpy.array(t_.repeat(repeat, number))\n",
    "        resTime_sdfg.append(r)\n",
    "    else:\n",
    "        resTime_sdfg.append(numpy.zeros(repeat))\n",
    "    #\n",
    "\n",
    "    # Perform a dump\n",
    "    gSizesUntilNow.append(gSize)\n",
    "    with open(FileName, '+bw') as F:\n",
    "        dump((gSizesUntilNow, resTime_pf, resTime_jax, resTime_sdfg), F)\n",
    "    #\n",
    "#"
   ]
  },
  {
   "cell_type": "code",
   "execution_count": 6,
   "id": "3193ac5d-d46b-4ac0-ac4e-d9bda24bdfb2",
   "metadata": {},
   "outputs": [],
   "source": [
    "resTime_sdfg_min = numpy.array([r.min()  for r in resTime_sdfg])\n",
    "resTime_jax_min = numpy.array([r.min()  for r in resTime_jax])\n",
    "resTime_pf_min = numpy.array([r.min()  for r in resTime_pf])\n",
    "\n",
    "resTime_sdfg_mean = numpy.array([r.mean()  for r in resTime_sdfg])\n",
    "resTime_jax_mean = numpy.array([r.mean()  for r in resTime_jax])\n",
    "resTime_pf_mean = numpy.array([r.mean()  for r in resTime_pf])\n",
    "\n",
    "resTime_sdfg_std = numpy.array([r.std()  for r in resTime_sdfg])\n",
    "resTime_jax_std = numpy.array([r.std()  for r in resTime_jax])\n",
    "resTime_pf_std = numpy.array([r.std()  for r in resTime_pf])"
   ]
  },
  {
   "cell_type": "code",
   "execution_count": 7,
   "id": "99bc4d14-ea64-4346-ad49-6b499a9463e8",
   "metadata": {},
   "outputs": [],
   "source": [
    "import matplotlib as mpl\n",
    "from matplotlib import pyplot as plt"
   ]
  },
  {
   "cell_type": "code",
   "execution_count": 8,
   "id": "12dbbaf5-efa7-42d0-aef3-4d35b5d80136",
   "metadata": {},
   "outputs": [
    {
     "data": {
      "image/png": "[encoded data removed]",
      "text/plain": [
       "<Figure size 640x480 with 1 Axes>"
      ]
     },
     "metadata": {},
     "output_type": "display_data"
    }
   ],
   "source": [
    "X = numpy.vstack([gSizesUntilNow, numpy.ones_like(gSizesUntilNow)]).T\n",
    "\n",
    "for ID, Time in {'JAX -> SDFG':  resTime_sdfg_min,\n",
    "                 'DaCe':         resTime_pf_min,\n",
    "                 'JAX':          resTime_jax_min, }.items():\n",
    "    plt.plot(gSizesUntilNow, Time * 1000000 / number, label=ID)\n",
    "    col = plt.gca().lines[-1].get_color()\n",
    "    a, b = numpy.linalg.lstsq(X, Time / number, rcond=None)[0]\n",
    "\n",
    "    Times_ = a * numpy.array(gSizesUntilNow) + b\n",
    "    plt.plot(\n",
    "        gSizesUntilNow, Times_ * 1000000,\n",
    "        c=col, linestyle='--', alpha=0.8, \n",
    "        label=f'${int(a * (1e6*1e4))/1e4} \\\\cdot k + {int(b * (1e3*1e4))/1e4}$',\n",
    "    )\n",
    "#\n",
    "\n",
    "\n",
    "plt.legend()\n",
    "plt.xlabel('size')\n",
    "plt.ylabel('$t_{min run}$ [$\\\\mu$s]')\n",
    "plt.grid(visible=True)\n",
    "#plt.yscale('log')\n",
    "\n",
    "plt.title(\"Minimal Runtime\")\n",
    "\n",
    "plt.show()\n"
   ]
  },
  {
   "cell_type": "code",
   "execution_count": null,
   "id": "707bd6a1-b9e0-4c0f-b750-1bea5946d2b5",
   "metadata": {},
   "outputs": [],
   "source": []
  }
 ],
 "metadata": {
  "kernelspec": {
   "display_name": "dace_gt4py",
   "language": "python",
   "name": "dace_gt4py"
  },
  "language_info": {
   "codemirror_mode": {
    "name": "ipython",
    "version": 3
   },
   "file_extension": ".py",
   "mimetype": "text/x-python",
   "name": "python",
   "nbconvert_exporter": "python",
   "pygments_lexer": "ipython3",
   "version": "3.10.13"
  }
 },
 "nbformat": 4,
 "nbformat_minor": 5
}
