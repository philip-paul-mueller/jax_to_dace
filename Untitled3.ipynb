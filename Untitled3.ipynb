{
 "cells": [
  {
   "cell_type": "code",
   "execution_count": 1,
   "id": "0dfab5c7-0636-42e6-aa1c-a82ee79a8239",
   "metadata": {},
   "outputs": [
    {
     "data": {
      "text/html": [
       "<link href=\"https://fonts.googleapis.com/icon?family=Material+Icons\" rel=\"stylesheet\"><script src=\"https://spcl.github.io/dace/webclient2/dist/sdfv.js\"></script>\n",
       "<link href=\"https://spcl.github.io/dace/webclient2/sdfv.css\" rel=\"stylesheet\">\n"
      ],
      "text/plain": [
       "<IPython.core.display.HTML object>"
      ]
     },
     "metadata": {},
     "output_type": "display_data"
    }
   ],
   "source": [
    "import dace\n",
    "import numpy as np\n",
    "\n"
   ]
  },
  {
   "cell_type": "code",
   "execution_count": 10,
   "id": "fd9ab883-7997-4868-a028-cad2be8efb2b",
   "metadata": {},
   "outputs": [],
   "source": [
    "_N1, _N2 = (dace.symbol(f'N{i}')  for i in range(2))\n",
    "\n",
    "@dace\n",
    "def test(A: dace.float64[_N1, _N2]):\n",
    "    return np.sin(A)\n",
    "#\n",
    "\n",
    "N1, N2 = 20, 20\n",
    "A = np.random.rand(N1, N2)\n",
    "B = np.random.rand(N1, N2)\n"
   ]
  },
  {
   "cell_type": "code",
   "execution_count": 13,
   "id": "6c841539-2c93-4b2c-9b78-05e0ee5b7c3b",
   "metadata": {},
   "outputs": [
    {
     "data": {
      "text/plain": [
       "<dace.codegen.compiled_sdfg.CompiledSDFG at 0x7f9837649910>"
      ]
     },
     "execution_count": 13,
     "metadata": {},
     "output_type": "execute_result"
    }
   ],
   "source": [
    "test.compile()"
   ]
  },
  {
   "cell_type": "code",
   "execution_count": 14,
   "id": "17bafda9-e06b-4224-bc60-64895005067e",
   "metadata": {},
   "outputs": [
    {
     "data": {
      "text/html": [
       "\n",
       "<div id=\"contents_7319884287140868198\" style=\"position: relative; resize: vertical; overflow: auto\"></div>\n",
       "<script>\n",
       "    var sdfg_7319884287140868198 = \"{\\n  \\\"type\\\": \\\"SDFG\\\",\\n  \\\"attributes\\\": {\\n    \\\"name\\\": \\\"test\\\",\\n    \\\"arg_names\\\": [\\n      \\\"A\\\"\\n    ],\\n    \\\"constants_prop\\\": {},\\n    \\\"_arrays\\\": {\\n      \\\"A\\\": {\\n        \\\"type\\\": \\\"Array\\\",\\n        \\\"attributes\\\": {\\n          \\\"allow_conflicts\\\": false,\\n          \\\"strides\\\": [\\n            \\\"N1\\\",\\n            \\\"1\\\"\\n          ],\\n          \\\"total_size\\\": \\\"N0*N1\\\",\\n          \\\"offset\\\": [\\n            \\\"0\\\",\\n            \\\"0\\\"\\n          ],\\n          \\\"may_alias\\\": false,\\n          \\\"alignment\\\": 0,\\n          \\\"start_offset\\\": 0,\\n          \\\"optional\\\": null,\\n          \\\"pool\\\": false,\\n          \\\"dtype\\\": \\\"float64\\\",\\n          \\\"shape\\\": [\\n            \\\"N0\\\",\\n            \\\"N1\\\"\\n          ],\\n          \\\"transient\\\": false,\\n          \\\"storage\\\": \\\"Default\\\",\\n          \\\"lifetime\\\": \\\"Scope\\\",\\n          \\\"location\\\": {},\\n          \\\"debuginfo\\\": null\\n        }\\n      },\\n      \\\"__return\\\": {\\n        \\\"type\\\": \\\"Array\\\",\\n        \\\"attributes\\\": {\\n          \\\"allow_conflicts\\\": false,\\n          \\\"strides\\\": [\\n            \\\"N1\\\",\\n            \\\"1\\\"\\n          ],\\n          \\\"total_size\\\": \\\"N0*N1\\\",\\n          \\\"offset\\\": [\\n            \\\"0\\\",\\n            \\\"0\\\"\\n          ],\\n          \\\"may_alias\\\": false,\\n          \\\"alignment\\\": 0,\\n          \\\"start_offset\\\": 0,\\n          \\\"optional\\\": false,\\n          \\\"pool\\\": false,\\n          \\\"dtype\\\": \\\"float64\\\",\\n          \\\"shape\\\": [\\n            \\\"N0\\\",\\n            \\\"N1\\\"\\n          ],\\n          \\\"transient\\\": false,\\n          \\\"storage\\\": \\\"Default\\\",\\n          \\\"lifetime\\\": \\\"Scope\\\",\\n          \\\"location\\\": {},\\n          \\\"debuginfo\\\": null\\n        }\\n      }\\n    },\\n    \\\"symbols\\\": {\\n      \\\"N0\\\": \\\"int32\\\",\\n      \\\"N1\\\": \\\"int32\\\"\\n    },\\n    \\\"instrument\\\": \\\"No_Instrumentation\\\",\\n    \\\"global_code\\\": {\\n      \\\"frame\\\": {\\n        \\\"string_data\\\": \\\"\\\",\\n        \\\"language\\\": \\\"CPP\\\"\\n      }\\n    },\\n    \\\"init_code\\\": {\\n      \\\"frame\\\": {\\n        \\\"string_data\\\": \\\"\\\",\\n        \\\"language\\\": \\\"CPP\\\"\\n      }\\n    },\\n    \\\"exit_code\\\": {\\n      \\\"frame\\\": {\\n        \\\"string_data\\\": \\\"\\\",\\n        \\\"language\\\": \\\"CPP\\\"\\n      }\\n    },\\n    \\\"orig_sdfg\\\": null,\\n    \\\"transformation_hist\\\": [],\\n    \\\"logical_groups\\\": [],\\n    \\\"openmp_sections\\\": false,\\n    \\\"debuginfo\\\": {\\n      \\\"type\\\": \\\"DebugInfo\\\",\\n      \\\"start_line\\\": 3,\\n      \\\"end_line\\\": 5,\\n      \\\"start_column\\\": 0,\\n      \\\"end_column\\\": 0,\\n      \\\"filename\\\": \\\"/tmp/ipykernel_52894/32183746.py\\\"\\n    },\\n    \\\"_pgrids\\\": {},\\n    \\\"_subarrays\\\": {},\\n    \\\"_rdistrarrays\\\": {},\\n    \\\"callback_mapping\\\": {}\\n  },\\n  \\\"nodes\\\": [\\n    {\\n      \\\"type\\\": \\\"SDFGState\\\",\\n      \\\"label\\\": \\\"init\\\",\\n      \\\"id\\\": 0,\\n      \\\"collapsed\\\": false,\\n      \\\"scope_dict\\\": {\\n        \\\"-1\\\": []\\n      },\\n      \\\"nodes\\\": [],\\n      \\\"edges\\\": [],\\n      \\\"attributes\\\": {\\n        \\\"is_collapsed\\\": false,\\n        \\\"nosync\\\": false,\\n        \\\"instrument\\\": \\\"No_Instrumentation\\\",\\n        \\\"symbol_instrument\\\": \\\"No_Instrumentation\\\",\\n        \\\"symbol_instrument_condition\\\": {\\n          \\\"string_data\\\": \\\"1\\\",\\n          \\\"language\\\": \\\"CPP\\\"\\n        },\\n        \\\"executions\\\": \\\"1\\\",\\n        \\\"dynamic_executions\\\": false,\\n        \\\"ranges\\\": {},\\n        \\\"location\\\": {}\\n      }\\n    },\\n    {\\n      \\\"type\\\": \\\"SDFGState\\\",\\n      \\\"label\\\": \\\"call_5\\\",\\n      \\\"id\\\": 1,\\n      \\\"collapsed\\\": false,\\n      \\\"scope_dict\\\": {\\n        \\\"-1\\\": [\\n          0,\\n          3,\\n          4\\n        ],\\n        \\\"0\\\": [\\n          1,\\n          2\\n        ]\\n      },\\n      \\\"nodes\\\": [\\n        {\\n          \\\"type\\\": \\\"MapEntry\\\",\\n          \\\"label\\\": \\\"_numpy_sin__map[__i0=0:N0, __i1=0:N1]\\\",\\n          \\\"attributes\\\": {\\n            \\\"label\\\": \\\"_numpy_sin__map\\\",\\n            \\\"params\\\": [\\n              \\\"__i0\\\",\\n              \\\"__i1\\\"\\n            ],\\n            \\\"range\\\": {\\n              \\\"type\\\": \\\"Range\\\",\\n              \\\"ranges\\\": [\\n                {\\n                  \\\"start\\\": \\\"0\\\",\\n                  \\\"end\\\": \\\"N0 - 1\\\",\\n                  \\\"step\\\": \\\"1\\\",\\n                  \\\"tile\\\": \\\"1\\\"\\n                },\\n                {\\n                  \\\"start\\\": \\\"0\\\",\\n                  \\\"end\\\": \\\"N1 - 1\\\",\\n                  \\\"step\\\": \\\"1\\\",\\n                  \\\"tile\\\": \\\"1\\\"\\n                }\\n              ]\\n            },\\n            \\\"schedule\\\": \\\"Default\\\",\\n            \\\"unroll\\\": false,\\n            \\\"collapse\\\": 1,\\n            \\\"debuginfo\\\": {\\n              \\\"type\\\": \\\"DebugInfo\\\",\\n              \\\"start_line\\\": 5,\\n              \\\"end_line\\\": 5,\\n              \\\"start_column\\\": 18,\\n              \\\"end_column\\\": 18,\\n              \\\"filename\\\": \\\"/tmp/ipykernel_52894/32183746.py\\\"\\n            },\\n            \\\"is_collapsed\\\": false,\\n            \\\"instrument\\\": \\\"No_Instrumentation\\\",\\n            \\\"in_connectors\\\": {\\n              \\\"IN_A\\\": null\\n            },\\n            \\\"out_connectors\\\": {\\n              \\\"OUT_A\\\": null\\n            }\\n          },\\n          \\\"id\\\": 0,\\n          \\\"scope_entry\\\": null,\\n          \\\"scope_exit\\\": \\\"2\\\"\\n        },\\n        {\\n          \\\"type\\\": \\\"Tasklet\\\",\\n          \\\"label\\\": \\\"_numpy_sin_\\\",\\n          \\\"attributes\\\": {\\n            \\\"code\\\": {\\n              \\\"string_data\\\": \\\"__out = sin(__in1)\\\",\\n              \\\"language\\\": \\\"Python\\\"\\n            },\\n            \\\"state_fields\\\": [],\\n            \\\"code_global\\\": {\\n              \\\"string_data\\\": \\\"\\\",\\n              \\\"language\\\": \\\"CPP\\\"\\n            },\\n            \\\"code_init\\\": {\\n              \\\"string_data\\\": \\\"\\\",\\n              \\\"language\\\": \\\"CPP\\\"\\n            },\\n            \\\"code_exit\\\": {\\n              \\\"string_data\\\": \\\"\\\",\\n              \\\"language\\\": \\\"CPP\\\"\\n            },\\n            \\\"debuginfo\\\": {\\n              \\\"type\\\": \\\"DebugInfo\\\",\\n              \\\"start_line\\\": 5,\\n              \\\"end_line\\\": 5,\\n              \\\"start_column\\\": 18,\\n              \\\"end_column\\\": 18,\\n              \\\"filename\\\": \\\"/tmp/ipykernel_52894/32183746.py\\\"\\n            },\\n            \\\"instrument\\\": \\\"No_Instrumentation\\\",\\n            \\\"side_effects\\\": null,\\n            \\\"ignored_symbols\\\": [],\\n            \\\"label\\\": \\\"_numpy_sin_\\\",\\n            \\\"location\\\": {},\\n            \\\"environments\\\": [],\\n            \\\"in_connectors\\\": {\\n              \\\"__in1\\\": null\\n            },\\n            \\\"out_connectors\\\": {\\n              \\\"__out\\\": null\\n            }\\n          },\\n          \\\"id\\\": 1,\\n          \\\"scope_entry\\\": \\\"0\\\",\\n          \\\"scope_exit\\\": \\\"2\\\"\\n        },\\n        {\\n          \\\"type\\\": \\\"MapExit\\\",\\n          \\\"label\\\": \\\"_numpy_sin__map[__i0=0:N0, __i1=0:N1]\\\",\\n          \\\"attributes\\\": {\\n            \\\"in_connectors\\\": {\\n              \\\"IN___tmp0\\\": null\\n            },\\n            \\\"out_connectors\\\": {\\n              \\\"OUT___tmp0\\\": null\\n            }\\n          },\\n          \\\"id\\\": 2,\\n          \\\"scope_entry\\\": \\\"0\\\",\\n          \\\"scope_exit\\\": \\\"2\\\"\\n        },\\n        {\\n          \\\"type\\\": \\\"AccessNode\\\",\\n          \\\"label\\\": \\\"A\\\",\\n          \\\"attributes\\\": {\\n            \\\"setzero\\\": false,\\n            \\\"debuginfo\\\": {\\n              \\\"type\\\": \\\"DebugInfo\\\",\\n              \\\"start_line\\\": 5,\\n              \\\"end_line\\\": 5,\\n              \\\"start_column\\\": 18,\\n              \\\"end_column\\\": 18,\\n              \\\"filename\\\": \\\"/tmp/ipykernel_52894/32183746.py\\\"\\n            },\\n            \\\"data\\\": \\\"A\\\",\\n            \\\"instrument\\\": \\\"No_Instrumentation\\\",\\n            \\\"instrument_condition\\\": {\\n              \\\"string_data\\\": \\\"1\\\",\\n              \\\"language\\\": \\\"CPP\\\"\\n            },\\n            \\\"in_connectors\\\": {},\\n            \\\"out_connectors\\\": {}\\n          },\\n          \\\"id\\\": 3,\\n          \\\"scope_entry\\\": null,\\n          \\\"scope_exit\\\": null\\n        },\\n        {\\n          \\\"type\\\": \\\"AccessNode\\\",\\n          \\\"label\\\": \\\"__return\\\",\\n          \\\"attributes\\\": {\\n            \\\"setzero\\\": false,\\n            \\\"debuginfo\\\": {\\n              \\\"type\\\": \\\"DebugInfo\\\",\\n              \\\"start_line\\\": 5,\\n              \\\"end_line\\\": 5,\\n              \\\"start_column\\\": 18,\\n              \\\"end_column\\\": 18,\\n              \\\"filename\\\": \\\"/tmp/ipykernel_52894/32183746.py\\\"\\n            },\\n            \\\"data\\\": \\\"__return\\\",\\n            \\\"instrument\\\": \\\"No_Instrumentation\\\",\\n            \\\"instrument_condition\\\": {\\n              \\\"string_data\\\": \\\"1\\\",\\n              \\\"language\\\": \\\"CPP\\\"\\n            },\\n            \\\"in_connectors\\\": {},\\n            \\\"out_connectors\\\": {}\\n          },\\n          \\\"id\\\": 4,\\n          \\\"scope_entry\\\": null,\\n          \\\"scope_exit\\\": null\\n        }\\n      ],\\n      \\\"edges\\\": [\\n        {\\n          \\\"type\\\": \\\"MultiConnectorEdge\\\",\\n          \\\"attributes\\\": {\\n            \\\"data\\\": {\\n              \\\"type\\\": \\\"Memlet\\\",\\n              \\\"attributes\\\": {\\n                \\\"volume\\\": \\\"N0*N1\\\",\\n                \\\"dynamic\\\": false,\\n                \\\"subset\\\": {\\n                  \\\"type\\\": \\\"Range\\\",\\n                  \\\"ranges\\\": [\\n                    {\\n                      \\\"start\\\": \\\"0\\\",\\n                      \\\"end\\\": \\\"N0 - 1\\\",\\n                      \\\"step\\\": \\\"1\\\",\\n                      \\\"tile\\\": \\\"1\\\"\\n                    },\\n                    {\\n                      \\\"start\\\": \\\"0\\\",\\n                      \\\"end\\\": \\\"N1 - 1\\\",\\n                      \\\"step\\\": \\\"1\\\",\\n                      \\\"tile\\\": \\\"1\\\"\\n                    }\\n                  ]\\n                },\\n                \\\"other_subset\\\": null,\\n                \\\"data\\\": \\\"A\\\",\\n                \\\"wcr\\\": null,\\n                \\\"debuginfo\\\": null,\\n                \\\"wcr_nonatomic\\\": false,\\n                \\\"allow_oob\\\": false,\\n                \\\"src_subset\\\": {\\n                  \\\"type\\\": \\\"Range\\\",\\n                  \\\"ranges\\\": [\\n                    {\\n                      \\\"start\\\": \\\"0\\\",\\n                      \\\"end\\\": \\\"N0 - 1\\\",\\n                      \\\"step\\\": \\\"1\\\",\\n                      \\\"tile\\\": \\\"1\\\"\\n                    },\\n                    {\\n                      \\\"start\\\": \\\"0\\\",\\n                      \\\"end\\\": \\\"N1 - 1\\\",\\n                      \\\"step\\\": \\\"1\\\",\\n                      \\\"tile\\\": \\\"1\\\"\\n                    }\\n                  ]\\n                },\\n                \\\"dst_subset\\\": null,\\n                \\\"is_data_src\\\": true,\\n                \\\"num_accesses\\\": \\\"N0*N1\\\"\\n              }\\n            }\\n          },\\n          \\\"src\\\": \\\"3\\\",\\n          \\\"dst\\\": \\\"0\\\",\\n          \\\"dst_connector\\\": \\\"IN_A\\\",\\n          \\\"src_connector\\\": null\\n        },\\n        {\\n          \\\"type\\\": \\\"MultiConnectorEdge\\\",\\n          \\\"attributes\\\": {\\n            \\\"data\\\": {\\n              \\\"type\\\": \\\"Memlet\\\",\\n              \\\"attributes\\\": {\\n                \\\"volume\\\": \\\"1\\\",\\n                \\\"dynamic\\\": false,\\n                \\\"subset\\\": {\\n                  \\\"type\\\": \\\"Range\\\",\\n                  \\\"ranges\\\": [\\n                    {\\n                      \\\"start\\\": \\\"__i0\\\",\\n                      \\\"end\\\": \\\"__i0\\\",\\n                      \\\"step\\\": \\\"1\\\",\\n                      \\\"tile\\\": \\\"1\\\"\\n                    },\\n                    {\\n                      \\\"start\\\": \\\"__i1\\\",\\n                      \\\"end\\\": \\\"__i1\\\",\\n                      \\\"step\\\": \\\"1\\\",\\n                      \\\"tile\\\": \\\"1\\\"\\n                    }\\n                  ]\\n                },\\n                \\\"other_subset\\\": null,\\n                \\\"data\\\": \\\"A\\\",\\n                \\\"wcr\\\": null,\\n                \\\"debuginfo\\\": null,\\n                \\\"wcr_nonatomic\\\": false,\\n                \\\"allow_oob\\\": false,\\n                \\\"src_subset\\\": {\\n                  \\\"type\\\": \\\"Range\\\",\\n                  \\\"ranges\\\": [\\n                    {\\n                      \\\"start\\\": \\\"__i0\\\",\\n                      \\\"end\\\": \\\"__i0\\\",\\n                      \\\"step\\\": \\\"1\\\",\\n                      \\\"tile\\\": \\\"1\\\"\\n                    },\\n                    {\\n                      \\\"start\\\": \\\"__i1\\\",\\n                      \\\"end\\\": \\\"__i1\\\",\\n                      \\\"step\\\": \\\"1\\\",\\n                      \\\"tile\\\": \\\"1\\\"\\n                    }\\n                  ]\\n                },\\n                \\\"dst_subset\\\": null,\\n                \\\"is_data_src\\\": true,\\n                \\\"num_accesses\\\": \\\"1\\\"\\n              }\\n            }\\n          },\\n          \\\"src\\\": \\\"0\\\",\\n          \\\"dst\\\": \\\"1\\\",\\n          \\\"dst_connector\\\": \\\"__in1\\\",\\n          \\\"src_connector\\\": \\\"OUT_A\\\"\\n        },\\n        {\\n          \\\"type\\\": \\\"MultiConnectorEdge\\\",\\n          \\\"attributes\\\": {\\n            \\\"data\\\": {\\n              \\\"type\\\": \\\"Memlet\\\",\\n              \\\"attributes\\\": {\\n                \\\"volume\\\": \\\"N0*N1\\\",\\n                \\\"dynamic\\\": false,\\n                \\\"subset\\\": {\\n                  \\\"type\\\": \\\"Range\\\",\\n                  \\\"ranges\\\": [\\n                    {\\n                      \\\"start\\\": \\\"0\\\",\\n                      \\\"end\\\": \\\"N0 - 1\\\",\\n                      \\\"step\\\": \\\"1\\\",\\n                      \\\"tile\\\": \\\"1\\\"\\n                    },\\n                    {\\n                      \\\"start\\\": \\\"0\\\",\\n                      \\\"end\\\": \\\"N1 - 1\\\",\\n                      \\\"step\\\": \\\"1\\\",\\n                      \\\"tile\\\": \\\"1\\\"\\n                    }\\n                  ]\\n                },\\n                \\\"other_subset\\\": null,\\n                \\\"data\\\": \\\"__return\\\",\\n                \\\"wcr\\\": null,\\n                \\\"debuginfo\\\": null,\\n                \\\"wcr_nonatomic\\\": false,\\n                \\\"allow_oob\\\": false,\\n                \\\"src_subset\\\": null,\\n                \\\"dst_subset\\\": {\\n                  \\\"type\\\": \\\"Range\\\",\\n                  \\\"ranges\\\": [\\n                    {\\n                      \\\"start\\\": \\\"0\\\",\\n                      \\\"end\\\": \\\"N0 - 1\\\",\\n                      \\\"step\\\": \\\"1\\\",\\n                      \\\"tile\\\": \\\"1\\\"\\n                    },\\n                    {\\n                      \\\"start\\\": \\\"0\\\",\\n                      \\\"end\\\": \\\"N1 - 1\\\",\\n                      \\\"step\\\": \\\"1\\\",\\n                      \\\"tile\\\": \\\"1\\\"\\n                    }\\n                  ]\\n                },\\n                \\\"is_data_src\\\": false,\\n                \\\"num_accesses\\\": \\\"N0*N1\\\"\\n              }\\n            }\\n          },\\n          \\\"src\\\": \\\"2\\\",\\n          \\\"dst\\\": \\\"4\\\",\\n          \\\"dst_connector\\\": null,\\n          \\\"src_connector\\\": \\\"OUT___tmp0\\\"\\n        },\\n        {\\n          \\\"type\\\": \\\"MultiConnectorEdge\\\",\\n          \\\"attributes\\\": {\\n            \\\"data\\\": {\\n              \\\"type\\\": \\\"Memlet\\\",\\n              \\\"attributes\\\": {\\n                \\\"volume\\\": \\\"1\\\",\\n                \\\"dynamic\\\": false,\\n                \\\"subset\\\": {\\n                  \\\"type\\\": \\\"Range\\\",\\n                  \\\"ranges\\\": [\\n                    {\\n                      \\\"start\\\": \\\"__i0\\\",\\n                      \\\"end\\\": \\\"__i0\\\",\\n                      \\\"step\\\": \\\"1\\\",\\n                      \\\"tile\\\": \\\"1\\\"\\n                    },\\n                    {\\n                      \\\"start\\\": \\\"__i1\\\",\\n                      \\\"end\\\": \\\"__i1\\\",\\n                      \\\"step\\\": \\\"1\\\",\\n                      \\\"tile\\\": \\\"1\\\"\\n                    }\\n                  ]\\n                },\\n                \\\"other_subset\\\": null,\\n                \\\"data\\\": \\\"__return\\\",\\n                \\\"wcr\\\": null,\\n                \\\"debuginfo\\\": null,\\n                \\\"wcr_nonatomic\\\": false,\\n                \\\"allow_oob\\\": false,\\n                \\\"src_subset\\\": null,\\n                \\\"dst_subset\\\": {\\n                  \\\"type\\\": \\\"Range\\\",\\n                  \\\"ranges\\\": [\\n                    {\\n                      \\\"start\\\": \\\"__i0\\\",\\n                      \\\"end\\\": \\\"__i0\\\",\\n                      \\\"step\\\": \\\"1\\\",\\n                      \\\"tile\\\": \\\"1\\\"\\n                    },\\n                    {\\n                      \\\"start\\\": \\\"__i1\\\",\\n                      \\\"end\\\": \\\"__i1\\\",\\n                      \\\"step\\\": \\\"1\\\",\\n                      \\\"tile\\\": \\\"1\\\"\\n                    }\\n                  ]\\n                },\\n                \\\"is_data_src\\\": false,\\n                \\\"num_accesses\\\": \\\"1\\\"\\n              }\\n            }\\n          },\\n          \\\"src\\\": \\\"1\\\",\\n          \\\"dst\\\": \\\"2\\\",\\n          \\\"dst_connector\\\": \\\"IN___tmp0\\\",\\n          \\\"src_connector\\\": \\\"__out\\\"\\n        }\\n      ],\\n      \\\"attributes\\\": {\\n        \\\"is_collapsed\\\": false,\\n        \\\"nosync\\\": false,\\n        \\\"instrument\\\": \\\"No_Instrumentation\\\",\\n        \\\"symbol_instrument\\\": \\\"No_Instrumentation\\\",\\n        \\\"symbol_instrument_condition\\\": {\\n          \\\"string_data\\\": \\\"1\\\",\\n          \\\"language\\\": \\\"CPP\\\"\\n        },\\n        \\\"executions\\\": \\\"1\\\",\\n        \\\"dynamic_executions\\\": false,\\n        \\\"ranges\\\": {},\\n        \\\"location\\\": {}\\n      }\\n    }\\n  ],\\n  \\\"edges\\\": [\\n    {\\n      \\\"type\\\": \\\"Edge\\\",\\n      \\\"attributes\\\": {\\n        \\\"data\\\": {\\n          \\\"type\\\": \\\"InterstateEdge\\\",\\n          \\\"attributes\\\": {\\n            \\\"assignments\\\": {},\\n            \\\"condition\\\": {\\n              \\\"string_data\\\": \\\"1\\\",\\n              \\\"language\\\": \\\"Python\\\"\\n            }\\n          },\\n          \\\"label\\\": \\\"\\\"\\n        }\\n      },\\n      \\\"src\\\": \\\"0\\\",\\n      \\\"dst\\\": \\\"1\\\"\\n    }\\n  ],\\n  \\\"sdfg_list_id\\\": 0,\\n  \\\"start_state\\\": 0,\\n  \\\"dace_version\\\": \\\"0.15\\\"\\n}\";\n",
       "    var sdfv_7319884287140868198 = new SDFV();\n",
       "    var renderer_7319884287140868198 = new SDFGRenderer(sdfv_7319884287140868198, parse_sdfg(sdfg_7319884287140868198),\n",
       "        document.getElementById('contents_7319884287140868198'));\n",
       "</script>"
      ],
      "text/plain": [
       "<dace.sdfg.sdfg.SDFG at 0x7f98370d07d0>"
      ]
     },
     "execution_count": 14,
     "metadata": {},
     "output_type": "execute_result"
    }
   ],
   "source": [
    "sdfg = test.to_sdfg(simplify=False)\n",
    "sdfg"
   ]
  },
  {
   "cell_type": "code",
   "execution_count": null,
   "id": "0fef1b8d-ffa7-4ad2-af63-2b7b342ef50d",
   "metadata": {},
   "outputs": [],
   "source": [
    "sdfg._"
   ]
  }
 ],
 "metadata": {
  "kernelspec": {
   "display_name": "dace",
   "language": "python",
   "name": "dace"
  },
  "language_info": {
   "codemirror_mode": {
    "name": "ipython",
    "version": 3
   },
   "file_extension": ".py",
   "mimetype": "text/x-python",
   "name": "python",
   "nbconvert_exporter": "python",
   "pygments_lexer": "ipython3",
   "version": "3.11.4"
  }
 },
 "nbformat": 4,
 "nbformat_minor": 5
}
