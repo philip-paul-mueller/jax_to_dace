{
 "cells": [
  {
   "cell_type": "markdown",
   "id": "2b110451-26b1-4fcf-853c-f69469cee3ac",
   "metadata": {},
   "source": [
    "# ICON Stencil\n",
    "This stencil is based on `model/atmosphere/dycore/src/icon4py/model/atmosphere/dycore/mo_solve_nonhydro_stencil_20.py`.\n",
    "It is very simple and most faithfull implementation.\n",
    "\n",
    "A reference `NumPy` implementation can be found in `model/atmosphere/dycore/tests/stencil_tests/test_mo_velocity_advection_stencil_20.py`.\n"
   ]
  },
  {
   "cell_type": "code",
   "execution_count": 1,
   "id": "4ed35b0d-2f94-46b9-9a36-8f2117163d19",
   "metadata": {},
   "outputs": [
    {
     "data": {
      "text/html": [
       "<link href=\"https://fonts.googleapis.com/icon?family=Material+Icons\" rel=\"stylesheet\"><script src=\"https://spcl.github.io/dace/webclient2/dist/sdfv.js\"></script>\n",
       "<link href=\"https://spcl.github.io/dace/webclient2/sdfv.css\" rel=\"stylesheet\">\n"
      ],
      "text/plain": [
       "<IPython.core.display.HTML object>"
      ]
     },
     "metadata": {},
     "output_type": "display_data"
    }
   ],
   "source": [
    "import os\n",
    "ncpu=1\n",
    "os.environ['XLA_FLAGS'] = f\"--xla_force_host_platform_device_count={ncpu}\"\n",
    "os.environ[\"XLA_FLAGS\"] = (\"--xla_cpu_multi_thread_eigen=false \"\n",
    "                           \"intra_op_parallelism_threads=1\")\n",
    "os.environ['JAX_PLATFORMS'] = \"cpu\"\n",
    "\n",
    "import numpy as np\n",
    "import jax\n",
    "import sys\n",
    "import jax.numpy as jnp\n",
    "from jax import jit, grad, vmap\n",
    "from jax import random\n",
    "\n",
    "# This must be enabled when `make_jaxpr` is called, because otherwhise we get problems.\n",
    "jax.config.update(\"jax_enable_x64\", True)\n",
    "\n",
    "import dace\n"
   ]
  },
  {
   "cell_type": "code",
   "execution_count": 2,
   "id": "a59c3d48-71ea-4e3a-b8b8-b8d0271d7d90",
   "metadata": {},
   "outputs": [],
   "source": [
    "from JaxprToSDFG import  JaxprToSDFG\n",
    "t = JaxprToSDFG()"
   ]
  },
  {
   "cell_type": "markdown",
   "id": "a81fcbf8-a7e2-4449-a6de-a515bfcaee2a",
   "metadata": {},
   "source": [
    "### Demo Input"
   ]
  },
  {
   "cell_type": "markdown",
   "id": "6cbbf20d-5285-46c3-8860-592bcc2111ec",
   "metadata": {},
   "source": [
    "### Grid Dimensions\n",
    "Since we miss the GT4Py Dimension mechanism, we will make some tricks.\n",
    "- `{K, Cell, Edge, Vertex}DimN` is the number of either Vertex, Cell, Edges or vertical levels.\n",
    "- Valid indexes always life within the range `[0, N-1]` where `N` is the above entity.\n",
    "- However, they do not denote at which position they are.\n",
    "\n"
   ]
  },
  {
   "cell_type": "code",
   "execution_count": 3,
   "id": "63a00c2e-66e9-406c-a855-702a42288fcc",
   "metadata": {},
   "outputs": [],
   "source": [
    "from icondims import SimpleGridData"
   ]
  },
  {
   "cell_type": "markdown",
   "id": "f077158a-8cd5-4872-a88f-7ea865c5c5ce",
   "metadata": {},
   "source": [
    "### Offset Providers\n",
    "Here we define the offset providors, i.e. the connectivity.\n",
    "It is important that they have to be read in a certain way."
   ]
  },
  {
   "cell_type": "code",
   "execution_count": 4,
   "id": "181844de-6957-4bd3-800a-ba7922a31be6",
   "metadata": {},
   "outputs": [
    {
     "data": {
      "text/plain": [
       "(18, 3)"
      ]
     },
     "execution_count": 4,
     "metadata": {},
     "output_type": "execute_result"
    }
   ],
   "source": [
    "SimpleGridData.c2v_table.shape"
   ]
  },
  {
   "cell_type": "code",
   "execution_count": 5,
   "id": "b4a750a3-1bc3-4875-bd28-cf8c1d620b37",
   "metadata": {},
   "outputs": [],
   "source": [
    "\n",
    "\n",
    "# As stated above, each edge is either adijacent to 1 cell (at the boundary) or 2 (in the inner part)\n",
    "#  This table describes which cell are adijacent to a certain edge, in case it is undefined we have `-1`.  \n",
    "edge_to_cell_table = np.array(SimpleGridData.e2c_table).astype(np.int32)\n",
    "\n",
    "# We have a triangular grid, this means a cell is bounded by three edges.\n",
    "#  In unstructured it could be, we have many geometrical forms, in this case\n",
    "#  we would allocate the matrix such that it fits the largest one and fill up with `-1` if we do not need them.\n",
    "cell_to_edge_table = np.array(SimpleGridData.c2e_table).astype(np.int32)\n",
    "\n",
    "\n"
   ]
  },
  {
   "cell_type": "code",
   "execution_count": 6,
   "id": "6471cb0e-cbc9-4aea-ae0a-1bff6b032a06",
   "metadata": {},
   "outputs": [],
   "source": [
    "KDimN = 50     # Vertical levels\n",
    "CellDimN = cell_to_edge_table.shape[0]   # How many cells we have\n",
    "EdgeDimN = edge_to_cell_table.shape[0]\n",
    "VertexDimN = SimpleGridData.v2c_table.shape[0]\n",
    "\n",
    "\n",
    "# `E2C` is the offset map that transforms _edges_ to _cells_.\n",
    "#   Since a edge is adijacent to at most two cells this dimension is 2 but at least 1.\n",
    "E2CDimN = 2\n"
   ]
  },
  {
   "cell_type": "code",
   "execution_count": 7,
   "id": "6b082480-baae-4b79-a528-1ede7cc6ec13",
   "metadata": {},
   "outputs": [],
   "source": [
    "# This is the level mask, the `+ 1` is taken from the test but it makes sense, at least a bit.\n",
    "#  For `levelmask[Koff]` use `levelmask[:-1]`\n",
    "#  and for `levelmask[Koff[+1]]` use `levelmask[1:]`.\n",
    "levelmask = (np.random.rand(KDimN + 1) < 0.5).astype(np.bool_)"
   ]
  },
  {
   "cell_type": "markdown",
   "id": "84f6b146-12dc-479c-a985-f796f0ee3a2e",
   "metadata": {},
   "source": [
    "### Fields\n",
    "These are the fields we are using as an inoput material"
   ]
  },
  {
   "cell_type": "code",
   "execution_count": 8,
   "id": "b513c563-8670-45cf-80de-30cca0ea6105",
   "metadata": {},
   "outputs": [],
   "source": [
    "# Field defined on the edges of the grid and different in every hight level.\n",
    "w_con_e = np.random.rand(EdgeDimN, KDimN).astype(np.float64)\n",
    "\n",
    "# This is a field, which is the same for every height level.\n",
    "#  It is defined for every edge but for each edge it has two values (thus `E2CDimN`) which is the result\n",
    "#  of an cell to edge mapping.\n",
    "c_lin_e = np.random.rand(EdgeDimN, E2CDimN).astype(np.float64)\n",
    "\n",
    "# This is a field that defines for every cell in every height level one value.\n",
    "z_w_con_c_full = np.random.rand(CellDimN, KDimN).astype(np.float64)\n",
    "\n",
    "ddqz_z_full_e = np.random.rand(EdgeDimN, KDimN).astype(np.float64)\n",
    "\n",
    "cfl_w_limit = np.full((1), 4.0)\n",
    "scalfac_exdiff = np.full((1), 6.0)\n",
    "dtime = np.full((1), 2.0)\n"
   ]
  },
  {
   "cell_type": "code",
   "execution_count": null,
   "id": "44878601-2785-485f-83f7-2fb258981350",
   "metadata": {},
   "outputs": [],
   "source": []
  },
  {
   "cell_type": "code",
   "execution_count": null,
   "id": "055ce430-e991-4d19-8335-2773f17a588d",
   "metadata": {},
   "outputs": [],
   "source": []
  },
  {
   "cell_type": "code",
   "execution_count": null,
   "id": "271a2b77-4799-426d-8982-c0fed085d7fa",
   "metadata": {},
   "outputs": [],
   "source": []
  },
  {
   "cell_type": "code",
   "execution_count": null,
   "id": "b0afdc70-6130-4137-b62a-ae679cc8d624",
   "metadata": {},
   "outputs": [],
   "source": []
  },
  {
   "cell_type": "markdown",
   "id": "86869788-11e8-471d-8e4c-9ce1ca1dce5f",
   "metadata": {},
   "source": [
    "# Implementation"
   ]
  },
  {
   "cell_type": "markdown",
   "id": "5581fd57-9a40-413e-a21a-47cd3985091a",
   "metadata": {},
   "source": [
    "### Python Implementation"
   ]
  },
  {
   "cell_type": "code",
   "execution_count": 9,
   "id": "75b7ccba-478c-4aeb-a09e-fdf763e1f8fd",
   "metadata": {},
   "outputs": [],
   "source": [
    "# Note that this is only the first part of the stencil.\n",
    "def TestStencil(c_lin_e: dace.float64[EdgeDimN, E2CDimN],\n",
    "                w_con_e: dace.float64[EdgeDimN, KDimN],\n",
    "                z_w_con_c_full: dace.float64[CellDimN, KDimN],\n",
    "                levelmask: dace.bool_[KDimN+1],\n",
    "                edge_to_cell_table: dace.int32[EdgeDimN, E2CDimN],\n",
    "                \n",
    "                ddqz_z_full_e: dace.float64,    # Ver 2\n",
    "                cfl_w_limit: dace.float64,\n",
    "                scalfac_exdiff: dace.float64,\n",
    "                dtime: dace.float64,\n",
    "):\n",
    "    c_lin_e = jnp.expand_dims(c_lin_e, axis=-1)   # Adding a new dimensions of shape 1 at the end for propper broadcasting (taken from the test).\n",
    "    #difcoef = jnp.zeros_like(w_con_e)\n",
    "    \n",
    "    #levelmask_offset_0 = levelmask[:-1]   # This is `levelmask[Koff[0]]`, i.e. the normal field\n",
    "    #levelmask_offset_1 = levelmask[1:]    # This is `levelmask[Koff[1]]`, i.e. the field at the top.\n",
    "\n",
    "    if(False):\n",
    "        # This is more general but it requieres that a `scatter` operation is present.\n",
    "        (EdgeDimN, E2CDimN, _) = c_lin_e.shape\n",
    "        (CellDimN, KDimN)      = z_w_con_c_full.shape\n",
    "        z_w_con_c_full_b = jnp.zeros((EdgeDimN, E2CDimN, KDimN))\n",
    "        z_w_con_c_full_b = z_w_con_c_full_b.at[:, 0, :].set(z_w_con_c_full[edge_to_cell_table[:, 0], :]) \n",
    "        z_w_con_c_full_b = z_w_con_c_full_b.at[:, 1, :].set(z_w_con_c_full[edge_to_cell_table[:, 1], :])  # The `-1` in the `edge_to_cell_table` will be resolved as some bullshit values, that will be removed further down in the where.\n",
    "        \n",
    "    elif(True):\n",
    "        z_w_0_ = z_w_con_c_full[edge_to_cell_table[:, 0], :]\n",
    "        z_w_1_ = z_w_con_c_full[edge_to_cell_table[:, 1], :]\n",
    "        z_w_con_c_full_0 = jnp.expand_dims(z_w_0_, axis=1)\n",
    "        z_w_con_c_full_1 = jnp.expand_dims(z_w_1_, axis=1)\n",
    "        z_w_con_c_full_b = jnp.concatenate((z_w_con_c_full_0, z_w_con_c_full_1), axis=1)\n",
    "    #\n",
    "\n",
    "    Z = jnp.where(\n",
    "                jnp.expand_dims(edge_to_cell_table != -1, axis=-1), #(grid.connectivities[E2CDim] != -1)[:, :, np.newaxis],\n",
    "                c_lin_e * z_w_con_c_full_b,    #z_w_con_c_full[grid.connectivities[E2CDim]],\n",
    "                0,\n",
    "    )\n",
    "    if(True):\n",
    "        # This is knoledge that we sum over the non iterated direction.\n",
    "        Y = Z[:, 0, :] + Z[:, 1, :]\n",
    "    else:\n",
    "        Y = jnp.sum(Z, axis=1)\n",
    "\n",
    "    w_con_e = jnp.where((levelmask[:-1]) | (levelmask[1:]), Y, w_con_e)\n",
    "    difcoef = jnp.where(\n",
    "        (levelmask[:-1]) | (levelmask[1:]) & (jnp.abs(w_con_e) > cfl_w_limit * ddqz_z_full_e),\n",
    "        scalfac_exdiff\n",
    "        * jnp.minimum(\n",
    "            0.85 - cfl_w_limit * dtime,\n",
    "            jnp.abs(w_con_e) * dtime / ddqz_z_full_e - cfl_w_limit * dtime,\n",
    "        ),\n",
    "        0,\n",
    "    )\n",
    "    return difcoef\n",
    "#"
   ]
  },
  {
   "cell_type": "code",
   "execution_count": 10,
   "id": "b484696a-2380-4cd2-b997-38971c6ebcca",
   "metadata": {},
   "outputs": [
    {
     "name": "stdout",
     "output_type": "stream",
     "text": [
      "{ \u001b[34m\u001b[22m\u001b[1mlambda \u001b[39m\u001b[22m\u001b[22m; a\u001b[35m:f64[27,2]\u001b[39m b\u001b[35m:f64[27,50]\u001b[39m c\u001b[35m:f64[18,50]\u001b[39m d\u001b[35m:bool[51]\u001b[39m e\u001b[35m:i32[27,2]\u001b[39m f\u001b[35m:f64[27,50]\u001b[39m\n",
      "    g\u001b[35m:f64[]\u001b[39m h\u001b[35m:f64[]\u001b[39m i\u001b[35m:f64[]\u001b[39m. \u001b[34m\u001b[22m\u001b[1mlet\n",
      "    \u001b[39m\u001b[22m\u001b[22mj\u001b[35m:f64[27,2,1]\u001b[39m = broadcast_in_dim[\n",
      "      broadcast_dimensions=(0, 1)\n",
      "      shape=(27, 2, 1)\n",
      "    ] a\n",
      "    k\u001b[35m:i32[27,1]\u001b[39m = slice[limit_indices=(27, 1) start_indices=(0, 0) strides=None] e\n",
      "    l\u001b[35m:i32[27]\u001b[39m = squeeze[dimensions=(1,)] k\n",
      "    m\u001b[35m:bool[27]\u001b[39m = lt l 0\n",
      "    n\u001b[35m:i32[27]\u001b[39m = add l 18\n",
      "    o\u001b[35m:i32[27]\u001b[39m = select_n m l n\n",
      "    p\u001b[35m:i32[27,1]\u001b[39m = broadcast_in_dim[broadcast_dimensions=(0,) shape=(27, 1)] o\n",
      "    q\u001b[35m:f64[27,50]\u001b[39m = gather[\n",
      "      dimension_numbers=GatherDimensionNumbers(offset_dims=(1,), collapsed_slice_dims=(0,), start_index_map=(0,))\n",
      "      fill_value=None\n",
      "      indices_are_sorted=False\n",
      "      mode=GatherScatterMode.PROMISE_IN_BOUNDS\n",
      "      slice_sizes=(1, 50)\n",
      "      unique_indices=False\n",
      "    ] c p\n",
      "    r\u001b[35m:i32[27,1]\u001b[39m = slice[limit_indices=(27, 2) start_indices=(0, 1) strides=None] e\n",
      "    s\u001b[35m:i32[27]\u001b[39m = squeeze[dimensions=(1,)] r\n",
      "    t\u001b[35m:bool[27]\u001b[39m = lt s 0\n",
      "    u\u001b[35m:i32[27]\u001b[39m = add s 18\n",
      "    v\u001b[35m:i32[27]\u001b[39m = select_n t s u\n",
      "    w\u001b[35m:i32[27,1]\u001b[39m = broadcast_in_dim[broadcast_dimensions=(0,) shape=(27, 1)] v\n",
      "    x\u001b[35m:f64[27,50]\u001b[39m = gather[\n",
      "      dimension_numbers=GatherDimensionNumbers(offset_dims=(1,), collapsed_slice_dims=(0,), start_index_map=(0,))\n",
      "      fill_value=None\n",
      "      indices_are_sorted=False\n",
      "      mode=GatherScatterMode.PROMISE_IN_BOUNDS\n",
      "      slice_sizes=(1, 50)\n",
      "      unique_indices=False\n",
      "    ] c w\n",
      "    y\u001b[35m:f64[27,1,50]\u001b[39m = broadcast_in_dim[\n",
      "      broadcast_dimensions=(0, 2)\n",
      "      shape=(27, 1, 50)\n",
      "    ] q\n",
      "    z\u001b[35m:f64[27,1,50]\u001b[39m = broadcast_in_dim[\n",
      "      broadcast_dimensions=(0, 2)\n",
      "      shape=(27, 1, 50)\n",
      "    ] x\n",
      "    ba\u001b[35m:f64[27,2,50]\u001b[39m = concatenate[dimension=1] y z\n",
      "    bb\u001b[35m:bool[27,2]\u001b[39m = ne e -1\n",
      "    bc\u001b[35m:bool[27,2,1]\u001b[39m = broadcast_in_dim[\n",
      "      broadcast_dimensions=(0, 1)\n",
      "      shape=(27, 2, 1)\n",
      "    ] bb\n",
      "    bd\u001b[35m:f64[27,2,50]\u001b[39m = mul j ba\n",
      "    be\u001b[35m:bool[27,2]\u001b[39m = squeeze[dimensions=(2,)] bc\n",
      "    bf\u001b[35m:bool[27,2,50]\u001b[39m = broadcast_in_dim[\n",
      "      broadcast_dimensions=(0, 1)\n",
      "      shape=(27, 2, 50)\n",
      "    ] be\n",
      "    bg\u001b[35m:f64[27,2,50]\u001b[39m = broadcast_in_dim[\n",
      "      broadcast_dimensions=()\n",
      "      shape=(27, 2, 50)\n",
      "    ] 0.0\n",
      "    bh\u001b[35m:f64[27,2,50]\u001b[39m = select_n bf bg bd\n",
      "    bi\u001b[35m:f64[27,1,50]\u001b[39m = slice[\n",
      "      limit_indices=(27, 1, 50)\n",
      "      start_indices=(0, 0, 0)\n",
      "      strides=None\n",
      "    ] bh\n",
      "    bj\u001b[35m:f64[27,50]\u001b[39m = squeeze[dimensions=(1,)] bi\n",
      "    bk\u001b[35m:f64[27,1,50]\u001b[39m = slice[\n",
      "      limit_indices=(27, 2, 50)\n",
      "      start_indices=(0, 1, 0)\n",
      "      strides=None\n",
      "    ] bh\n",
      "    bl\u001b[35m:f64[27,50]\u001b[39m = squeeze[dimensions=(1,)] bk\n",
      "    bm\u001b[35m:f64[27,50]\u001b[39m = add bj bl\n",
      "    bn\u001b[35m:bool[50]\u001b[39m = slice[limit_indices=(50,) start_indices=(0,) strides=None] d\n",
      "    bo\u001b[35m:bool[50]\u001b[39m = slice[limit_indices=(51,) start_indices=(1,) strides=None] d\n",
      "    bp\u001b[35m:bool[50]\u001b[39m = or bn bo\n",
      "    bq\u001b[35m:bool[27,50]\u001b[39m = broadcast_in_dim[broadcast_dimensions=(1,) shape=(27, 50)] bp\n",
      "    br\u001b[35m:f64[27,50]\u001b[39m = select_n bq b bm\n",
      "    bs\u001b[35m:bool[50]\u001b[39m = slice[limit_indices=(50,) start_indices=(0,) strides=None] d\n",
      "    bt\u001b[35m:bool[50]\u001b[39m = slice[limit_indices=(51,) start_indices=(1,) strides=None] d\n",
      "    bu\u001b[35m:f64[27,50]\u001b[39m = abs br\n",
      "    bv\u001b[35m:f64[27,50]\u001b[39m = mul g f\n",
      "    bw\u001b[35m:bool[27,50]\u001b[39m = gt bu bv\n",
      "    bx\u001b[35m:bool[1,50]\u001b[39m = broadcast_in_dim[broadcast_dimensions=(1,) shape=(1, 50)] bt\n",
      "    by\u001b[35m:bool[27,50]\u001b[39m = and bx bw\n",
      "    bz\u001b[35m:bool[1,50]\u001b[39m = broadcast_in_dim[broadcast_dimensions=(1,) shape=(1, 50)] bs\n",
      "    ca\u001b[35m:bool[27,50]\u001b[39m = or bz by\n",
      "    cb\u001b[35m:f64[]\u001b[39m = mul g i\n",
      "    cc\u001b[35m:f64[]\u001b[39m = sub 0.85 cb\n",
      "    cd\u001b[35m:f64[27,50]\u001b[39m = abs br\n",
      "    ce\u001b[35m:f64[27,50]\u001b[39m = mul cd i\n",
      "    cf\u001b[35m:f64[27,50]\u001b[39m = div ce f\n",
      "    cg\u001b[35m:f64[]\u001b[39m = mul g i\n",
      "    ch\u001b[35m:f64[27,50]\u001b[39m = sub cf cg\n",
      "    ci\u001b[35m:f64[27,50]\u001b[39m = min cc ch\n",
      "    cj\u001b[35m:f64[27,50]\u001b[39m = mul h ci\n",
      "    ck\u001b[35m:f64[27,50]\u001b[39m = broadcast_in_dim[broadcast_dimensions=() shape=(27, 50)] 0.0\n",
      "    cl\u001b[35m:f64[27,50]\u001b[39m = select_n ca ck cj\n",
      "  \u001b[34m\u001b[22m\u001b[1min \u001b[39m\u001b[22m\u001b[22m(cl,) }\n"
     ]
    }
   ],
   "source": [
    "with jax.disable_jit(disable=True):\n",
    "    TestStencil_jaxpr = jax.make_jaxpr(TestStencil)(c_lin_e, w_con_e,\n",
    "                                                    z_w_con_c_full,\n",
    "                                                    levelmask, edge_to_cell_table, ddqz_z_full_e, cfl_w_limit[0], scalfac_exdiff[0], dtime[0])\n",
    "print(TestStencil_jaxpr)"
   ]
  },
  {
   "cell_type": "code",
   "execution_count": 11,
   "id": "9ad4adee-ccc0-4e9f-9aca-c39388fa34e4",
   "metadata": {},
   "outputs": [],
   "source": [
    "TestStencil_sdfg = t(TestStencil_jaxpr, simplify=True, auto_opt=5)\n",
    "TestStencil_sdfg_unopt = t(TestStencil_jaxpr)"
   ]
  },
  {
   "cell_type": "code",
   "execution_count": 12,
   "id": "31b043d8-92c3-4d33-98f9-f5332b19dcf3",
   "metadata": {},
   "outputs": [],
   "source": [
    "resExp = TestStencil(c_lin_e, w_con_e, z_w_con_c_full, levelmask, edge_to_cell_table, ddqz_z_full_e, cfl_w_limit[0], scalfac_exdiff[0], dtime[0])\n",
    "resDC  = TestStencil_sdfg(c_lin_e, w_con_e, z_w_con_c_full, levelmask, edge_to_cell_table, ddqz_z_full_e, cfl_w_limit[0], scalfac_exdiff[0], dtime[0])\n",
    "\n",
    "assert np.allclose(resExp, resDC)\n"
   ]
  },
  {
   "cell_type": "code",
   "execution_count": 13,
   "id": "dcd3009a-1921-4e9d-95f1-7495bb503b1b",
   "metadata": {},
   "outputs": [
    {
     "name": "stdout",
     "output_type": "stream",
     "text": [
      "File saved at /tmp/tmpi4rybcm9.sdfg.html\n"
     ]
    }
   ],
   "source": [
    "if(True):\n",
    "    TestStencil_sdfg.view()\n",
    "else:\n",
    "    TestStencil_sdfg.save(\"./SDFG_of_stencil.json\")\n"
   ]
  },
  {
   "cell_type": "raw",
   "id": "437531d8-0d36-4004-a0db-c6a6e1972fa8",
   "metadata": {},
   "source": [
    "\"\"\" Default build configuration in DaCe backend \"\"\"\n",
    "#build_type = \"Release\"\n",
    "# removing  -ffast-math from DaCe default compiler args in order to support isfinite/isinf/isnan built-ins\n",
    "#_cpu_args = (\"-std=c++14 -fPIC -Wall -Wextra -O3 -march=native -Wno-unused-parameter -Wno-unused-label -DNDEBUG -fopenmp\")\n",
    "with dace.config.temporary_config():\n",
    "    #dace.config.Config.set(\"compiler\", \"build_type\", value=build_type)\n",
    "    #dace.config.Config.set(\"compiler\", \"cpu\", \"args\", value=_cpu_args)\n",
    "    TestStencil_prog = TestStencil_sdfg.compile(validate=False)"
   ]
  },
  {
   "cell_type": "markdown",
   "id": "d2f28ad2-b2a2-4a8c-8e36-121cc85e3e8c",
   "metadata": {},
   "source": [
    "### Dace"
   ]
  },
  {
   "cell_type": "code",
   "execution_count": 14,
   "id": "2bc3cb5e-ab4e-4689-948e-c9b1cfc13fb7",
   "metadata": {},
   "outputs": [],
   "source": [
    "def TestStencil_NP(c_lin_e: dace.float64[EdgeDimN, E2CDimN],\n",
    "                w_con_e: dace.float64[EdgeDimN, KDimN],\n",
    "                z_w_con_c_full: dace.float64[CellDimN, KDimN],\n",
    "                levelmask: dace.bool_[KDimN+1],\n",
    "                edge_to_cell_table: dace.int32[EdgeDimN, E2CDimN],\n",
    "                \n",
    "                ddqz_z_full_e: dace.float64,    # Ver 2\n",
    "                cfl_w_limit: dace.float64,\n",
    "                scalfac_exdiff: dace.float64,\n",
    "                dtime: dace.float64,\n",
    "):\n",
    "\n",
    "    levelmask_offset_0 = levelmask[:-1]\n",
    "    levelmask_offset_1 = levelmask[1:]\n",
    "\n",
    "    c_lin_e = np.expand_dims(c_lin_e, axis=-1)\n",
    "\n",
    "    w_con_e = np.where(\n",
    "        (levelmask_offset_0) | (levelmask_offset_1),\n",
    "        np.sum(\n",
    "            np.where(\n",
    "                jnp.expand_dims(edge_to_cell_table != -1, axis=-1), #(grid.connectivities[E2CDim] != -1)[:, :, np.newaxis],\n",
    "                c_lin_e * z_w_con_c_full[grid.connectivities[E2CDim]],\n",
    "                0,\n",
    "            ),\n",
    "            axis=1,\n",
    "        ),\n",
    "        w_con_e,\n",
    "    )\n",
    "    difcoef = np.where(\n",
    "        ((levelmask_offset_0) | (levelmask_offset_1))\n",
    "        & (np.abs(w_con_e) > cfl_w_limit * ddqz_z_full_e),\n",
    "        scalfac_exdiff\n",
    "        * np.minimum(\n",
    "            0.85 - cfl_w_limit * dtime,\n",
    "            np.abs(w_con_e) * dtime / ddqz_z_full_e - cfl_w_limit * dtime,\n",
    "        ),\n",
    "        difcoef,\n",
    "    )"
   ]
  },
  {
   "cell_type": "code",
   "execution_count": 15,
   "id": "525f9095-d709-4458-a6d0-49349b838b40",
   "metadata": {},
   "outputs": [],
   "source": [
    "#resExp = TestStencil_NP(c_lin_e, w_con_e, z_w_con_c_full, levelmask, edge_to_cell_table, ddqz_z_full_e, cfl_w_limit[0], scalfac_exdiff[0], dtime[0])"
   ]
  },
  {
   "cell_type": "code",
   "execution_count": null,
   "id": "e114d7ba-73a3-4634-bca1-64fcf184e0a5",
   "metadata": {},
   "outputs": [],
   "source": []
  },
  {
   "cell_type": "code",
   "execution_count": null,
   "id": "17cdfc23-d47a-4d62-a84d-af38dc1ea82c",
   "metadata": {},
   "outputs": [],
   "source": []
  },
  {
   "cell_type": "markdown",
   "id": "f30c62ca-4424-420d-8348-23e1107e5492",
   "metadata": {},
   "source": [
    "### GT4Py Implementation"
   ]
  },
  {
   "cell_type": "code",
   "execution_count": 16,
   "id": "d415f3ca-b2bd-4972-a772-8ec05dc123d8",
   "metadata": {},
   "outputs": [],
   "source": [
    "import gt4py\n",
    "from gt4py.next.common import GridType\n",
    "from gt4py.next.ffront.decorator import field_operator, program\n",
    "from gt4py.next.ffront.fbuiltins import (  # noqa: A004 # import gt4py builtin\n",
    "    Field,\n",
    "    abs,\n",
    "    broadcast,\n",
    "    int32,\n",
    "    minimum,\n",
    "    neighbor_sum,\n",
    "    where,\n",
    ")\n",
    "\n",
    "from icondims import (\n",
    "    E2C,\n",
    "    E2C2EO,\n",
    "    E2V,\n",
    "    CellDim,\n",
    "    E2C2EODim,\n",
    "    E2CDim,\n",
    "    EdgeDim,\n",
    "    KDim,\n",
    "    Koff,\n",
    "    VertexDim,\n",
    ")\n",
    "\n",
    "E2C_offset_provider = gt4py.next.NeighborTableOffsetProvider(edge_to_cell_table, EdgeDim, CellDim, 2)\n",
    "\n",
    "\n",
    "@field_operator\n",
    "def _mo_velocity_advection_stencil_20(\n",
    "    levelmask: Field[[KDim], bool],\n",
    "    c_lin_e: Field[[EdgeDim, E2CDim], float],\n",
    "    z_w_con_c_full: Field[[CellDim, KDim], float],\n",
    "    \n",
    "    ddqz_z_full_e: Field[[EdgeDim, KDim], float],\n",
    "    cfl_w_limit: float,\n",
    "    scalfac_exdiff: float,\n",
    "    dtime: float,\n",
    ") -> Field[[EdgeDim, KDim], float]:\n",
    "    w_con_e = broadcast(0.0, (EdgeDim, KDim))\n",
    "    difcoef = broadcast(0.0, (EdgeDim, KDim))\n",
    "    w_con_e = where(\n",
    "        levelmask | levelmask(Koff[1]),\n",
    "        neighbor_sum(c_lin_e * z_w_con_c_full(E2C), axis=E2CDim),\n",
    "        w_con_e,\n",
    "    )\n",
    "\n",
    "    difcoef = where(\n",
    "        (levelmask | levelmask(Koff[1])) & (abs(w_con_e) > cfl_w_limit * ddqz_z_full_e),\n",
    "        scalfac_exdiff\n",
    "        * minimum(\n",
    "            0.85 - cfl_w_limit * dtime,\n",
    "            abs(w_con_e) * dtime / ddqz_z_full_e - cfl_w_limit * dtime,\n",
    "        ),\n",
    "        difcoef,\n",
    "    )\n",
    "    \n",
    "    return difcoef\n",
    "#\n",
    "\n",
    "\n",
    "@program(grid_type=GridType.UNSTRUCTURED)\n",
    "def mo_velocity_advection_stencil_20(\n",
    "    levelmask: Field[[KDim], bool],\n",
    "    c_lin_e: Field[[EdgeDim, E2CDim], float],\n",
    "    z_w_con_c_full: Field[[CellDim, KDim], float],\n",
    "\n",
    "    ddqz_z_full_e: Field[[EdgeDim, KDim], float],\n",
    "    cfl_w_limit: float,\n",
    "    scalfac_exdiff: float,\n",
    "    dtime: float,\n",
    "    \n",
    "    _ret_: Field[[EdgeDim, KDim], float],\n",
    "    horizontal_start: int32,\n",
    "    horizontal_end: int32,\n",
    "    vertical_start: int32,\n",
    "    vertical_end: int32,\n",
    "):\n",
    "    _mo_velocity_advection_stencil_20(\n",
    "        levelmask,\n",
    "        c_lin_e,\n",
    "        z_w_con_c_full,\n",
    "        ddqz_z_full_e, cfl_w_limit, scalfac_exdiff, dtime,\n",
    "        out=_ret_,\n",
    "        domain={\n",
    "            EdgeDim: (horizontal_start, horizontal_end),\n",
    "            KDim: (vertical_start, vertical_end),\n",
    "        },\n",
    "    )"
   ]
  },
  {
   "cell_type": "code",
   "execution_count": 17,
   "id": "ce4c6a15-c422-4f2d-bd31-f8ec23196514",
   "metadata": {},
   "outputs": [],
   "source": [
    "from gt4py.next.program_processors.runners.dace_iterator import run_dace_iterator\n",
    "\n",
    "levelmask_F = gt4py.next.as_field([KDim], levelmask)\n",
    "c_lin_e_F = gt4py.next.as_field([EdgeDim, E2CDim], c_lin_e)\n",
    "z_w_con_c_full_F = gt4py.next.as_field([CellDim, KDim], z_w_con_c_full)\n",
    "\n",
    "ddqz_z_full_e_F = gt4py.next.as_field([EdgeDim, KDim], ddqz_z_full_e)\n",
    "\n",
    "_ret_ = gt4py.next.as_field([EdgeDim, E2CDim], np.zeros_like(resExp))\n"
   ]
  },
  {
   "cell_type": "code",
   "execution_count": 18,
   "id": "f8c31a0e-651f-41cd-8bc1-32c0a4ff94dc",
   "metadata": {},
   "outputs": [
    {
     "name": "stderr",
     "output_type": "stream",
     "text": [
      "Will return the generated SDFG.\n"
     ]
    }
   ],
   "source": [
    "TestStencil_itir_sdfg = run_dace_iterator(\n",
    "    mo_velocity_advection_stencil_20.itir,\n",
    "    levelmask_F, c_lin_e_F, z_w_con_c_full_F,\n",
    "\n",
    "    ddqz_z_full_e_F, cfl_w_limit[0], scalfac_exdiff[0], dtime[0],\n",
    "\n",
    "    _ret_,\n",
    "    0, EdgeDimN, 0, KDimN,\n",
    "\n",
    "    return_sdfg=True, run_sdfg=True,\n",
    "    offset_provider={'E2C':E2C_offset_provider, \"Koff\": KDim})"
   ]
  },
  {
   "cell_type": "code",
   "execution_count": null,
   "id": "e521b230-aa68-41a7-9c8a-822891f859e1",
   "metadata": {},
   "outputs": [],
   "source": []
  },
  {
   "cell_type": "code",
   "execution_count": null,
   "id": "4c950177-2469-41e3-b5f4-9908ea95f255",
   "metadata": {},
   "outputs": [],
   "source": []
  },
  {
   "cell_type": "code",
   "execution_count": null,
   "id": "f5069dec-8852-45d5-a5b1-63bf0b169c2f",
   "metadata": {},
   "outputs": [],
   "source": []
  },
  {
   "cell_type": "code",
   "execution_count": null,
   "id": "56eef581-c29d-4d7b-a829-6ff49ae2b3d8",
   "metadata": {},
   "outputs": [],
   "source": []
  },
  {
   "cell_type": "code",
   "execution_count": null,
   "id": "ac9898c5-f515-4d1f-8016-0155a4d5010a",
   "metadata": {},
   "outputs": [],
   "source": []
  }
 ],
 "metadata": {
  "kernelspec": {
   "display_name": "dace_gt4py",
   "language": "python",
   "name": "dace_gt4py"
  },
  "language_info": {
   "codemirror_mode": {
    "name": "ipython",
    "version": 3
   },
   "file_extension": ".py",
   "mimetype": "text/x-python",
   "name": "python",
   "nbconvert_exporter": "python",
   "pygments_lexer": "ipython3",
   "version": "3.10.2"
  }
 },
 "nbformat": 4,
 "nbformat_minor": 5
}
