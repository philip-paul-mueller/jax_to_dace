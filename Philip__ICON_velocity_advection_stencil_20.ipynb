{
 "cells": [
  {
   "cell_type": "markdown",
   "id": "2b110451-26b1-4fcf-853c-f69469cee3ac",
   "metadata": {},
   "source": [
    "# ICON Stencil\n",
    "This stencil is based on `model/atmosphere/dycore/src/icon4py/model/atmosphere/dycore/mo_velocity_advection_stencil_20.py`.\n",
    "It is very simple and most faithfull implementation.\n",
    "\n",
    "A reference `NumPy` implementation can be found in `model/atmosphere/dycore/tests/stencil_tests/test_mo_velocity_advection_stencil_20.py`.\n"
   ]
  },
  {
   "cell_type": "code",
   "execution_count": 1,
   "id": "4ed35b0d-2f94-46b9-9a36-8f2117163d19",
   "metadata": {},
   "outputs": [
    {
     "data": {
      "text/html": [
       "<link href=\"https://fonts.googleapis.com/icon?family=Material+Icons\" rel=\"stylesheet\"><script src=\"https://spcl.github.io/dace/webclient2/dist/sdfv.js\"></script>\n",
       "<link href=\"https://spcl.github.io/dace/webclient2/sdfv.css\" rel=\"stylesheet\">\n"
      ],
      "text/plain": [
       "<IPython.core.display.HTML object>"
      ]
     },
     "metadata": {},
     "output_type": "display_data"
    }
   ],
   "source": [
    "import os, copy\n",
    "ncpu=1\n",
    "os.environ['XLA_FLAGS'] = f\"--xla_force_host_platform_device_count={ncpu}\"\n",
    "os.environ[\"XLA_FLAGS\"] = (\"--xla_cpu_multi_thread_eigen=false \"\n",
    "                           \"intra_op_parallelism_threads=1\")\n",
    "os.environ['JAX_PLATFORMS'] = \"cpu\"\n",
    "\n",
    "import numpy as np\n",
    "import jax\n",
    "import sys\n",
    "import jax.numpy as jnp\n",
    "from jax import jit, grad, vmap\n",
    "from jax import random\n",
    "\n",
    "# This must be enabled when `make_jaxpr` is called, because otherwhise we get problems.\n",
    "jax.config.update(\"jax_enable_x64\", True)\n",
    "\n",
    "import dace\n"
   ]
  },
  {
   "cell_type": "code",
   "execution_count": 2,
   "id": "a59c3d48-71ea-4e3a-b8b8-b8d0271d7d90",
   "metadata": {},
   "outputs": [],
   "source": [
    "from JaxprToSDFG import  JaxprToSDFG\n",
    "t = JaxprToSDFG()"
   ]
  },
  {
   "cell_type": "code",
   "execution_count": null,
   "id": "60adf190-f15c-4aac-b9ba-3559c2b4e38b",
   "metadata": {},
   "outputs": [],
   "source": []
  },
  {
   "cell_type": "code",
   "execution_count": 3,
   "id": "7017cec0-0dd5-44a7-bd32-0fd69d426c08",
   "metadata": {},
   "outputs": [],
   "source": [
    "noITIR = False   # Do not use the GT4Py based translators or results\n",
    "noSDFG = False    # Do not use the JAX -> SDFG based translators."
   ]
  },
  {
   "cell_type": "markdown",
   "id": "a81fcbf8-a7e2-4449-a6de-a515bfcaee2a",
   "metadata": {},
   "source": [
    "### Demo Input"
   ]
  },
  {
   "cell_type": "markdown",
   "id": "6cbbf20d-5285-46c3-8860-592bcc2111ec",
   "metadata": {},
   "source": [
    "### Grid Dimensions\n",
    "Since we miss the GT4Py Dimension mechanism, we will make some tricks.\n",
    "- `{K, Cell, Edge, Vertex}DimN` is the number of either Vertex, Cell, Edges or vertical levels.\n",
    "- Valid indexes always life within the range `[0, N-1]` where `N` is the above entity.\n",
    "- However, they do not denote at which position they are.\n",
    "\n"
   ]
  },
  {
   "cell_type": "code",
   "execution_count": 4,
   "id": "63a00c2e-66e9-406c-a855-702a42288fcc",
   "metadata": {},
   "outputs": [],
   "source": [
    "from icondims import SimpleGridData"
   ]
  },
  {
   "cell_type": "markdown",
   "id": "f077158a-8cd5-4872-a88f-7ea865c5c5ce",
   "metadata": {},
   "source": [
    "### Offset Providers\n",
    "Here we define the offset providors, i.e. the connectivity.\n",
    "It is important that they have to be read in a certain way."
   ]
  },
  {
   "cell_type": "code",
   "execution_count": 5,
   "id": "b4a750a3-1bc3-4875-bd28-cf8c1d620b37",
   "metadata": {},
   "outputs": [],
   "source": [
    "\n",
    "\n",
    "# As stated above, each edge is either adijacent to 1 cell (at the boundary) or 2 (in the inner part)\n",
    "#  This table describes which cell are adijacent to a certain edge, in case it is undefined we have `-1`.  \n",
    "edge_to_cell_table = np.array(SimpleGridData.e2c_table).astype(np.int32)\n",
    "\n",
    "# We have a triangular grid, this means a cell is bounded by three edges.\n",
    "#  In unstructured it could be, we have many geometrical forms, in this case\n",
    "#  we would allocate the matrix such that it fits the largest one and fill up with `-1` if we do not need them.\n",
    "cell_to_edge_table = np.array(SimpleGridData.c2e_table).astype(np.int32)\n",
    "\n",
    "\n"
   ]
  },
  {
   "cell_type": "code",
   "execution_count": 6,
   "id": "6471cb0e-cbc9-4aea-ae0a-1bff6b032a06",
   "metadata": {},
   "outputs": [],
   "source": [
    "KDimN = 50     # Vertical levels\n",
    "CellDimN = cell_to_edge_table.shape[0]   # How many cells we have\n",
    "EdgeDimN = edge_to_cell_table.shape[0]\n",
    "VertexDimN = SimpleGridData.v2c_table.shape[0]\n",
    "\n",
    "\n",
    "# `E2C` is the offset map that transforms _edges_ to _cells_.\n",
    "#   Since a edge is adijacent to at most two cells this dimension is 2 but at least 1.\n",
    "E2CDimN = 2\n"
   ]
  },
  {
   "cell_type": "code",
   "execution_count": 7,
   "id": "6b082480-baae-4b79-a528-1ede7cc6ec13",
   "metadata": {},
   "outputs": [],
   "source": [
    "# This is the level mask, the `+ 1` is taken from the test but it makes sense, at least a bit.\n",
    "#  For `levelmask[Koff]` use `levelmask[:-1]`\n",
    "#  and for `levelmask[Koff[+1]]` use `levelmask[1:]`.\n",
    "levelmask = (np.random.rand(KDimN + 1) < 0.5).astype(np.bool_)"
   ]
  },
  {
   "cell_type": "markdown",
   "id": "84f6b146-12dc-479c-a985-f796f0ee3a2e",
   "metadata": {},
   "source": [
    "### Fields\n",
    "These are the fields we are using as an inoput material"
   ]
  },
  {
   "cell_type": "code",
   "execution_count": 8,
   "id": "b513c563-8670-45cf-80de-30cca0ea6105",
   "metadata": {},
   "outputs": [],
   "source": [
    "# Field defined on the edges of the grid and different in every hight level.\n",
    "w_con_e = np.random.rand(EdgeDimN, KDimN).astype(np.float64)\n",
    "\n",
    "# This is a field, which is the same for every height level.\n",
    "#  It is defined for every edge but for each edge it has two values (thus `E2CDimN`) which is the result\n",
    "#  of an cell to edge mapping.\n",
    "c_lin_e = np.random.rand(EdgeDimN, E2CDimN).astype(np.float64)\n",
    "\n",
    "# This is a field that defines for every cell in every height level one value.\n",
    "z_w_con_c_full = np.random.rand(CellDimN, KDimN).astype(np.float64)\n",
    "\n",
    "ddqz_z_full_e = np.random.rand(EdgeDimN, KDimN).astype(np.float64)\n",
    "\n",
    "# This is the pseudoargument that we use to handle the return statement\n",
    "_out = np.random.rand(EdgeDimN, KDimN).astype(np.float64)\n",
    "\n",
    "\n",
    "\n",
    "cfl_w_limit = np.full((1), 4.0)\n",
    "scalfac_exdiff = np.full((1), 6.0)\n",
    "dtime = np.full((1), 2.0)\n",
    "\n",
    "cfl_w_limit_, scalfac_exdiff_, dtime_ = cfl_w_limit[0], scalfac_exdiff[0], dtime[0]\n"
   ]
  },
  {
   "cell_type": "markdown",
   "id": "86869788-11e8-471d-8e4c-9ce1ca1dce5f",
   "metadata": {},
   "source": [
    "# Implementation"
   ]
  },
  {
   "cell_type": "markdown",
   "id": "5581fd57-9a40-413e-a21a-47cd3985091a",
   "metadata": {},
   "source": [
    "### Python Implementation"
   ]
  },
  {
   "cell_type": "code",
   "execution_count": 9,
   "id": "75b7ccba-478c-4aeb-a09e-fdf763e1f8fd",
   "metadata": {},
   "outputs": [],
   "source": [
    "# Note that this is only the first part of the stencil.\n",
    "def TestStencil(c_lin_e: dace.float64[EdgeDimN, E2CDimN],\n",
    "                w_con_e: dace.float64[EdgeDimN, KDimN],\n",
    "                z_w_con_c_full: dace.float64[CellDimN, KDimN],\n",
    "                levelmask: dace.bool_[KDimN+1],\n",
    "                edge_to_cell_table: dace.int32[EdgeDimN, E2CDimN],\n",
    "                \n",
    "                ddqz_z_full_e: dace.float64,    # Ver 2\n",
    "                cfl_w_limit: dace.float64,\n",
    "                scalfac_exdiff: dace.float64,\n",
    "                dtime: dace.float64,\n",
    "):\n",
    "    c_lin_e = jnp.expand_dims(c_lin_e, axis=-1)   # Adding a new dimensions of shape 1 at the end for propper broadcasting (taken from the test).\n",
    "    #difcoef = jnp.zeros_like(w_con_e)\n",
    "    \n",
    "    #levelmask_offset_0 = levelmask[:-1]   # This is `levelmask[Koff[0]]`, i.e. the normal field\n",
    "    #levelmask_offset_1 = levelmask[1:]    # This is `levelmask[Koff[1]]`, i.e. the field at the top.\n",
    "\n",
    "    if(False):\n",
    "        # This is more general but it requieres that a `scatter` operation is present.\n",
    "        (EdgeDimN, E2CDimN, _) = c_lin_e.shape\n",
    "        (CellDimN, KDimN)      = z_w_con_c_full.shape\n",
    "        z_w_con_c_full_b = jnp.zeros((EdgeDimN, E2CDimN, KDimN))\n",
    "        z_w_con_c_full_b = z_w_con_c_full_b.at[:, 0, :].set(z_w_con_c_full[edge_to_cell_table[:, 0], :]) \n",
    "        z_w_con_c_full_b = z_w_con_c_full_b.at[:, 1, :].set(z_w_con_c_full[edge_to_cell_table[:, 1], :])  # The `-1` in the `edge_to_cell_table` will be resolved as some bullshit values, that will be removed further down in the where.\n",
    "        \n",
    "    elif(True):\n",
    "        z_w_0_ = z_w_con_c_full[edge_to_cell_table[:, 0], :]\n",
    "        z_w_1_ = z_w_con_c_full[edge_to_cell_table[:, 1], :]\n",
    "        z_w_con_c_full_0 = jnp.expand_dims(z_w_0_, axis=1)\n",
    "        z_w_con_c_full_1 = jnp.expand_dims(z_w_1_, axis=1)\n",
    "        z_w_con_c_full_b = jnp.concatenate((z_w_con_c_full_0, z_w_con_c_full_1), axis=1)\n",
    "\n",
    "    elif(True):\n",
    "        # These needs two briadcast dimenions\n",
    "        z_w_con_c_full_b = z_w_con_c_full[edge_to_cell_table]\n",
    "    #\n",
    "\n",
    "    Z = jnp.where(\n",
    "                jnp.expand_dims(edge_to_cell_table != -1, axis=-1), #(grid.connectivities[E2CDim] != -1)[:, :, np.newaxis],\n",
    "                c_lin_e * z_w_con_c_full_b,    #z_w_con_c_full[grid.connectivities[E2CDim]],\n",
    "                0,\n",
    "    )\n",
    "    if(True):\n",
    "        # This is knoledge that we sum over the non iterated direction.\n",
    "        Y = Z[:, 0, :] + Z[:, 1, :]\n",
    "    else:\n",
    "        Y = jnp.sum(Z, axis=1)\n",
    "\n",
    "    w_con_e = jnp.where((levelmask[:-1]) | (levelmask[1:]), Y, w_con_e)\n",
    "    difcoef = jnp.where(\n",
    "        (levelmask[:-1]) | (levelmask[1:]) & (jnp.abs(w_con_e) > cfl_w_limit * ddqz_z_full_e),\n",
    "        scalfac_exdiff\n",
    "        * jnp.minimum(\n",
    "            0.85 - cfl_w_limit * dtime,\n",
    "            jnp.abs(w_con_e) * dtime / ddqz_z_full_e - cfl_w_limit * dtime,\n",
    "        ),\n",
    "        0,\n",
    "    )\n",
    "    return difcoef\n",
    "#"
   ]
  },
  {
   "cell_type": "code",
   "execution_count": 10,
   "id": "b484696a-2380-4cd2-b997-38971c6ebcca",
   "metadata": {},
   "outputs": [
    {
     "name": "stdout",
     "output_type": "stream",
     "text": [
      "{ \u001b[34m\u001b[22m\u001b[1mlambda \u001b[39m\u001b[22m\u001b[22m; a\u001b[35m:f64[27,2]\u001b[39m b\u001b[35m:f64[27,50]\u001b[39m c\u001b[35m:f64[18,50]\u001b[39m d\u001b[35m:bool[51]\u001b[39m e\u001b[35m:i32[27,2]\u001b[39m f\u001b[35m:f64[27,50]\u001b[39m\n",
      "    g\u001b[35m:f64[]\u001b[39m h\u001b[35m:f64[]\u001b[39m i\u001b[35m:f64[]\u001b[39m. \u001b[34m\u001b[22m\u001b[1mlet\n",
      "    \u001b[39m\u001b[22m\u001b[22mj\u001b[35m:f64[27,2,1]\u001b[39m = broadcast_in_dim[\n",
      "      broadcast_dimensions=(0, 1)\n",
      "      shape=(27, 2, 1)\n",
      "    ] a\n",
      "    k\u001b[35m:i32[27,1]\u001b[39m = slice[limit_indices=(27, 1) start_indices=(0, 0) strides=None] e\n",
      "    l\u001b[35m:i32[27]\u001b[39m = squeeze[dimensions=(1,)] k\n",
      "    m\u001b[35m:bool[27]\u001b[39m = lt l 0\n",
      "    n\u001b[35m:i32[27]\u001b[39m = add l 18\n",
      "    o\u001b[35m:i32[27]\u001b[39m = select_n m l n\n",
      "    p\u001b[35m:i32[27,1]\u001b[39m = broadcast_in_dim[broadcast_dimensions=(0,) shape=(27, 1)] o\n",
      "    q\u001b[35m:f64[27,50]\u001b[39m = gather[\n",
      "      dimension_numbers=GatherDimensionNumbers(offset_dims=(1,), collapsed_slice_dims=(0,), start_index_map=(0,))\n",
      "      fill_value=None\n",
      "      indices_are_sorted=False\n",
      "      mode=GatherScatterMode.PROMISE_IN_BOUNDS\n",
      "      slice_sizes=(1, 50)\n",
      "      unique_indices=False\n",
      "    ] c p\n",
      "    r\u001b[35m:i32[27,1]\u001b[39m = slice[limit_indices=(27, 2) start_indices=(0, 1) strides=None] e\n",
      "    s\u001b[35m:i32[27]\u001b[39m = squeeze[dimensions=(1,)] r\n",
      "    t\u001b[35m:bool[27]\u001b[39m = lt s 0\n",
      "    u\u001b[35m:i32[27]\u001b[39m = add s 18\n",
      "    v\u001b[35m:i32[27]\u001b[39m = select_n t s u\n",
      "    w\u001b[35m:i32[27,1]\u001b[39m = broadcast_in_dim[broadcast_dimensions=(0,) shape=(27, 1)] v\n",
      "    x\u001b[35m:f64[27,50]\u001b[39m = gather[\n",
      "      dimension_numbers=GatherDimensionNumbers(offset_dims=(1,), collapsed_slice_dims=(0,), start_index_map=(0,))\n",
      "      fill_value=None\n",
      "      indices_are_sorted=False\n",
      "      mode=GatherScatterMode.PROMISE_IN_BOUNDS\n",
      "      slice_sizes=(1, 50)\n",
      "      unique_indices=False\n",
      "    ] c w\n",
      "    y\u001b[35m:f64[27,1,50]\u001b[39m = broadcast_in_dim[\n",
      "      broadcast_dimensions=(0, 2)\n",
      "      shape=(27, 1, 50)\n",
      "    ] q\n",
      "    z\u001b[35m:f64[27,1,50]\u001b[39m = broadcast_in_dim[\n",
      "      broadcast_dimensions=(0, 2)\n",
      "      shape=(27, 1, 50)\n",
      "    ] x\n",
      "    ba\u001b[35m:f64[27,2,50]\u001b[39m = concatenate[dimension=1] y z\n",
      "    bb\u001b[35m:bool[27,2]\u001b[39m = ne e -1\n",
      "    bc\u001b[35m:bool[27,2,1]\u001b[39m = broadcast_in_dim[\n",
      "      broadcast_dimensions=(0, 1)\n",
      "      shape=(27, 2, 1)\n",
      "    ] bb\n",
      "    bd\u001b[35m:f64[27,2,50]\u001b[39m = mul j ba\n",
      "    be\u001b[35m:bool[27,2]\u001b[39m = squeeze[dimensions=(2,)] bc\n",
      "    bf\u001b[35m:bool[27,2,50]\u001b[39m = broadcast_in_dim[\n",
      "      broadcast_dimensions=(0, 1)\n",
      "      shape=(27, 2, 50)\n",
      "    ] be\n",
      "    bg\u001b[35m:f64[27,2,50]\u001b[39m = broadcast_in_dim[\n",
      "      broadcast_dimensions=()\n",
      "      shape=(27, 2, 50)\n",
      "    ] 0.0\n",
      "    bh\u001b[35m:f64[27,2,50]\u001b[39m = select_n bf bg bd\n",
      "    bi\u001b[35m:f64[27,1,50]\u001b[39m = slice[\n",
      "      limit_indices=(27, 1, 50)\n",
      "      start_indices=(0, 0, 0)\n",
      "      strides=None\n",
      "    ] bh\n",
      "    bj\u001b[35m:f64[27,50]\u001b[39m = squeeze[dimensions=(1,)] bi\n",
      "    bk\u001b[35m:f64[27,1,50]\u001b[39m = slice[\n",
      "      limit_indices=(27, 2, 50)\n",
      "      start_indices=(0, 1, 0)\n",
      "      strides=None\n",
      "    ] bh\n",
      "    bl\u001b[35m:f64[27,50]\u001b[39m = squeeze[dimensions=(1,)] bk\n",
      "    bm\u001b[35m:f64[27,50]\u001b[39m = add bj bl\n",
      "    bn\u001b[35m:bool[50]\u001b[39m = slice[limit_indices=(50,) start_indices=(0,) strides=None] d\n",
      "    bo\u001b[35m:bool[50]\u001b[39m = slice[limit_indices=(51,) start_indices=(1,) strides=None] d\n",
      "    bp\u001b[35m:bool[50]\u001b[39m = or bn bo\n",
      "    bq\u001b[35m:bool[27,50]\u001b[39m = broadcast_in_dim[broadcast_dimensions=(1,) shape=(27, 50)] bp\n",
      "    br\u001b[35m:f64[27,50]\u001b[39m = select_n bq b bm\n",
      "    bs\u001b[35m:bool[50]\u001b[39m = slice[limit_indices=(50,) start_indices=(0,) strides=None] d\n",
      "    bt\u001b[35m:bool[50]\u001b[39m = slice[limit_indices=(51,) start_indices=(1,) strides=None] d\n",
      "    bu\u001b[35m:f64[27,50]\u001b[39m = abs br\n",
      "    bv\u001b[35m:f64[27,50]\u001b[39m = mul g f\n",
      "    bw\u001b[35m:bool[27,50]\u001b[39m = gt bu bv\n",
      "    bx\u001b[35m:bool[1,50]\u001b[39m = broadcast_in_dim[broadcast_dimensions=(1,) shape=(1, 50)] bt\n",
      "    by\u001b[35m:bool[27,50]\u001b[39m = and bx bw\n",
      "    bz\u001b[35m:bool[1,50]\u001b[39m = broadcast_in_dim[broadcast_dimensions=(1,) shape=(1, 50)] bs\n",
      "    ca\u001b[35m:bool[27,50]\u001b[39m = or bz by\n",
      "    cb\u001b[35m:f64[]\u001b[39m = mul g i\n",
      "    cc\u001b[35m:f64[]\u001b[39m = sub 0.85 cb\n",
      "    cd\u001b[35m:f64[27,50]\u001b[39m = abs br\n",
      "    ce\u001b[35m:f64[27,50]\u001b[39m = mul cd i\n",
      "    cf\u001b[35m:f64[27,50]\u001b[39m = div ce f\n",
      "    cg\u001b[35m:f64[]\u001b[39m = mul g i\n",
      "    ch\u001b[35m:f64[27,50]\u001b[39m = sub cf cg\n",
      "    ci\u001b[35m:f64[27,50]\u001b[39m = min cc ch\n",
      "    cj\u001b[35m:f64[27,50]\u001b[39m = mul h ci\n",
      "    ck\u001b[35m:f64[27,50]\u001b[39m = broadcast_in_dim[broadcast_dimensions=() shape=(27, 50)] 0.0\n",
      "    cl\u001b[35m:f64[27,50]\u001b[39m = select_n ca ck cj\n",
      "  \u001b[34m\u001b[22m\u001b[1min \u001b[39m\u001b[22m\u001b[22m(cl,) }\n"
     ]
    }
   ],
   "source": [
    "with jax.disable_jit(disable=True):\n",
    "    TestStencil_jaxpr = jax.make_jaxpr(TestStencil)(c_lin_e, w_con_e,\n",
    "                                                    z_w_con_c_full,\n",
    "                                                    levelmask, edge_to_cell_table, ddqz_z_full_e, cfl_w_limit[0], scalfac_exdiff[0], dtime[0])\n",
    "print(TestStencil_jaxpr)"
   ]
  },
  {
   "cell_type": "code",
   "execution_count": 11,
   "id": "9ad4adee-ccc0-4e9f-9aca-c39388fa34e4",
   "metadata": {},
   "outputs": [],
   "source": [
    "resExp = TestStencil(c_lin_e, w_con_e, z_w_con_c_full, levelmask, edge_to_cell_table, ddqz_z_full_e, cfl_w_limit[0], scalfac_exdiff[0], dtime[0])\n",
    "\n",
    "if(not noSDFG):\n",
    "    TestStencil_sdfg = t(TestStencil_jaxpr, simplify=True, auto_opt=5, ret_by_arg=True)\n",
    "\n",
    "    TestStencil_sdfg(c_lin_e, w_con_e, z_w_con_c_full, levelmask, edge_to_cell_table, ddqz_z_full_e, cfl_w_limit[0], scalfac_exdiff[0], dtime[0], _out)\n",
    "    resDC = _out.copy()\n",
    "    assert np.allclose(resExp, resDC)\n",
    "#"
   ]
  },
  {
   "cell_type": "code",
   "execution_count": 12,
   "id": "dcd3009a-1921-4e9d-95f1-7495bb503b1b",
   "metadata": {},
   "outputs": [],
   "source": [
    "if(True):\n",
    "    pass #TestStencil_sdfg.view()\n",
    "else:\n",
    "    TestStencil_sdfg.save(\"./SDFG_of_stencil.json\")\n"
   ]
  },
  {
   "cell_type": "markdown",
   "id": "f30c62ca-4424-420d-8348-23e1107e5492",
   "metadata": {},
   "source": [
    "### GT4Py Implementation"
   ]
  },
  {
   "cell_type": "code",
   "execution_count": 13,
   "id": "d415f3ca-b2bd-4972-a772-8ec05dc123d8",
   "metadata": {},
   "outputs": [],
   "source": [
    "import gt4py\n",
    "from gt4py.next.common import GridType\n",
    "from gt4py.next.ffront.decorator import field_operator, program\n",
    "from gt4py.next.ffront.fbuiltins import (  # noqa: A004 # import gt4py builtin\n",
    "    Field,\n",
    "    abs,\n",
    "    broadcast,\n",
    "    int32,\n",
    "    minimum,\n",
    "    neighbor_sum,\n",
    "    where,\n",
    ")\n",
    "\n",
    "from icondims import (\n",
    "    E2C,\n",
    "    E2C2EO,\n",
    "    E2V,\n",
    "    CellDim,\n",
    "    E2C2EODim,\n",
    "    E2CDim,\n",
    "    EdgeDim,\n",
    "    KDim,\n",
    "    Koff,\n",
    "    VertexDim,\n",
    ")\n",
    "\n",
    "E2C_offset_provider = gt4py.next.NeighborTableOffsetProvider(edge_to_cell_table, EdgeDim, CellDim, 2)\n",
    "\n",
    "\n",
    "@field_operator\n",
    "def _mo_velocity_advection_stencil_20(\n",
    "    levelmask: Field[[KDim], bool],\n",
    "    c_lin_e: Field[[EdgeDim, E2CDim], float],\n",
    "    z_w_con_c_full: Field[[CellDim, KDim], float],\n",
    "    \n",
    "    ddqz_z_full_e: Field[[EdgeDim, KDim], float],\n",
    "    cfl_w_limit: float,\n",
    "    scalfac_exdiff: float,\n",
    "    dtime: float,\n",
    ") -> Field[[EdgeDim, KDim], float]:\n",
    "    w_con_e = broadcast(0.0, (EdgeDim, KDim))\n",
    "    difcoef = broadcast(0.0, (EdgeDim, KDim))\n",
    "    w_con_e = where(\n",
    "        levelmask | levelmask(Koff[1]),\n",
    "        neighbor_sum(c_lin_e * z_w_con_c_full(E2C), axis=E2CDim),\n",
    "        w_con_e,\n",
    "    )\n",
    "\n",
    "    difcoef = where(\n",
    "        (levelmask | levelmask(Koff[1])) & (abs(w_con_e) > cfl_w_limit * ddqz_z_full_e),\n",
    "        scalfac_exdiff\n",
    "        * minimum(\n",
    "            0.85 - cfl_w_limit * dtime,\n",
    "            abs(w_con_e) * dtime / ddqz_z_full_e - cfl_w_limit * dtime,\n",
    "        ),\n",
    "        difcoef,\n",
    "    )\n",
    "    \n",
    "    return difcoef\n",
    "#\n",
    "\n",
    "\n",
    "@program(grid_type=GridType.UNSTRUCTURED)\n",
    "def mo_velocity_advection_stencil_20(\n",
    "    levelmask: Field[[KDim], bool],\n",
    "    c_lin_e: Field[[EdgeDim, E2CDim], float],\n",
    "    z_w_con_c_full: Field[[CellDim, KDim], float],\n",
    "\n",
    "    ddqz_z_full_e: Field[[EdgeDim, KDim], float],\n",
    "    cfl_w_limit: float,\n",
    "    scalfac_exdiff: float,\n",
    "    dtime: float,\n",
    "    \n",
    "    _ret_: Field[[EdgeDim, KDim], float],\n",
    "    horizontal_start: int32,\n",
    "    horizontal_end: int32,\n",
    "    vertical_start: int32,\n",
    "    vertical_end: int32,\n",
    "):\n",
    "    _mo_velocity_advection_stencil_20(\n",
    "        levelmask,\n",
    "        c_lin_e,\n",
    "        z_w_con_c_full,\n",
    "        ddqz_z_full_e, cfl_w_limit, scalfac_exdiff, dtime,\n",
    "        out=_ret_,\n",
    "        domain={\n",
    "            EdgeDim: (horizontal_start, horizontal_end),\n",
    "            KDim: (vertical_start, vertical_end),\n",
    "        },\n",
    "    )"
   ]
  },
  {
   "cell_type": "code",
   "execution_count": 14,
   "id": "ce4c6a15-c422-4f2d-bd31-f8ec23196514",
   "metadata": {},
   "outputs": [],
   "source": [
    "from gt4py.next.program_processors.runners.dace_iterator import run_dace_iterator\n",
    "\n",
    "levelmask_F = gt4py.next.as_field([KDim], levelmask)\n",
    "c_lin_e_F = gt4py.next.as_field([EdgeDim, E2CDim], c_lin_e)\n",
    "z_w_con_c_full_F = gt4py.next.as_field([CellDim, KDim], z_w_con_c_full)\n",
    "\n",
    "ddqz_z_full_e_F = gt4py.next.as_field([EdgeDim, KDim], ddqz_z_full_e)\n",
    "\n",
    "_ret_ = gt4py.next.as_field([EdgeDim, KDim], np.zeros((EdgeDimN, KDimN)))\n"
   ]
  },
  {
   "cell_type": "code",
   "execution_count": 15,
   "id": "f8c31a0e-651f-41cd-8bc1-32c0a4ff94dc",
   "metadata": {},
   "outputs": [],
   "source": [
    "if(not noITIR):\n",
    "    TestStencil_itir_sdfg, TestStencil_itir_sdfg_args = run_dace_iterator(\n",
    "        mo_velocity_advection_stencil_20.itir,\n",
    "        \n",
    "        levelmask_F, c_lin_e_F, z_w_con_c_full_F,\n",
    "    \n",
    "        ddqz_z_full_e_F, cfl_w_limit[0], scalfac_exdiff[0], dtime[0],\n",
    "\n",
    "        _ret_,\n",
    "        0, EdgeDimN, 0, KDimN,\n",
    "    \n",
    "        return_sdfg_args=True, run_sdfg=True,\n",
    "        offset_provider={'E2C': E2C_offset_provider, \"Koff\": KDim}\n",
    "    )\n",
    "    TestStencil_itir_sdfg_args_ = copy.deepcopy(TestStencil_itir_sdfg_args) #    {str(k): copy.deepcopy(v)  for k, v in TestStencil_itir_sdfg_args.items()}\n",
    "\n",
    "    TestStencil_itir_sdfg_args_['_ret_'][:] = 0\n",
    "    TestStencil_itir_sdfg(**TestStencil_itir_sdfg_args_)\n",
    "    #assert np.allclose(TestStencil_itir_sdfg_args['_ret_'], resExp)\n"
   ]
  },
  {
   "cell_type": "markdown",
   "id": "687a7b04-e136-4d4f-877b-0784933ecdf8",
   "metadata": {},
   "source": [
    "## \"Performance\" / Runtime"
   ]
  },
  {
   "cell_type": "code",
   "execution_count": 16,
   "id": "7b6d65b5-17aa-437d-b7d8-6577ff83c623",
   "metadata": {},
   "outputs": [],
   "source": [
    "import timeit\n",
    "repeat, number = 1000, 10\n",
    "\n",
    "_build_type = \"Release\"\n",
    "# removing  -ffast-math from DaCe default compiler args in order to support isfinite/isinf/isnan built-ins\n",
    "_cpu_args = dace.config.Config.get(\"compiler\", \"cpu\", \"args\").replace('-ffast-math', '') + ' -fopenmp'\n"
   ]
  },
  {
   "cell_type": "code",
   "execution_count": 17,
   "id": "fd46be9a-b3e3-43c3-9441-f7dc0e9e656d",
   "metadata": {},
   "outputs": [],
   "source": [
    "TestStencil_jax = jax.jit(TestStencil)"
   ]
  },
  {
   "cell_type": "code",
   "execution_count": 18,
   "id": "883e5b3e-1d54-4ba8-b945-c847cdee8912",
   "metadata": {},
   "outputs": [],
   "source": [
    "with dace.config.temporary_config():\n",
    "    dace.config.Config.set(\"compiler\", \"build_type\", value=_build_type)\n",
    "    if(len(_cpu_args) > 0):\n",
    "        dace.config.Config.set(\"compiler\", \"cpu\", \"args\", value=_cpu_args)\n",
    "    TestStencil_itir_prog = None if noITIR else TestStencil_itir_sdfg.compile()\n",
    "    TestStencil_prog = None if noSDFG else TestStencil_sdfg.compile()\n"
   ]
  },
  {
   "cell_type": "code",
   "execution_count": 19,
   "id": "d54fe1ac-ce43-4709-8bd5-a87625a154b2",
   "metadata": {},
   "outputs": [],
   "source": [
    "# Now to make that they are all loded, call them once\n",
    "if(not noITIR):\n",
    "    with dace.config.temporary_config():\n",
    "        dace.Config.set('compiler', 'allow_view_arguments', value=True)\n",
    "        _ = TestStencil_itir_prog(**TestStencil_itir_sdfg_args)"
   ]
  },
  {
   "cell_type": "code",
   "execution_count": 20,
   "id": "2ff1fb58-3784-4dc1-bf4a-1809fbcb26ea",
   "metadata": {},
   "outputs": [],
   "source": [
    "if(not noSDFG):\n",
    "    _ = TestStencil_prog(c_lin_e, w_con_e, z_w_con_c_full, levelmask, edge_to_cell_table, ddqz_z_full_e, cfl_w_limit_, scalfac_exdiff_, dtime_, _out)"
   ]
  },
  {
   "cell_type": "code",
   "execution_count": 21,
   "id": "d2b757c3-4b67-440b-baf9-7a5918086630",
   "metadata": {},
   "outputs": [],
   "source": [
    "_ = TestStencil_jax(c_lin_e, w_con_e, z_w_con_c_full, levelmask, edge_to_cell_table, ddqz_z_full_e, cfl_w_limit[0], scalfac_exdiff[0], dtime[0])"
   ]
  },
  {
   "cell_type": "code",
   "execution_count": 22,
   "id": "6bf4386e-2037-497f-b1bb-798efb53031f",
   "metadata": {},
   "outputs": [
    {
     "name": "stdout",
     "output_type": "stream",
     "text": [
      "Run the function 10 times inside a loop and repeated the loop 1000 times:\n",
      "- min: 0.0020941570110153407s\n",
      "- max: 0.26999946200521663s\n",
      "- mean: 0.023406050280609634s\n",
      "- std: 0.061634100513662554s\n"
     ]
    }
   ],
   "source": [
    "#%timeit TestStencil_itir_prog(**TestStencil_itir_sdfg_args_)\n",
    "if(not noITIR):\n",
    "    def TestStencil_itir_prog_TI():\n",
    "        TestStencil_itir_prog(**TestStencil_itir_sdfg_args)\n",
    "    #\n",
    "    with dace.config.temporary_config():\n",
    "        dace.Config.set('compiler', 'allow_view_arguments', value=True)\n",
    "        t_ = timeit.Timer(TestStencil_itir_prog_TI)\n",
    "        r = np.array(t_.repeat(repeat, number))\n",
    "    print(f\"Run the function {number} times inside a loop and repeated the loop {repeat} times:\\n- min: {r.min()}s\\n- max: {r.max()}s\\n- mean: {r.mean()}s\\n- std: {r.std()}s\")\n"
   ]
  },
  {
   "cell_type": "code",
   "execution_count": 23,
   "id": "b98e00c2-2ae7-4e8a-b3b1-accc122e4726",
   "metadata": {},
   "outputs": [
    {
     "name": "stdout",
     "output_type": "stream",
     "text": [
      "Run the function 10 times inside a loop and repeated the loop 1000 times:\n",
      "- min: 0.0011245999921811745s\n",
      "- max: 0.682681529011461s\n",
      "- mean: 0.00463494564879511s\n",
      "- std: 0.046167144859007254s\n"
     ]
    }
   ],
   "source": [
    "#%timeit TestStencil_prog(c_lin_e, w_con_e, z_w_con_c_full, levelmask, edge_to_cell_table, ddqz_z_full_e, cfl_w_limit[0], scalfac_exdiff[0], dtime[0])\n",
    "if(not noSDFG):\n",
    "    _SDFG_ARGS= [c_lin_e, w_con_e, z_w_con_c_full, levelmask, edge_to_cell_table, ddqz_z_full_e, cfl_w_limit_, scalfac_exdiff_, dtime_, _out]\n",
    "    def TestStencil_prog_TI():\n",
    "        TestStencil_prog(*_SDFG_ARGS)\n",
    "    #\n",
    "\n",
    "    t_ = timeit.Timer(TestStencil_prog_TI)\n",
    "    r = np.array(t_.repeat(repeat, number))\n",
    "    print(f\"Run the function {number} times inside a loop and repeated the loop {repeat} times:\\n- min: {r.min()}s\\n- max: {r.max()}s\\n- mean: {r.mean()}s\\n- std: {r.std()}s\")\n"
   ]
  },
  {
   "cell_type": "code",
   "execution_count": 24,
   "id": "e8f679a5-e574-4e72-a09e-b835c1232fc4",
   "metadata": {},
   "outputs": [
    {
     "name": "stdout",
     "output_type": "stream",
     "text": [
      "Run the function 10 times inside a loop and repeated the loop 1000 times:\n",
      "- min: 0.00014581199502572417s\n",
      "- max: 0.000841713001136668s\n",
      "- mean: 0.00016320954490220174s\n",
      "- std: 3.808780075132469e-05s\n"
     ]
    }
   ],
   "source": [
    "#%timeit TestStencil_jax(c_lin_e, w_con_e, z_w_con_c_full, levelmask, edge_to_cell_table, ddqz_z_full_e, cfl_w_limit[0], scalfac_exdiff[0], dtime[0])\n",
    "_JAX_ARGS = [c_lin_e, w_con_e, z_w_con_c_full, levelmask, edge_to_cell_table, ddqz_z_full_e, cfl_w_limit[0], scalfac_exdiff[0], dtime[0]]\n",
    "def TestStencil_jax_TI():\n",
    "    TestStencil_jax(*_JAX_ARGS)\n",
    "#\n",
    "\n",
    "t_ = timeit.Timer(TestStencil_jax_TI)\n",
    "r = np.array(t_.repeat(repeat, number))\n",
    "\n",
    "print(f\"Run the function {number} times inside a loop and repeated the loop {repeat} times:\\n- min: {r.min()}s\\n- max: {r.max()}s\\n- mean: {r.mean()}s\\n- std: {r.std()}s\")\n"
   ]
  },
  {
   "cell_type": "code",
   "execution_count": null,
   "id": "fdd97045-541e-4a47-bce1-cb1b23b53f72",
   "metadata": {},
   "outputs": [],
   "source": []
  },
  {
   "cell_type": "code",
   "execution_count": 25,
   "id": "1ac6842c-b8d0-4bdf-a713-21f6d3e57b64",
   "metadata": {},
   "outputs": [
    {
     "name": "stdout",
     "output_type": "stream",
     "text": [
      "Start with KDimN = 50\n"
     ]
    },
    {
     "name": "stderr",
     "output_type": "stream",
     "text": [
      "Will not run the SDFG.\n",
      "/home/quint_essent/git/1_CSCS/jax_demo/dace/sdfg/sdfg.py:2185: UserWarning: SDFG \"mo_velocity_advection_stencil_20\" is already loaded by another object, recompiling under a different name.\n",
      "  warnings.warn('SDFG \"%s\" is already loaded by another object, '\n"
     ]
    },
    {
     "name": "stdout",
     "output_type": "stream",
     "text": [
      "Start with KDimN = 100\n"
     ]
    },
    {
     "name": "stderr",
     "output_type": "stream",
     "text": [
      "Will not run the SDFG.\n"
     ]
    },
    {
     "name": "stdout",
     "output_type": "stream",
     "text": [
      "Start with KDimN = 200\n"
     ]
    },
    {
     "name": "stderr",
     "output_type": "stream",
     "text": [
      "Will not run the SDFG.\n"
     ]
    },
    {
     "name": "stdout",
     "output_type": "stream",
     "text": [
      "Start with KDimN = 300\n"
     ]
    },
    {
     "name": "stderr",
     "output_type": "stream",
     "text": [
      "Will not run the SDFG.\n"
     ]
    },
    {
     "name": "stdout",
     "output_type": "stream",
     "text": [
      "Start with KDimN = 400\n"
     ]
    },
    {
     "name": "stderr",
     "output_type": "stream",
     "text": [
      "Will not run the SDFG.\n"
     ]
    },
    {
     "name": "stdout",
     "output_type": "stream",
     "text": [
      "Start with KDimN = 500\n"
     ]
    },
    {
     "name": "stderr",
     "output_type": "stream",
     "text": [
      "Will not run the SDFG.\n"
     ]
    },
    {
     "name": "stdout",
     "output_type": "stream",
     "text": [
      "Start with KDimN = 600\n"
     ]
    },
    {
     "name": "stderr",
     "output_type": "stream",
     "text": [
      "Will not run the SDFG.\n"
     ]
    },
    {
     "name": "stdout",
     "output_type": "stream",
     "text": [
      "Start with KDimN = 700\n"
     ]
    },
    {
     "name": "stderr",
     "output_type": "stream",
     "text": [
      "Will not run the SDFG.\n"
     ]
    },
    {
     "name": "stdout",
     "output_type": "stream",
     "text": [
      "Start with KDimN = 800\n"
     ]
    },
    {
     "name": "stderr",
     "output_type": "stream",
     "text": [
      "Will not run the SDFG.\n"
     ]
    },
    {
     "name": "stdout",
     "output_type": "stream",
     "text": [
      "Start with KDimN = 900\n"
     ]
    },
    {
     "name": "stderr",
     "output_type": "stream",
     "text": [
      "Will not run the SDFG.\n"
     ]
    }
   ],
   "source": [
    "resTime_sdfg = []\n",
    "resTime_jax  = []\n",
    "resTime_itir = []\n",
    "KDimNs       = [50, 100, 200, 300, 400, 500, 600, 700, 800, 900]\n",
    "\n",
    "for KDimN_ in KDimNs:\n",
    "    print(f\"Start with KDimN = {KDimN_}\", flush=True)\n",
    "    w_con_e = np.random.rand(EdgeDimN, KDimN_).astype(np.float64)\n",
    "    z_w_con_c_full = np.random.rand(CellDimN, KDimN_).astype(np.float64)\n",
    "    ddqz_z_full_e = np.random.rand(EdgeDimN, KDimN_).astype(np.float64)\n",
    "    levelmask = (np.random.rand(KDimN_ + 1) < 0.5).astype(np.bool_)\n",
    "\n",
    "    # Generating JAX Source\n",
    "    with jax.disable_jit(disable=True):\n",
    "        TestStencil_jaxpr = jax.make_jaxpr(TestStencil)(c_lin_e, w_con_e, z_w_con_c_full, levelmask, edge_to_cell_table, ddqz_z_full_e, cfl_w_limit[0], scalfac_exdiff[0], dtime[0])\n",
    "    #\n",
    "\n",
    "    # Generating the ITIR Based translation\n",
    "    if(not noITIR):\n",
    "        levelmask_F = gt4py.next.as_field([KDim], levelmask)\n",
    "        c_lin_e_F = gt4py.next.as_field([EdgeDim, E2CDim], c_lin_e)\n",
    "        z_w_con_c_full_F = gt4py.next.as_field([CellDim, KDim], z_w_con_c_full)\n",
    "        ddqz_z_full_e_F = gt4py.next.as_field([EdgeDim, KDim], ddqz_z_full_e)\n",
    "        _ret_ = gt4py.next.as_field([EdgeDim, KDim], np.zeros_like(ddqz_z_full_e))\n",
    "        TestStencil_itir_sdfg, TestStencil_itir_sdfg_args = run_dace_iterator(\n",
    "                mo_velocity_advection_stencil_20.itir, levelmask_F, c_lin_e_F, z_w_con_c_full_F,ddqz_z_full_e_F, cfl_w_limit_, scalfac_exdiff_, dtime_,\n",
    "                _ret_, 0, EdgeDimN, 0, KDimN_, return_sdfg_args=True, run_sdfg=False,    offset_provider={'E2C':E2C_offset_provider, \"Koff\": KDim})\n",
    "        #\n",
    "    #\n",
    "\n",
    "    # Translating from JAX to SDFG\n",
    "    if(not noSDFG):\n",
    "        TestStencil_sdfg = t(TestStencil_jaxpr, simplify=True, auto_opt=5, ret_by_arg=True)\n",
    "\n",
    "    # Create the computations\n",
    "    with dace.config.temporary_config():\n",
    "        dace.config.Config.set(\"compiler\", \"build_type\", value=_build_type)\n",
    "        if(len(_cpu_args) > 0):\n",
    "            dace.config.Config.set(\"compiler\", \"cpu\", \"args\", value=_cpu_args)\n",
    "        if(not noSDFG):\n",
    "            TestStencil_prog = TestStencil_sdfg.compile()\n",
    "        if(not noITIR):\n",
    "            TestStencil_itir_prog = TestStencil_itir_sdfg.compile()\n",
    "    #\n",
    "\n",
    "    if(not noITIR):\n",
    "        ARG = [copy.deepcopy(TestStencil_itir_sdfg_args[x])  for x in TestStencil_itir_prog.argnames]\n",
    "        TestStencil_itir_prog_TI = lambda: TestStencil_itir_prog(*ARG)\n",
    "        TestStencil_itir_prog_TI()   # Call it once to ensure that it is present\n",
    "    #\n",
    "    if(not noSDFG):\n",
    "        _out = np.zeros((EdgeDimN, KDimN_))\n",
    "        TestStencil_prog_TI = lambda: TestStencil_prog(c_lin_e, w_con_e, z_w_con_c_full, levelmask, edge_to_cell_table, ddqz_z_full_e, cfl_w_limit_, scalfac_exdiff_, dtime_, _out)\n",
    "        TestStencil_prog_TI()   # Call it once to ensure that it is present\n",
    "    #\n",
    "    TestStencil_jax_TI = lambda: TestStencil_jax(c_lin_e, w_con_e, z_w_con_c_full, levelmask, edge_to_cell_table, ddqz_z_full_e, cfl_w_limit_, scalfac_exdiff_, dtime_)\n",
    "    TestStencil_jax_TI()    # Call it once to ensure that it is present\n",
    "    \n",
    "    # Test ITIR Translation\n",
    "    if(not noITIR):\n",
    "        t_ = timeit.Timer(TestStencil_itir_prog_TI)\n",
    "        r = np.array(t_.repeat(repeat, number))\n",
    "    else:\n",
    "        r = np.zeros(repeat)\n",
    "    resTime_itir.append(r)\n",
    "\n",
    "    # Test SDFG\n",
    "    if(not noSDFG):\n",
    "        t_ = timeit.Timer(TestStencil_prog_TI)\n",
    "        r = np.array(t_.repeat(repeat, number))\n",
    "    else:\n",
    "        r = np.zeros(repeat)\n",
    "    resTime_sdfg.append(r)\n",
    "\n",
    "    # Test JAX\n",
    "    t_ = timeit.Timer(TestStencil_jax_TI)\n",
    "    r = np.array(t_.repeat(repeat, number))\n",
    "    resTime_jax.append(r)\n",
    "#\n"
   ]
  },
  {
   "cell_type": "code",
   "execution_count": 26,
   "id": "b0ea55c9-9f4a-4cf5-b917-4504a61562ec",
   "metadata": {},
   "outputs": [],
   "source": [
    "resTime_sdfg_min = np.array([r.min()  for r in resTime_sdfg])\n",
    "resTime_jax_min = np.array([r.min()  for r in resTime_jax])\n",
    "resTime_itir_min = np.array([r.min()  for r in resTime_itir])\n",
    "\n",
    "resTime_sdfg_mean = np.array([r.mean()  for r in resTime_sdfg])\n",
    "resTime_jax_mean = np.array([r.mean()  for r in resTime_jax])\n",
    "resTime_itir_mean = np.array([r.mean()  for r in resTime_itir])\n",
    "\n",
    "resTime_sdfg_std = np.array([r.std()  for r in resTime_sdfg])\n",
    "resTime_jax_std = np.array([r.std()  for r in resTime_jax])\n",
    "resTime_itir_std = np.array([r.std()  for r in resTime_itir])\n"
   ]
  },
  {
   "cell_type": "code",
   "execution_count": 27,
   "id": "f8e7a455-d06d-447b-9bef-f6287adaa0e9",
   "metadata": {},
   "outputs": [],
   "source": [
    "import matplotlib as mpl\n",
    "from matplotlib import pyplot as plt"
   ]
  },
  {
   "cell_type": "code",
   "execution_count": 33,
   "id": "a75355d3-22b1-40db-80a8-8278ebd283c8",
   "metadata": {},
   "outputs": [
    {
     "data": {
      "image/png": "[encoded data removed]",
      "text/plain": [
       "<Figure size 640x480 with 1 Axes>"
      ]
     },
     "metadata": {},
     "output_type": "display_data"
    }
   ],
   "source": [
    "X = np.vstack([KDimNs, np.ones_like(KDimNs)]).T\n",
    "\n",
    "for ID, Time in {'JAX -> SDFG':  resTime_sdfg_min,\n",
    "                 'ITIR -> SDFG': resTime_itir_min,\n",
    "                 'JAX':          resTime_jax_min, }.items():\n",
    "    plt.plot(KDimNs, Time * 1000 / number, label=ID)\n",
    "    col = plt.gca().lines[-1].get_color()\n",
    "    a, b = np.linalg.lstsq(X, Time / number, rcond=None)[0]\n",
    "\n",
    "    Times_ = a * np.array(KDimNs) + b\n",
    "    plt.plot(\n",
    "        KDimNs, Times_ * 1000,\n",
    "        c=col, linestyle='--', alpha=0.8, \n",
    "        label=f'${int(a * (1e3*1e4))/1e4} \\\\cdot k + {int(b * (1e3*1e4))/1e4}$',\n",
    "    )\n",
    "#\n",
    "\n",
    "\n",
    "plt.legend()\n",
    "plt.xlabel('KDim')\n",
    "plt.ylabel('$t_{min run}$ [ms]')\n",
    "plt.grid(visible=True)\n",
    "#plt.yscale('log')\n",
    "\n",
    "plt.title(\"Minimal runtime of the stencil\")\n",
    "\n",
    "plt.show()\n"
   ]
  },
  {
   "cell_type": "code",
   "execution_count": 34,
   "id": "7b60cd52-1940-4cf7-8245-620868765cdb",
   "metadata": {},
   "outputs": [
    {
     "data": {
      "image/png": "[encoded data removed]",
      "text/plain": [
       "<Figure size 640x480 with 1 Axes>"
      ]
     },
     "metadata": {},
     "output_type": "display_data"
    }
   ],
   "source": [
    "X = np.vstack([KDimNs, np.ones_like(KDimNs)]).T\n",
    "\n",
    "for ID, Time in {'JAX -> SDFG':  resTime_sdfg_min,\n",
    "                 'ITIR -> SDFG': resTime_itir_min,\n",
    "                 'JAX':          resTime_jax_min, }.items():\n",
    "    plt.plot(KDimNs, (Time - Time[0]) * 1000 / number, label=ID)\n",
    "    col = plt.gca().lines[-1].get_color()\n",
    "    a, b = np.linalg.lstsq(X, Time / number, rcond=None)[0]\n",
    "\n",
    "    Times_ = a * np.array(KDimNs)\n",
    "    plt.plot(\n",
    "        KDimNs, Times_ * 1000,\n",
    "        c=col, linestyle='--', alpha=0.8, \n",
    "        label=f'${int(a * (1e3*1e4))/1e4} \\\\cdot k + {int(b * (1e3*1e4))/1e4}$',\n",
    "    )\n",
    "\n",
    "#\n",
    "\n",
    "\n",
    "plt.legend()\n",
    "plt.xlabel('KDim')\n",
    "plt.ylabel('$\\\\hat{t}_{min run}$ [ms]')\n",
    "plt.grid(visible=True)\n",
    "#plt.yscale('log')\n",
    "\n",
    "plt.title(\"Minimal runtime of the stenil\")\n",
    "\n",
    "plt.show()\n"
   ]
  },
  {
   "cell_type": "code",
   "execution_count": null,
   "id": "2aff4a0c-ae3c-4a92-b130-a731006676a9",
   "metadata": {},
   "outputs": [],
   "source": []
  },
  {
   "cell_type": "code",
   "execution_count": 35,
   "id": "f42ec132-cb70-4dd5-be8d-91e20cf0ef50",
   "metadata": {},
   "outputs": [
    {
     "name": "stdout",
     "output_type": "stream",
     "text": [
      "         442003 function calls in 0.383 seconds\n",
      "\n",
      "   Ordered by: standard name\n",
      "\n",
      "   ncalls  tottime  percall  cumtime  percall filename:lineno(function)\n",
      "     1000    0.001    0.000    0.383    0.000 2440306058.py:53(<lambda>)\n",
      "        1    0.000    0.000    0.383    0.383 <string>:1(<module>)\n",
      "     7000    0.002    0.000    0.003    0.000 _enum.py:2362(__eq__)\n",
      "     7000    0.015    0.000    0.018    0.000 compiled_sdfg.py:151(_array_interface_ptr)\n",
      "     2000    0.000    0.000    0.000    0.000 compiled_sdfg.py:319(sdfg)\n",
      "     1000    0.180    0.000    0.382    0.000 compiled_sdfg.py:369(__call__)\n",
      "     1000    0.001    0.000    0.001    0.000 compiled_sdfg.py:372(<dictcomp>)\n",
      "     1000    0.022    0.000    0.196    0.000 compiled_sdfg.py:410(_construct_args)\n",
      "     1000    0.014    0.000    0.049    0.000 compiled_sdfg.py:543(_construct_args_explicit_casting)\n",
      "     1000    0.008    0.000    0.022    0.000 compiled_sdfg.py:567(_construct_args_callparams)\n",
      "     1000    0.001    0.000    0.002    0.000 compiled_sdfg.py:584(_construct_args_initarg)\n",
      "     1000    0.001    0.000    0.001    0.000 compiled_sdfg.py:589(<genexpr>)\n",
      "     1000    0.004    0.000    0.030    0.000 compiled_sdfg.py:623(_initialize_return_values)\n",
      "     1000    0.004    0.000    0.019    0.000 compiled_sdfg.py:627(<dictcomp>)\n",
      "     1000    0.000    0.000    0.001    0.000 compiled_sdfg.py:673(_convert_return_values)\n",
      "     1000    0.001    0.000    0.001    0.000 contextlib.py:102(__init__)\n",
      "     1000    0.001    0.000    0.001    0.000 contextlib.py:130(__enter__)\n",
      "     1000    0.001    0.000    0.001    0.000 contextlib.py:139(__exit__)\n",
      "     1000    0.001    0.000    0.002    0.000 contextlib.py:279(helper)\n",
      "    10000    0.022    0.000    0.042    0.000 dtypes.py:1512(is_array)\n",
      "    10000    0.002    0.000    0.002    0.000 dtypes.py:417(as_ctypes)\n",
      "     2000    0.000    0.000    0.000    0.000 hooks.py:253(invoke_compiled_sdfg_call_hooks)\n",
      "    20000    0.010    0.000    0.030    0.000 properties.py:1358(__get__)\n",
      "    29000    0.019    0.000    0.031    0.000 properties.py:192(__get__)\n",
      "    29000    0.003    0.000    0.003    0.000 properties.py:244(getter)\n",
      "     1000    0.002    0.000    0.004    0.000 sdfg.py:1150(constants)\n",
      "     1000    0.000    0.000    0.000    0.000 sdfg.py:1166(<dictcomp>)\n",
      "     1000    0.000    0.000    0.002    0.000 sdfg.py:678(arrays)\n",
      "    10000    0.011    0.000    0.015    0.000 sdfg.py:71(__contains__)\n",
      "    10000    0.006    0.000    0.011    0.000 symbolic.py:374(issymbolic)\n",
      "        1    0.000    0.000    0.383    0.383 {built-in method builtins.exec}\n",
      "    30000    0.006    0.000    0.006    0.000 {built-in method builtins.getattr}\n",
      "    56000    0.022    0.000    0.022    0.000 {built-in method builtins.hasattr}\n",
      "    90000    0.012    0.000    0.012    0.000 {built-in method builtins.isinstance}\n",
      "    13000    0.001    0.000    0.001    0.000 {built-in method builtins.len}\n",
      "     2000    0.001    0.000    0.001    0.000 {built-in method builtins.next}\n",
      "    10000    0.001    0.000    0.001    0.000 {function NestedDict.__contains__ at 0x7fd88706b6d0}\n",
      "    60000    0.004    0.000    0.004    0.000 {method 'append' of 'list' objects}\n",
      "     1000    0.000    0.000    0.000    0.000 {method 'clear' of 'list' objects}\n",
      "        1    0.000    0.000    0.000    0.000 {method 'disable' of '_lsprof.Profiler' objects}\n",
      "     2000    0.000    0.000    0.000    0.000 {method 'items' of 'dict' objects}\n",
      "    10000    0.001    0.000    0.001    0.000 {method 'pop' of 'list' objects}\n",
      "    10000    0.001    0.000    0.001    0.000 {method 'split' of 'str' objects}\n",
      "     4000    0.001    0.000    0.001    0.000 {method 'update' of 'dict' objects}\n",
      "\n",
      "\n"
     ]
    }
   ],
   "source": [
    "import cProfile\n",
    "\n",
    "cProfile.run('for i in range(1000): TestStencil_prog_TI()')"
   ]
  },
  {
   "cell_type": "code",
   "execution_count": 38,
   "id": "b792a77f-e048-4512-a5ac-ce100a1633c6",
   "metadata": {},
   "outputs": [
    {
     "name": "stdout",
     "output_type": "stream",
     "text": [
      "         1294003 function calls in 0.828 seconds\n",
      "\n",
      "   Ordered by: standard name\n",
      "\n",
      "   ncalls  tottime  percall  cumtime  percall filename:lineno(function)\n",
      "     1000    0.001    0.000    0.828    0.001 2440306058.py:48(<lambda>)\n",
      "        1    0.001    0.001    0.828    0.828 <string>:1(<module>)\n",
      "     6000    0.002    0.000    0.003    0.000 _enum.py:2362(__eq__)\n",
      "     6000    0.021    0.000    0.024    0.000 compiled_sdfg.py:151(_array_interface_ptr)\n",
      "     2000    0.000    0.000    0.000    0.000 compiled_sdfg.py:319(sdfg)\n",
      "     1000    0.258    0.000    0.826    0.001 compiled_sdfg.py:369(__call__)\n",
      "     1000    0.004    0.000    0.004    0.000 compiled_sdfg.py:372(<dictcomp>)\n",
      "     1000    0.060    0.000    0.558    0.001 compiled_sdfg.py:410(_construct_args)\n",
      "     1000    0.060    0.000    0.197    0.000 compiled_sdfg.py:543(_construct_args_explicit_casting)\n",
      "     1000    0.021    0.000    0.062    0.000 compiled_sdfg.py:567(_construct_args_callparams)\n",
      "     1000    0.004    0.000    0.025    0.000 compiled_sdfg.py:584(_construct_args_initarg)\n",
      "    28000    0.014    0.000    0.021    0.000 compiled_sdfg.py:589(<genexpr>)\n",
      "     1000    0.005    0.000    0.082    0.000 compiled_sdfg.py:623(_initialize_return_values)\n",
      "     1000    0.015    0.000    0.068    0.000 compiled_sdfg.py:627(<dictcomp>)\n",
      "     1000    0.000    0.000    0.001    0.000 compiled_sdfg.py:673(_convert_return_values)\n",
      "     1000    0.001    0.000    0.002    0.000 contextlib.py:102(__init__)\n",
      "     1000    0.001    0.000    0.001    0.000 contextlib.py:130(__enter__)\n",
      "     1000    0.001    0.000    0.002    0.000 contextlib.py:139(__exit__)\n",
      "     1000    0.001    0.000    0.002    0.000 contextlib.py:279(helper)\n",
      "    33000    0.043    0.000    0.083    0.000 dtypes.py:1512(is_array)\n",
      "    33000    0.007    0.000    0.007    0.000 dtypes.py:417(as_ctypes)\n",
      "     2000    0.000    0.000    0.000    0.000 hooks.py:253(invoke_compiled_sdfg_call_hooks)\n",
      "    66000    0.038    0.000    0.118    0.000 properties.py:1358(__get__)\n",
      "    74000    0.054    0.000    0.093    0.000 properties.py:192(__get__)\n",
      "    74000    0.009    0.000    0.009    0.000 properties.py:244(getter)\n",
      "     1000    0.002    0.000    0.005    0.000 sdfg.py:1150(constants)\n",
      "     1000    0.000    0.000    0.000    0.000 sdfg.py:1166(<dictcomp>)\n",
      "     1000    0.001    0.000    0.003    0.000 sdfg.py:678(arrays)\n",
      "    33000    0.036    0.000    0.054    0.000 sdfg.py:71(__contains__)\n",
      "    33000    0.017    0.000    0.034    0.000 symbolic.py:374(issymbolic)\n",
      "        1    0.000    0.000    0.828    0.828 {built-in method builtins.exec}\n",
      "    75000    0.022    0.000    0.022    0.000 {built-in method builtins.getattr}\n",
      "   170000    0.042    0.000    0.042    0.000 {built-in method builtins.hasattr}\n",
      "   324000    0.052    0.000    0.052    0.000 {built-in method builtins.isinstance}\n",
      "    12000    0.002    0.000    0.002    0.000 {built-in method builtins.len}\n",
      "     2000    0.001    0.000    0.001    0.000 {built-in method builtins.next}\n",
      "    33000    0.003    0.000    0.003    0.000 {function NestedDict.__contains__ at 0x7fd88706b6d0}\n",
      "   198000    0.013    0.000    0.013    0.000 {method 'append' of 'list' objects}\n",
      "     1000    0.000    0.000    0.000    0.000 {method 'clear' of 'list' objects}\n",
      "        1    0.000    0.000    0.000    0.000 {method 'disable' of '_lsprof.Profiler' objects}\n",
      "     2000    0.000    0.000    0.000    0.000 {method 'items' of 'dict' objects}\n",
      "    33000    0.005    0.000    0.005    0.000 {method 'pop' of 'list' objects}\n",
      "    33000    0.006    0.000    0.006    0.000 {method 'split' of 'str' objects}\n",
      "     4000    0.001    0.000    0.001    0.000 {method 'update' of 'dict' objects}\n",
      "\n",
      "\n"
     ]
    }
   ],
   "source": [
    "cProfile.run('for i in range(1000): TestStencil_itir_prog_TI()')"
   ]
  },
  {
   "cell_type": "code",
   "execution_count": null,
   "id": "e660e951-f09a-4327-a042-7b9d76656bb6",
   "metadata": {},
   "outputs": [],
   "source": []
  }
 ],
 "metadata": {
  "kernelspec": {
   "display_name": "dace_gt4py",
   "language": "python",
   "name": "dace_gt4py"
  },
  "language_info": {
   "codemirror_mode": {
    "name": "ipython",
    "version": 3
   },
   "file_extension": ".py",
   "mimetype": "text/x-python",
   "name": "python",
   "nbconvert_exporter": "python",
   "pygments_lexer": "ipython3",
   "version": "3.10.2"
  }
 },
 "nbformat": 4,
 "nbformat_minor": 5
}
