{
 "cells": [
  {
   "cell_type": "markdown",
   "id": "2b110451-26b1-4fcf-853c-f69469cee3ac",
   "metadata": {},
   "source": [
    "# ICON Stencil\n",
    "This stencil is based on `model/atmosphere/dycore/src/icon4py/model/atmosphere/dycore/mo_solve_nonhydro_stencil_20.py`.\n",
    "It is very simple and most faithfull implementation.\n",
    "\n",
    "A reference `NumPy` implementation can be found in `model/atmosphere/dycore/tests/stencil_tests/test_mo_velocity_advection_stencil_20.py`.\n"
   ]
  },
  {
   "cell_type": "code",
   "execution_count": 1,
   "id": "4ed35b0d-2f94-46b9-9a36-8f2117163d19",
   "metadata": {},
   "outputs": [
    {
     "data": {
      "text/html": [
       "<link href=\"https://fonts.googleapis.com/icon?family=Material+Icons\" rel=\"stylesheet\"><script src=\"https://spcl.github.io/dace/webclient2/dist/sdfv.js\"></script>\n",
       "<link href=\"https://spcl.github.io/dace/webclient2/sdfv.css\" rel=\"stylesheet\">\n"
      ],
      "text/plain": [
       "<IPython.core.display.HTML object>"
      ]
     },
     "metadata": {},
     "output_type": "display_data"
    }
   ],
   "source": [
    "import os\n",
    "ncpu=1\n",
    "os.environ['XLA_FLAGS'] = f\"--xla_force_host_platform_device_count={ncpu}\"\n",
    "os.environ[\"XLA_FLAGS\"] = (\"--xla_cpu_multi_thread_eigen=false \"\n",
    "                           \"intra_op_parallelism_threads=1\")\n",
    "os.environ['JAX_PLATFORMS'] = \"cpu\"\n",
    "\n",
    "import numpy as np\n",
    "import jax\n",
    "import sys\n",
    "import jax.numpy as jnp\n",
    "from jax import jit, grad, vmap\n",
    "from jax import random\n",
    "\n",
    "# This must be enabled when `make_jaxpr` is called, because otherwhise we get problems.\n",
    "jax.config.update(\"jax_enable_x64\", True)\n",
    "\n",
    "import dace\n"
   ]
  },
  {
   "cell_type": "code",
   "execution_count": 2,
   "id": "a59c3d48-71ea-4e3a-b8b8-b8d0271d7d90",
   "metadata": {},
   "outputs": [],
   "source": [
    "from JaxprToSDFG import  JaxprToSDFG\n",
    "t = JaxprToSDFG()"
   ]
  },
  {
   "cell_type": "markdown",
   "id": "a81fcbf8-a7e2-4449-a6de-a515bfcaee2a",
   "metadata": {},
   "source": [
    "### Demo Input"
   ]
  },
  {
   "cell_type": "markdown",
   "id": "6cbbf20d-5285-46c3-8860-592bcc2111ec",
   "metadata": {},
   "source": [
    "### Grid Dimensions\n",
    "Since we miss the GT4Py Dimension mechanism, we will make some tricks.\n",
    "- `{K, Cell, Edge, Vertex}DimN` is the number of either Vertex, Cell, Edges or vertical levels.\n",
    "- Valid indexes always life within the range `[0, N-1]` where `N` is the above entity.\n",
    "- However, they do not denote at which position they are.\n",
    "\n"
   ]
  },
  {
   "cell_type": "code",
   "execution_count": 3,
   "id": "522d92f3-94f7-4714-aed1-8463d1559778",
   "metadata": {},
   "outputs": [],
   "source": [
    "KDimN = 5     # Vertical levels\n",
    "CellDimN = 6   # How many cells we have\n",
    "EdgeDimN = 12\n",
    "VertexDimN = 100\n",
    "\n",
    "\n",
    "# `E2C` is the offset map that transforms _edges_ to _cells_.\n",
    "#   Since a edge is adijacent to at most two cells this dimension is 2 but at least 1.\n",
    "E2CDimN = 2\n"
   ]
  },
  {
   "cell_type": "markdown",
   "id": "be7e2f6e-13ee-4d8b-99ae-2c066c586c34",
   "metadata": {},
   "source": [
    "### Fields\n",
    "These are the fields we are using as an inoput material"
   ]
  },
  {
   "cell_type": "code",
   "execution_count": 4,
   "id": "85f3f04d-d874-4d27-ace6-7fb34c1c184d",
   "metadata": {},
   "outputs": [],
   "source": [
    "# Field defined on the edges of the grid and different in every hight level.\n",
    "w_con_e = np.random.rand(EdgeDimN, KDimN).astype(np.float64)\n",
    "\n",
    "# This is a field, which is the same for every height level.\n",
    "#  It is defined for every edge but for each edge it has two values (thus `E2CDimN`) which is the result\n",
    "#  of an cell to edge mapping.\n",
    "c_lin_e = np.random.rand(EdgeDimN, E2CDimN).astype(np.float64)\n",
    "\n",
    "# This is a field that defines for every cell in every height level one value.\n",
    "z_w_con_c_full = np.random.rand(CellDimN, KDimN).astype(np.float64)"
   ]
  },
  {
   "cell_type": "code",
   "execution_count": 5,
   "id": "fb572134-8b4b-423e-a92a-2d21f15521fa",
   "metadata": {},
   "outputs": [],
   "source": [
    "A = np.ones((1, 1, 5))\n"
   ]
  },
  {
   "cell_type": "markdown",
   "id": "f077158a-8cd5-4872-a88f-7ea865c5c5ce",
   "metadata": {},
   "source": [
    "### Offset Providers\n",
    "Here we define the offset providors, i.e. the connectivity.\n",
    "It is important that they have to be read in a certain way."
   ]
  },
  {
   "cell_type": "code",
   "execution_count": 6,
   "id": "b4a750a3-1bc3-4875-bd28-cf8c1d620b37",
   "metadata": {},
   "outputs": [],
   "source": [
    "# This is the level mask, the `+ 1` is taken from the test but it makes sense, at least a bit.\n",
    "#  For `levelmask[Koff]` use `levelmask[:-1]`\n",
    "#  and for `levelmask[Koff[+1]]` use `levelmask[1:]`.\n",
    "levelmask = (np.random.rand(KDimN + 1) < 0.5).astype(np.bool_)\n",
    "\n",
    "# As stated above, each edge is either adijacent to 1 cell (at the boundary) or 2 (in the inner part)\n",
    "#  This table describes which cell are adijacent to a certain edge, in case it is undefined we have `-1`.  \n",
    "edge_to_cell_table = np.array([\n",
    "    [0, -1], # edge 0 (neighbours: cell 0)\n",
    "    [2, -1], # edge 1\n",
    "    [2, -1], # edge 2\n",
    "    [3, -1], # edge 3\n",
    "    [4, -1], # edge 4\n",
    "    [5, -1], # edge 5\n",
    "    [0, 5],  # edge 6 (neighbours: cell 0, cell 5)\n",
    "    [0, 1],  # edge 7\n",
    "    [1, 2],  # edge 8\n",
    "    [1, 3],  # edge 9\n",
    "    [3, 4],  # edge 10\n",
    "    [4, 5]   # edge 11\n",
    "]).astype(np.int32)\n",
    "\n",
    "# We have a triangular grid, this means a cell is bounded by three edges.\n",
    "#  In unstructured it could be, we have many geometrical forms, in this case\n",
    "#  we would allocate the matrix such that it fits the largest one and fill up with `-1` if we do not need them.\n",
    "cell_to_edge_table = np.array([\n",
    "    [0, 6, 7],   # cell 0 (neighbors: edge 0, edge 6, edge 7)\n",
    "    [7, 8, 9],   # cell 1\n",
    "    [1, 2, 8],   # cell 2\n",
    "    [3, 9, 10],  # cell 3\n",
    "    [4, 10, 11], # cell 4\n",
    "    [5, 6, 11],  # cell 5\n",
    "]).astype(np.int32)\n",
    "\n",
    "\n",
    "assert edge_to_cell_table.shape[0] == EdgeDimN\n",
    "assert cell_to_edge_table.shape[0] == CellDimN\n"
   ]
  },
  {
   "cell_type": "code",
   "execution_count": null,
   "id": "cd1b7b33-9200-47ea-9cb5-29a532e8014e",
   "metadata": {},
   "outputs": [],
   "source": []
  },
  {
   "cell_type": "code",
   "execution_count": null,
   "id": "41d787f3-9499-4964-a97d-76e7e3667496",
   "metadata": {},
   "outputs": [],
   "source": []
  },
  {
   "cell_type": "code",
   "execution_count": 7,
   "id": "75b7ccba-478c-4aeb-a09e-fdf763e1f8fd",
   "metadata": {},
   "outputs": [],
   "source": [
    "# Note that this is only the first part of the stencil.\n",
    "def TestStencil(c_lin_e, w_con_e, z_w_con_c_full, levelmask, edge_to_cell_table):\n",
    "    c_lin_e = jnp.expand_dims(c_lin_e, axis=-1)   # Adding a new dimensions of shape 1 at the end for propper broadcasting (taken from the test).\n",
    "    \n",
    "    levelmask_offset_0 = levelmask[:-1]   # This is `levelmask[Koff[0]]`, i.e. the normal field\n",
    "    levelmask_offset_1 = levelmask[1:]    # This is `levelmask[Koff[1]]`, i.e. the field at the top.\n",
    "\n",
    "    (EdgeDimN, E2CDimN, _) = c_lin_e.shape\n",
    "    (CellDimN, KDimN)      = z_w_con_c_full.shape\n",
    "\n",
    "    if(False):\n",
    "        # This is more general but it requieres that a `scatter` operation is present.\n",
    "        z_w_con_c_full_b = jnp.zeros((EdgeDimN, E2CDimN, KDimN))\n",
    "        z_w_con_c_full_b = z_w_con_c_full_b.at[:, 0, :].set(z_w_con_c_full[edge_to_cell_table[:, 0], :]) \n",
    "        z_w_con_c_full_b = z_w_con_c_full_b.at[:, 1, :].set(z_w_con_c_full[edge_to_cell_table[:, 1], :])  # The `-1` in the `edge_to_cell_table` will be resolved as some bullshit values, that will be removed further down in the where.\n",
    "    else:\n",
    "        z_w_0_ = z_w_con_c_full[edge_to_cell_table[:, 0], :]\n",
    "        z_w_1_ = z_w_con_c_full[edge_to_cell_table[:, 1], :]\n",
    "        z_w_con_c_full_0 = jnp.expand_dims(z_w_0_, axis=1)\n",
    "        z_w_con_c_full_1 = jnp.expand_dims(z_w_1_, axis=1)\n",
    "        z_w_con_c_full_b = jnp.concatenate((z_w_con_c_full_0, z_w_con_c_full_1), axis=1)\n",
    "    #\n",
    "    MaskZ = jnp.expand_dims(edge_to_cell_table != -1, axis=-1)\n",
    "    Z = jnp.where(\n",
    "                MaskZ, #(grid.connectivities[E2CDim] != -1)[:, :, np.newaxis],\n",
    "                c_lin_e * z_w_con_c_full_b,    #z_w_con_c_full[grid.connectivities[E2CDim]],\n",
    "                0,\n",
    "    )\n",
    "    Y = jnp.sum(Z, axis=1)\n",
    "    Mask = (levelmask_offset_0) | (levelmask_offset_1)\n",
    "    w_con_e = jnp.where(Mask, Y, w_con_e)\n",
    "    return w_con_e\n",
    "#"
   ]
  },
  {
   "cell_type": "code",
   "execution_count": 8,
   "id": "b484696a-2380-4cd2-b997-38971c6ebcca",
   "metadata": {},
   "outputs": [
    {
     "name": "stdout",
     "output_type": "stream",
     "text": [
      "{ lambda ; a:f64[12,2] b:f64[12,5] c:f64[6,5] d:bool[6] e:i32[12,2]. let\n",
      "    f:f64[12,2,1] = broadcast_in_dim[\n",
      "      broadcast_dimensions=(0, 1)\n",
      "      shape=(12, 2, 1)\n",
      "    ] a\n",
      "    g:bool[5] = slice[limit_indices=(5,) start_indices=(0,) strides=None] d\n",
      "    h:bool[5] = slice[limit_indices=(6,) start_indices=(1,) strides=None] d\n",
      "    i:i32[12,1] = slice[limit_indices=(12, 1) start_indices=(0, 0) strides=None] e\n",
      "    j:i32[12] = squeeze[dimensions=(1,)] i\n",
      "    k:bool[12] = lt j 0\n",
      "    l:i32[12] = add j 6\n",
      "    m:i32[12] = select_n k j l\n",
      "    n:i32[12,1] = broadcast_in_dim[broadcast_dimensions=(0,) shape=(12, 1)] m\n",
      "    o:f64[12,5] = gather[\n",
      "      dimension_numbers=GatherDimensionNumbers(offset_dims=(1,), collapsed_slice_dims=(0,), start_index_map=(0,))\n",
      "      fill_value=None\n",
      "      indices_are_sorted=False\n",
      "      mode=GatherScatterMode.PROMISE_IN_BOUNDS\n",
      "      slice_sizes=(1, 5)\n",
      "      unique_indices=False\n",
      "    ] c n\n",
      "    p:i32[12,1] = slice[limit_indices=(12, 2) start_indices=(0, 1) strides=None] e\n",
      "    q:i32[12] = squeeze[dimensions=(1,)] p\n",
      "    r:bool[12] = lt q 0\n",
      "    s:i32[12] = add q 6\n",
      "    t:i32[12] = select_n r q s\n",
      "    u:i32[12,1] = broadcast_in_dim[broadcast_dimensions=(0,) shape=(12, 1)] t\n",
      "    v:f64[12,5] = gather[\n",
      "      dimension_numbers=GatherDimensionNumbers(offset_dims=(1,), collapsed_slice_dims=(0,), start_index_map=(0,))\n",
      "      fill_value=None\n",
      "      indices_are_sorted=False\n",
      "      mode=GatherScatterMode.PROMISE_IN_BOUNDS\n",
      "      slice_sizes=(1, 5)\n",
      "      unique_indices=False\n",
      "    ] c u\n",
      "    w:f64[12,1,5] = broadcast_in_dim[\n",
      "      broadcast_dimensions=(0, 2)\n",
      "      shape=(12, 1, 5)\n",
      "    ] o\n",
      "    x:f64[12,1,5] = broadcast_in_dim[\n",
      "      broadcast_dimensions=(0, 2)\n",
      "      shape=(12, 1, 5)\n",
      "    ] v\n",
      "    y:f64[12,2,5] = concatenate[dimension=1] w x\n",
      "    z:bool[12,2] = ne e -1\n",
      "    ba:bool[12,2,1] = broadcast_in_dim[\n",
      "      broadcast_dimensions=(0, 1)\n",
      "      shape=(12, 2, 1)\n",
      "    ] z\n",
      "    bb:f64[12,2,5] = mul f y\n",
      "    bc:bool[12,2] = squeeze[dimensions=(2,)] ba\n",
      "    bd:bool[12,2,5] = broadcast_in_dim[\n",
      "      broadcast_dimensions=(0, 1)\n",
      "      shape=(12, 2, 5)\n",
      "    ] bc\n",
      "    be:f64[12,2,5] = broadcast_in_dim[broadcast_dimensions=() shape=(12, 2, 5)] 0.0\n",
      "    bf:f64[12,2,5] = select_n bd be bb\n",
      "    bg:f64[12,5] = reduce_sum[axes=(1,)] bf\n",
      "    bh:bool[5] = or g h\n",
      "    bi:bool[12,5] = broadcast_in_dim[broadcast_dimensions=(1,) shape=(12, 5)] bh\n",
      "    bj:f64[12,5] = select_n bi b bg\n",
      "  in (bj,) }\n"
     ]
    }
   ],
   "source": [
    "with jax.disable_jit(disable=True):\n",
    "    TestStencil_jaxpr = jax.make_jaxpr(TestStencil)(c_lin_e, w_con_e, z_w_con_c_full, levelmask, edge_to_cell_table)\n",
    "print(TestStencil_jaxpr)"
   ]
  },
  {
   "cell_type": "code",
   "execution_count": 12,
   "id": "9ad4adee-ccc0-4e9f-9aca-c39388fa34e4",
   "metadata": {},
   "outputs": [
    {
     "name": "stderr",
     "output_type": "stream",
     "text": [
      "/home/quint_essent/git/1_CSCS/jax_demo/dace/sdfg/validation.py:438: UserWarning: WARNING: Use of uninitialized transient \"o\" in state broadcast_in_dim_w__140293844335584\n",
      "  warnings.warn('WARNING: Use of uninitialized transient \"%s\" in state %s' %\n",
      "/home/quint_essent/git/1_CSCS/jax_demo/dace/sdfg/validation.py:438: UserWarning: WARNING: Use of uninitialized transient \"v\" in state broadcast_in_dim_w__140293844335584\n",
      "  warnings.warn('WARNING: Use of uninitialized transient \"%s\" in state %s' %\n"
     ]
    }
   ],
   "source": [
    "TestStencil_sdfg = t(TestStencil_jaxpr, simplify=True, auto_opt=3)"
   ]
  },
  {
   "cell_type": "code",
   "execution_count": 13,
   "id": "31b043d8-92c3-4d33-98f9-f5332b19dcf3",
   "metadata": {},
   "outputs": [],
   "source": [
    "resExp = TestStencil(c_lin_e, w_con_e, z_w_con_c_full, levelmask, edge_to_cell_table)\n",
    "resDC  = TestStencil_sdfg(c_lin_e, w_con_e, z_w_con_c_full, levelmask, edge_to_cell_table)\n",
    "\n",
    "assert np.allclose(resExp, resDC)\n"
   ]
  },
  {
   "cell_type": "code",
   "execution_count": 14,
   "id": "bfcc8f34-385f-4099-8165-040354b45e4d",
   "metadata": {},
   "outputs": [
    {
     "name": "stdout",
     "output_type": "stream",
     "text": [
      "File saved at /tmp/tmpn1oh0q_i.sdfg.html\n"
     ]
    }
   ],
   "source": [
    "TestStencil_sdfg.view()"
   ]
  },
  {
   "cell_type": "code",
   "execution_count": null,
   "id": "4e5c903f-50cf-4658-8f78-429b43266bb4",
   "metadata": {},
   "outputs": [],
   "source": []
  }
 ],
 "metadata": {
  "kernelspec": {
   "display_name": "dace",
   "language": "python",
   "name": "dace"
  },
  "language_info": {
   "codemirror_mode": {
    "name": "ipython",
    "version": 3
   },
   "file_extension": ".py",
   "mimetype": "text/x-python",
   "name": "python",
   "nbconvert_exporter": "python",
   "pygments_lexer": "ipython3",
   "version": "3.11.4"
  }
 },
 "nbformat": 4,
 "nbformat_minor": 5
}
