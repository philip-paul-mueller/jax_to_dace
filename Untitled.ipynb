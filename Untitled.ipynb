{
 "cells": [
  {
   "cell_type": "code",
   "execution_count": 1,
   "id": "affc8c51-42e7-42c8-accc-92918d9ecee8",
   "metadata": {},
   "outputs": [],
   "source": [
    "import numpy as np\n",
    "import jax\n",
    "import jax.numpy as jnp\n",
    "from jax import jit, grad, vmap\n",
    "from jax import random"
   ]
  },
  {
   "cell_type": "code",
   "execution_count": 2,
   "id": "30b9172c-4e5f-4f62-a896-cf609530b4bb",
   "metadata": {},
   "outputs": [
    {
     "name": "stdout",
     "output_type": "stream",
     "text": [
      "45\n"
     ]
    }
   ],
   "source": [
    "def permissive_sum(x):\n",
    "  return jnp.sum(jnp.array(x))\n",
    "\n",
    "x = list(range(10))\n",
    "z = permissive_sum(x)\n",
    "print(z)"
   ]
  },
  {
   "cell_type": "code",
   "execution_count": 4,
   "id": "3c42264a-8497-4437-b55c-4a0c7e45fe68",
   "metadata": {},
   "outputs": [
    {
     "data": {
      "text/plain": [
       "{ \u001b[34m\u001b[22m\u001b[1mlambda \u001b[39m\u001b[22m\u001b[22m; a\u001b[35m:i32[]\u001b[39m b\u001b[35m:i32[]\u001b[39m c\u001b[35m:i32[]\u001b[39m d\u001b[35m:i32[]\u001b[39m e\u001b[35m:i32[]\u001b[39m f\u001b[35m:i32[]\u001b[39m g\u001b[35m:i32[]\u001b[39m h\u001b[35m:i32[]\u001b[39m i\u001b[35m:i32[]\u001b[39m\n",
       "    j\u001b[35m:i32[]\u001b[39m. \u001b[34m\u001b[22m\u001b[1mlet\n",
       "    \u001b[39m\u001b[22m\u001b[22mk\u001b[35m:i32[]\u001b[39m = convert_element_type[new_dtype=int32 weak_type=False] a\n",
       "    l\u001b[35m:i32[]\u001b[39m = convert_element_type[new_dtype=int32 weak_type=False] b\n",
       "    m\u001b[35m:i32[]\u001b[39m = convert_element_type[new_dtype=int32 weak_type=False] c\n",
       "    n\u001b[35m:i32[]\u001b[39m = convert_element_type[new_dtype=int32 weak_type=False] d\n",
       "    o\u001b[35m:i32[]\u001b[39m = convert_element_type[new_dtype=int32 weak_type=False] e\n",
       "    p\u001b[35m:i32[]\u001b[39m = convert_element_type[new_dtype=int32 weak_type=False] f\n",
       "    q\u001b[35m:i32[]\u001b[39m = convert_element_type[new_dtype=int32 weak_type=False] g\n",
       "    r\u001b[35m:i32[]\u001b[39m = convert_element_type[new_dtype=int32 weak_type=False] h\n",
       "    s\u001b[35m:i32[]\u001b[39m = convert_element_type[new_dtype=int32 weak_type=False] i\n",
       "    t\u001b[35m:i32[]\u001b[39m = convert_element_type[new_dtype=int32 weak_type=False] j\n",
       "    u\u001b[35m:i32[1]\u001b[39m = broadcast_in_dim[broadcast_dimensions=() shape=(1,)] k\n",
       "    v\u001b[35m:i32[1]\u001b[39m = broadcast_in_dim[broadcast_dimensions=() shape=(1,)] l\n",
       "    w\u001b[35m:i32[1]\u001b[39m = broadcast_in_dim[broadcast_dimensions=() shape=(1,)] m\n",
       "    x\u001b[35m:i32[1]\u001b[39m = broadcast_in_dim[broadcast_dimensions=() shape=(1,)] n\n",
       "    y\u001b[35m:i32[1]\u001b[39m = broadcast_in_dim[broadcast_dimensions=() shape=(1,)] o\n",
       "    z\u001b[35m:i32[1]\u001b[39m = broadcast_in_dim[broadcast_dimensions=() shape=(1,)] p\n",
       "    ba\u001b[35m:i32[1]\u001b[39m = broadcast_in_dim[broadcast_dimensions=() shape=(1,)] q\n",
       "    bb\u001b[35m:i32[1]\u001b[39m = broadcast_in_dim[broadcast_dimensions=() shape=(1,)] r\n",
       "    bc\u001b[35m:i32[1]\u001b[39m = broadcast_in_dim[broadcast_dimensions=() shape=(1,)] s\n",
       "    bd\u001b[35m:i32[1]\u001b[39m = broadcast_in_dim[broadcast_dimensions=() shape=(1,)] t\n",
       "    be\u001b[35m:i32[10]\u001b[39m = concatenate[dimension=0] u v w x y z ba bb bc bd\n",
       "    bf\u001b[35m:i32[]\u001b[39m = reduce_sum[axes=(0,)] be\n",
       "  \u001b[34m\u001b[22m\u001b[1min \u001b[39m\u001b[22m\u001b[22m(bf,) }"
      ]
     },
     "execution_count": 4,
     "metadata": {},
     "output_type": "execute_result"
    }
   ],
   "source": [
    "jax.make_jaxpr(permissive_sum)(x)"
   ]
  },
  {
   "cell_type": "code",
   "execution_count": null,
   "id": "c3ddfd7a-fb69-4cfe-ae26-bf686376219f",
   "metadata": {},
   "outputs": [],
   "source": []
  },
  {
   "cell_type": "code",
   "execution_count": 5,
   "id": "5c3ff0f7-d5aa-4e4c-9293-c5a26e668268",
   "metadata": {},
   "outputs": [
    {
     "name": "stdout",
     "output_type": "stream",
     "text": [
      "square_add_lax =  14.0\n",
      "grad(square_add_lax) =  4.0\n"
     ]
    }
   ],
   "source": [
    "from jax import lax\n",
    "from jax._src import api\n",
    "\n",
    "def multiply_add_lax(x, y, z):\n",
    "  \"\"\"Implementation of multiply-add using the jax.lax primitives.\"\"\"\n",
    "  return lax.add(lax.mul(x, y), z)\n",
    "\n",
    "\n",
    "def square_add_lax(a, b):\n",
    "  \"\"\"A square-add function using the newly defined multiply-add.\"\"\"\n",
    "  return multiply_add_lax(a, a, b)\n",
    "\n",
    "print(\"square_add_lax = \", square_add_lax(2., 10.))\n",
    "# Differentiate w.r.t. the first argument\n",
    "print(\"grad(square_add_lax) = \", api.grad(square_add_lax, argnums=0)(2.0, 10.))"
   ]
  },
  {
   "cell_type": "code",
   "execution_count": 6,
   "id": "cd273d66-f9e3-428d-8620-3938da4364ac",
   "metadata": {},
   "outputs": [],
   "source": [
    "#@title Helper functions (execute this cell)\n",
    "import functools\n",
    "import traceback\n",
    "\n",
    "_indentation = 0\n",
    "def _trace(msg=None):\n",
    "    \"\"\"Print a message at current indentation.\"\"\"\n",
    "    if msg is not None:\n",
    "        print(\"  \" * _indentation + msg)\n",
    "\n",
    "def _trace_indent(msg=None):\n",
    "    \"\"\"Print a message and then indent the rest.\"\"\"\n",
    "    global _indentation\n",
    "    _trace(msg)\n",
    "    _indentation = 1 + _indentation\n",
    "\n",
    "def _trace_unindent(msg=None):\n",
    "    \"\"\"Unindent then print a message.\"\"\"\n",
    "    global _indentation\n",
    "    _indentation = _indentation - 1\n",
    "    _trace(msg)\n",
    "\n",
    "def trace(name):\n",
    "  \"\"\"A decorator for functions to trace arguments and results.\"\"\"\n",
    "\n",
    "  def trace_func(func):  # pylint: disable=missing-docstring\n",
    "    def pp(v):\n",
    "        \"\"\"Print certain values more succinctly\"\"\"\n",
    "        vtype = str(type(v))\n",
    "        if \"jax._src.xla_bridge._JaxComputationBuilder\" in vtype:\n",
    "            return \"<JaxComputationBuilder>\"\n",
    "        elif \"jaxlib.xla_extension.XlaOp\" in vtype:\n",
    "            return \"<XlaOp at 0x{:x}>\".format(id(v))\n",
    "        elif (\"partial_eval.JaxprTracer\" in vtype or\n",
    "              \"batching.BatchTracer\" in vtype or\n",
    "              \"ad.JVPTracer\" in vtype):\n",
    "            return \"Traced<{}>\".format(v.aval)\n",
    "        elif isinstance(v, tuple):\n",
    "            return \"({})\".format(pp_values(v))\n",
    "        else:\n",
    "            return str(v)\n",
    "    def pp_values(args):\n",
    "        return \", \".join([pp(arg) for arg in args])\n",
    "    \n",
    "    @functools.wraps(func)\n",
    "    def func_wrapper(*args):\n",
    "      _trace_indent(\"call {}({})\".format(name, pp_values(args)))\n",
    "      res = func(*args)\n",
    "      _trace_unindent(\"|<- {} = {}\".format(name, pp(res)))\n",
    "      return res\n",
    "\n",
    "    return func_wrapper\n",
    "\n",
    "  return trace_func\n",
    "\n",
    "class expectNotImplementedError(object):\n",
    "  \"\"\"Context manager to check for NotImplementedError.\"\"\"\n",
    "  def __enter__(self): pass\n",
    "  def __exit__(self, type, value, tb):\n",
    "    global _indentation\n",
    "    _indentation = 0\n",
    "    if type is NotImplementedError:\n",
    "      print(\"\\nFound expected exception:\")\n",
    "      traceback.print_exc(limit=3)\n",
    "      return True\n",
    "    elif type is None:  # No exception\n",
    "      assert False, \"Expected NotImplementedError\"\n",
    "    else:\n",
    "      return False"
   ]
  },
  {
   "cell_type": "code",
   "execution_count": 7,
   "id": "7f027110-003c-4b96-a72d-3d40581d5ecb",
   "metadata": {},
   "outputs": [
    {
     "name": "stdout",
     "output_type": "stream",
     "text": [
      "\n",
      "Normal evaluation:\n",
      "call square_add_numpy(2.0, 10.0)\n",
      "  call multiply_add_numpy(2.0, 2.0, 10.0)\n",
      "  |<- multiply_add_numpy = 14.0\n",
      "|<- square_add_numpy = 14.0\n",
      "square_add_numpy =  14.0\n",
      "\n",
      "Gradient evaluation:\n",
      "call square_add_numpy(Traced<ConcreteArray(2.0, dtype=float32, weak_type=True)>, 10.0)\n",
      "  call multiply_add_numpy(Traced<ConcreteArray(2.0, dtype=float32, weak_type=True)>, Traced<ConcreteArray(2.0, dtype=float32, weak_type=True)>, 10.0)\n",
      "  |<- multiply_add_numpy = Traced<ConcreteArray(14.0, dtype=float32, weak_type=True)>\n",
      "|<- square_add_numpy = Traced<ConcreteArray(14.0, dtype=float32, weak_type=True)>\n",
      "grad(square_add_numpy) =  4.0\n"
     ]
    }
   ],
   "source": [
    "import jax.numpy as jnp\n",
    "import numpy as np\n",
    "\n",
    "@trace(\"multiply_add_numpy\")\n",
    "def multiply_add_numpy(x, y, z):\n",
    "    return jnp.add(jnp.multiply(x, y), z)\n",
    "\n",
    "@trace(\"square_add_numpy\")\n",
    "def square_add_numpy(a, b):\n",
    "    return multiply_add_numpy(a, a, b)\n",
    "\n",
    "print(\"\\nNormal evaluation:\")  \n",
    "print(\"square_add_numpy = \", square_add_numpy(2., 10.))\n",
    "print(\"\\nGradient evaluation:\")\n",
    "print(\"grad(square_add_numpy) = \", api.grad(square_add_numpy)(2.0, 10.))"
   ]
  },
  {
   "cell_type": "code",
   "execution_count": 8,
   "id": "4e2d701f-7da4-4fb7-9f8a-385070525ec8",
   "metadata": {},
   "outputs": [],
   "source": [
    "from jax import core\n",
    "multiply_add_p = core.Primitive(\"multiply_add\")  # Create the primitive\n",
    "\n",
    "@trace(\"multiply_add_prim\")\n",
    "def multiply_add_prim(x, y, z):\n",
    "  \"\"\"The JAX-traceable way to use the JAX primitive.\n",
    "  \n",
    "  Note that the traced arguments must be passed as positional arguments\n",
    "  to `bind`. \n",
    "  \"\"\"\n",
    "  return multiply_add_p.bind(x, y, z)\n",
    "\n",
    "@trace(\"square_add_prim\")\n",
    "def square_add_prim(a, b):\n",
    "  \"\"\"A square-add function implemented using the new JAX-primitive.\"\"\"\n",
    "  return multiply_add_prim(a, a, b)"
   ]
  },
  {
   "cell_type": "code",
   "execution_count": 9,
   "id": "aa38bc64-7c26-4f80-8a03-03173cc5f288",
   "metadata": {},
   "outputs": [
    {
     "name": "stdout",
     "output_type": "stream",
     "text": [
      "call square_add_prim(2.0, 10.0)\n",
      "  call multiply_add_prim(2.0, 2.0, 10.0)\n",
      "\n",
      "Found expected exception:\n"
     ]
    },
    {
     "name": "stderr",
     "output_type": "stream",
     "text": [
      "Traceback (most recent call last):\n",
      "  File \"/tmp/ipykernel_10867/2844449444.py\", line 2, in <module>\n",
      "    square_add_prim(2., 10.)\n",
      "  File \"/tmp/ipykernel_10867/1393342955.py\", line 48, in func_wrapper\n",
      "    res = func(*args)\n",
      "          ^^^^^^^^^^^\n",
      "  File \"/tmp/ipykernel_10867/1308506715.py\", line 16, in square_add_prim\n",
      "    return multiply_add_prim(a, a, b)\n",
      "           ^^^^^^^^^^^^^^^^^^^^^^^^^^\n",
      "NotImplementedError: Evaluation rule for 'multiply_add' not implemented\n"
     ]
    }
   ],
   "source": [
    "with expectNotImplementedError():\n",
    "  square_add_prim(2., 10.)"
   ]
  },
  {
   "cell_type": "code",
   "execution_count": 10,
   "id": "b91b123b-2994-4410-b55b-1908c8944092",
   "metadata": {},
   "outputs": [
    {
     "data": {
      "text/plain": [
       "<function __main__.multiply_add_impl(x, y, z)>"
      ]
     },
     "execution_count": 10,
     "metadata": {},
     "output_type": "execute_result"
    }
   ],
   "source": [
    "@trace(\"multiply_add_impl\")\n",
    "def multiply_add_impl(x, y, z):\n",
    "  \"\"\"Concrete implementation of the primitive.\n",
    "\n",
    "  This function does not need to be JAX traceable.\n",
    "  Args:\n",
    "    x, y, z: the concrete arguments of the primitive. Will only be called with \n",
    "      concrete values.\n",
    "  Returns:\n",
    "    the concrete result of the primitive.\n",
    "  \"\"\"\n",
    "  # Note that we can use the original numpy, which is not JAX traceable\n",
    "  return np.add(np.multiply(x, y), z)\n",
    "\n",
    "# Now we register the primal implementation with JAX\n",
    "multiply_add_p.def_impl(multiply_add_impl)"
   ]
  },
  {
   "cell_type": "code",
   "execution_count": 11,
   "id": "581ab5f2-715d-4382-bfac-8775db3761bf",
   "metadata": {},
   "outputs": [
    {
     "name": "stdout",
     "output_type": "stream",
     "text": [
      "call square_add_prim(2.0, 10.0)\n",
      "  call multiply_add_prim(2.0, 2.0, 10.0)\n",
      "    call multiply_add_impl(2.0, 2.0, 10.0)\n",
      "    |<- multiply_add_impl = 14.0\n",
      "  |<- multiply_add_prim = 14.0\n",
      "|<- square_add_prim = 14.0\n"
     ]
    }
   ],
   "source": [
    "assert square_add_prim(2., 10.) == 14."
   ]
  },
  {
   "cell_type": "code",
   "execution_count": 12,
   "id": "d9bdc34d-0bd9-4ad6-84b7-aa40e89b546d",
   "metadata": {},
   "outputs": [
    {
     "name": "stdout",
     "output_type": "stream",
     "text": [
      "call square_add_prim(Traced<ShapedArray(float32[], weak_type=True)>with<DynamicJaxprTrace(level=1/0)>, Traced<ShapedArray(float32[], weak_type=True)>with<DynamicJaxprTrace(level=1/0)>)\n",
      "  call multiply_add_prim(Traced<ShapedArray(float32[], weak_type=True)>with<DynamicJaxprTrace(level=1/0)>, Traced<ShapedArray(float32[], weak_type=True)>with<DynamicJaxprTrace(level=1/0)>, Traced<ShapedArray(float32[], weak_type=True)>with<DynamicJaxprTrace(level=1/0)>)\n",
      "\n",
      "Found expected exception:\n"
     ]
    },
    {
     "name": "stderr",
     "output_type": "stream",
     "text": [
      "Traceback (most recent call last):\n",
      "  File \"/tmp/ipykernel_10867/1813425700.py\", line 2, in <module>\n",
      "    api.jit(square_add_prim)(2., 10.)\n",
      "  File \"/usr/lib/python3.11/site-packages/jax/_src/traceback_util.py\", line 177, in reraise_with_filtered_traceback\n",
      "    return fun(*args, **kwargs)\n",
      "           ^^^^^^^^^^^^^^^^^^^^\n",
      "  File \"/usr/lib/python3.11/site-packages/jax/_src/pjit.py\", line 256, in cache_miss\n",
      "    outs, out_flat, out_tree, args_flat, jaxpr = _python_pjit_helper(\n",
      "                                                 ^^^^^^^^^^^^^^^^^^^^\n",
      "NotImplementedError: Abstract evaluation for 'multiply_add' not implemented\n"
     ]
    }
   ],
   "source": [
    "with expectNotImplementedError():\n",
    "  api.jit(square_add_prim)(2., 10.)"
   ]
  },
  {
   "cell_type": "code",
   "execution_count": 13,
   "id": "26c06a9a-36da-4412-9b0e-3df60bfe3824",
   "metadata": {},
   "outputs": [
    {
     "data": {
      "text/plain": [
       "<function __main__.multiply_add_abstract_eval(xs, ys, zs)>"
      ]
     },
     "execution_count": 13,
     "metadata": {},
     "output_type": "execute_result"
    }
   ],
   "source": [
    "from jax import core\n",
    "@trace(\"multiply_add_abstract_eval\")\n",
    "def multiply_add_abstract_eval(xs, ys, zs):\n",
    "  \"\"\"Abstract evaluation of the primitive.\n",
    "\n",
    "  This function does not need to be JAX traceable. It will be invoked with\n",
    "  abstractions of the actual arguments. \n",
    "  Args:\n",
    "    xs, ys, zs: abstractions of the arguments.\n",
    "  Result:\n",
    "    a ShapedArray for the result of the primitive.\n",
    "  \"\"\"\n",
    "  assert xs.shape == ys.shape\n",
    "  assert xs.shape == zs.shape\n",
    "  return core.ShapedArray(xs.shape, xs.dtype)\n",
    "\n",
    "# Now we register the abstract evaluation with JAX\n",
    "multiply_add_p.def_abstract_eval(multiply_add_abstract_eval)"
   ]
  },
  {
   "cell_type": "code",
   "execution_count": 14,
   "id": "0e66ccc8-6a4f-4674-a2b9-82c6d0525fbb",
   "metadata": {},
   "outputs": [
    {
     "name": "stdout",
     "output_type": "stream",
     "text": [
      "call square_add_prim(Traced<ShapedArray(float32[], weak_type=True)>with<DynamicJaxprTrace(level=1/0)>, Traced<ShapedArray(float32[], weak_type=True)>with<DynamicJaxprTrace(level=1/0)>)\n",
      "  call multiply_add_prim(Traced<ShapedArray(float32[], weak_type=True)>with<DynamicJaxprTrace(level=1/0)>, Traced<ShapedArray(float32[], weak_type=True)>with<DynamicJaxprTrace(level=1/0)>, Traced<ShapedArray(float32[], weak_type=True)>with<DynamicJaxprTrace(level=1/0)>)\n",
      "    call multiply_add_abstract_eval(ShapedArray(float32[], weak_type=True), ShapedArray(float32[], weak_type=True), ShapedArray(float32[], weak_type=True))\n",
      "    |<- multiply_add_abstract_eval = ShapedArray(float32[])\n",
      "  |<- multiply_add_prim = Traced<ShapedArray(float32[])>with<DynamicJaxprTrace(level=1/0)>\n",
      "|<- square_add_prim = Traced<ShapedArray(float32[])>with<DynamicJaxprTrace(level=1/0)>\n",
      "\n",
      "Found expected exception:\n"
     ]
    },
    {
     "name": "stderr",
     "output_type": "stream",
     "text": [
      "Traceback (most recent call last):\n",
      "  File \"<frozen runpy>\", line 198, in _run_module_as_main\n",
      "  File \"<frozen runpy>\", line 88, in _run_code\n",
      "  File \"/usr/lib/python3.11/site-packages/ipykernel_launcher.py\", line 17, in <module>\n",
      "    app.launch_new_instance()\n",
      "jax._src.source_info_util.JaxStackTraceBeforeTransformation: NotImplementedError: MLIR translation rule for primitive 'multiply_add' not found for platform cpu\n",
      "\n",
      "The preceding stack trace is the source of the JAX operation that, once transformed by JAX, triggered the following exception.\n",
      "\n",
      "--------------------\n",
      "\n",
      "The above exception was the direct cause of the following exception:\n",
      "\n",
      "Traceback (most recent call last):\n",
      "  File \"/tmp/ipykernel_10867/1813425700.py\", line 2, in <module>\n",
      "    api.jit(square_add_prim)(2., 10.)\n",
      "  File \"/usr/lib/python3.11/site-packages/jax/_src/traceback_util.py\", line 177, in reraise_with_filtered_traceback\n",
      "    return fun(*args, **kwargs)\n",
      "           ^^^^^^^^^^^^^^^^^^^^\n",
      "  File \"/usr/lib/python3.11/site-packages/jax/_src/pjit.py\", line 256, in cache_miss\n",
      "    outs, out_flat, out_tree, args_flat, jaxpr = _python_pjit_helper(\n",
      "                                                 ^^^^^^^^^^^^^^^^^^^^\n",
      "NotImplementedError: MLIR translation rule for primitive 'multiply_add' not found for platform cpu\n"
     ]
    }
   ],
   "source": [
    "with expectNotImplementedError():\n",
    "  api.jit(square_add_prim)(2., 10.)"
   ]
  },
  {
   "cell_type": "code",
   "execution_count": 15,
   "id": "9a6dba9f-4fb6-4e67-9785-dde367f063b0",
   "metadata": {},
   "outputs": [
    {
     "data": {
      "text/plain": [
       "<function __main__.multiply_add_lowering(ctx, xc, yc, zc)>"
      ]
     },
     "execution_count": 15,
     "metadata": {},
     "output_type": "execute_result"
    }
   ],
   "source": [
    "from jax._src.lib.mlir.dialects import hlo\n",
    "@trace(\"multiply_add_lowering\")\n",
    "def multiply_add_lowering(ctx, xc, yc, zc):\n",
    "  \"\"\"The compilation to XLA of the primitive.\n",
    "\n",
    "  Given an mlir.ir.Value for each argument, return the mlir.ir.Values for\n",
    "  the results of the function.\n",
    "\n",
    "  Does not need to be a JAX-traceable function.\n",
    "  \"\"\"\n",
    "  return [hlo.AddOp(hlo.MulOp(xc, yc), zc).result]\n",
    "\n",
    "# Now we register the lowering rule with JAX\n",
    "# For GPU see the [Custom operations for GPUs](https://jax.readthedocs.io/en/latest/Custom_Operation_for_GPUs.html)\n",
    "# TODO: TPU?\n",
    "from jax.interpreters import mlir\n",
    "mlir.register_lowering(multiply_add_p, multiply_add_lowering, platform='cpu')"
   ]
  },
  {
   "cell_type": "code",
   "execution_count": 16,
   "id": "dcba9a42-d5ff-4f45-aec1-0f390dcd5a66",
   "metadata": {},
   "outputs": [
    {
     "name": "stdout",
     "output_type": "stream",
     "text": [
      "call square_add_prim(Traced<ShapedArray(float32[], weak_type=True)>with<DynamicJaxprTrace(level=1/0)>, Traced<ShapedArray(float32[], weak_type=True)>with<DynamicJaxprTrace(level=1/0)>)\n",
      "  call multiply_add_prim(Traced<ShapedArray(float32[], weak_type=True)>with<DynamicJaxprTrace(level=1/0)>, Traced<ShapedArray(float32[], weak_type=True)>with<DynamicJaxprTrace(level=1/0)>, Traced<ShapedArray(float32[], weak_type=True)>with<DynamicJaxprTrace(level=1/0)>)\n",
      "    call multiply_add_abstract_eval(ShapedArray(float32[], weak_type=True), ShapedArray(float32[], weak_type=True), ShapedArray(float32[], weak_type=True))\n",
      "    |<- multiply_add_abstract_eval = ShapedArray(float32[])\n",
      "  |<- multiply_add_prim = Traced<ShapedArray(float32[])>with<DynamicJaxprTrace(level=1/0)>\n",
      "|<- square_add_prim = Traced<ShapedArray(float32[])>with<DynamicJaxprTrace(level=1/0)>\n",
      "call multiply_add_lowering(LoweringRuleContext(module_context=ModuleContext(context=<jaxlib.mlir._mlir_libs._site_initialize.<locals>.Context object at 0x7f30b43745f0>, module=<jaxlib.mlir._mlir_libs._mlir.ir.Module object at 0x7f30bc1f8af0>, ip=<jaxlib.mlir._mlir_libs._mlir.ir.InsertionPoint object at 0x7f30bc1f9970>, symbol_table=<jaxlib.mlir._mlir_libs._mlir.ir.SymbolTable object at 0x7f30bc1f9870>, backend_or_name=<jaxlib.xla_extension.Client object at 0x7f3144d13330>, platform='cpu', axis_context=ShardingContext(device_assignment=(CpuDevice(id=0),)), name_stack=NameStack(stack=(Scope(name='jit(<lambda>)'), Scope(name='jit(main)'))), keepalives=[], channel_iterator=count(1), host_callbacks=[], shape_poly_state=<jax._src.interpreters.mlir.ShapePolyLoweringState object at 0x7f30bc1f9e90>, cached_primitive_lowerings={}, cached_call_jaxpr_lowerings={}, lowering_parameters=LoweringParameters(override_lowering_rules=None, platforms=None)), primitive=multiply_add, avals_in=[ShapedArray(float32[], weak_type=True), ShapedArray(float32[], weak_type=True), ShapedArray(float32[], weak_type=True)], avals_out=[ShapedArray(float32[])], tokens_in=<jax._src.interpreters.mlir.TokenSet object at 0x7f30bc1fbb90>, tokens_out=None, axis_size_env=None, dim_var_values=[]), Value(<block argument> of type 'tensor<f32>' at index: 0), Value(<block argument> of type 'tensor<f32>' at index: 0), Value(<block argument> of type 'tensor<f32>' at index: 1))\n",
      "|<- multiply_add_lowering = [<jaxlib.mlir._mlir_libs._mlir.ir.OpResult object at 0x7f30bc117df0>]\n"
     ]
    }
   ],
   "source": [
    "assert api.jit(lambda x, y: square_add_prim(x, y))(2., 10.) == 14."
   ]
  },
  {
   "cell_type": "code",
   "execution_count": 45,
   "id": "61386390-3ae8-478d-8fe6-259549298402",
   "metadata": {},
   "outputs": [],
   "source": [
    "assert api.jit(square_add_prim, static_argnums=())(jnp.array([2.]), jnp.array([10.])) == 14."
   ]
  },
  {
   "cell_type": "code",
   "execution_count": 49,
   "id": "5a264e16-e997-49ed-b758-453586719a10",
   "metadata": {},
   "outputs": [
    {
     "name": "stdout",
     "output_type": "stream",
     "text": [
      "call square_add_prim(Traced<ShapedArray(float32[], weak_type=True)>with<DynamicJaxprTrace(level=1/0)>, 10.0)\n",
      "  call multiply_add_prim(Traced<ShapedArray(float32[], weak_type=True)>with<DynamicJaxprTrace(level=1/0)>, Traced<ShapedArray(float32[], weak_type=True)>with<DynamicJaxprTrace(level=1/0)>, 10.0)\n",
      "    call multiply_add_abstract_eval(ShapedArray(float32[], weak_type=True), ShapedArray(float32[], weak_type=True), ShapedArray(float32[], weak_type=True))\n",
      "    |<- multiply_add_abstract_eval = ShapedArray(float32[])\n",
      "  |<- multiply_add_prim = Traced<ShapedArray(float32[])>with<DynamicJaxprTrace(level=1/0)>\n",
      "|<- square_add_prim = Traced<ShapedArray(float32[])>with<DynamicJaxprTrace(level=1/0)>\n",
      "call multiply_add_lowering(LoweringRuleContext(module_context=ModuleContext(context=<jaxlib.mlir._mlir_libs._site_initialize.<locals>.Context object at 0x7f305a080830>, module=<jaxlib.mlir._mlir_libs._mlir.ir.Module object at 0x7f305a17bf70>, ip=<jaxlib.mlir._mlir_libs._mlir.ir.InsertionPoint object at 0x7f305a1798b0>, symbol_table=<jaxlib.mlir._mlir_libs._mlir.ir.SymbolTable object at 0x7f305a17bc70>, backend_or_name=<jaxlib.xla_extension.Client object at 0x7f3144d13330>, platform='cpu', axis_context=ShardingContext(device_assignment=(CpuDevice(id=0),)), name_stack=NameStack(stack=(Scope(name='jit(square_add_prim)'), Scope(name='jit(main)'))), keepalives=[], channel_iterator=count(1), host_callbacks=[], shape_poly_state=<jax._src.interpreters.mlir.ShapePolyLoweringState object at 0x7f305a179990>, cached_primitive_lowerings={}, cached_call_jaxpr_lowerings={}, lowering_parameters=LoweringParameters(override_lowering_rules=None, platforms=None)), primitive=multiply_add, avals_in=[ShapedArray(float32[], weak_type=True), ShapedArray(float32[], weak_type=True), ShapedArray(float32[], weak_type=True)], avals_out=[ShapedArray(float32[])], tokens_in=<jax._src.interpreters.mlir.TokenSet object at 0x7f305a17a750>, tokens_out=None, axis_size_env=None, dim_var_values=[]), Value(<block argument> of type 'tensor<f32>' at index: 0), Value(<block argument> of type 'tensor<f32>' at index: 0), Value(%0 = \"stablehlo.constant\"() {value = dense<1.000000e+01> : tensor<f32>} : () -> tensor<f32>))\n",
      "|<- multiply_add_lowering = [<jaxlib.mlir._mlir_libs._mlir.ir.OpResult object at 0x7f305a1798f0>]\n"
     ]
    }
   ],
   "source": [
    "assert api.jit(square_add_prim, static_argnums=(1))(2., 10.) == 14."
   ]
  },
  {
   "cell_type": "code",
   "execution_count": 40,
   "id": "b5ff39e1-5d59-480a-a2e4-6dc7b47d95d4",
   "metadata": {},
   "outputs": [
    {
     "name": "stdout",
     "output_type": "stream",
     "text": [
      "call square_add_prim(2.0, Traced<ShapedArray(float32[], weak_type=True)>with<DynamicJaxprTrace(level=1/0)>)\n",
      "  call multiply_add_prim(2.0, 2.0, Traced<ShapedArray(float32[], weak_type=True)>with<DynamicJaxprTrace(level=1/0)>)\n",
      "    call multiply_add_abstract_eval(ShapedArray(float32[], weak_type=True), ShapedArray(float32[], weak_type=True), ShapedArray(float32[], weak_type=True))\n",
      "    |<- multiply_add_abstract_eval = ShapedArray(float32[])\n",
      "  |<- multiply_add_prim = Traced<ShapedArray(float32[])>with<DynamicJaxprTrace(level=1/0)>\n",
      "|<- square_add_prim = Traced<ShapedArray(float32[])>with<DynamicJaxprTrace(level=1/0)>\n",
      "call multiply_add_lowering(LoweringRuleContext(module_context=ModuleContext(context=<jaxlib.mlir._mlir_libs._site_initialize.<locals>.Context object at 0x7f305ae7b290>, module=<jaxlib.mlir._mlir_libs._mlir.ir.Module object at 0x7f305a00acf0>, ip=<jaxlib.mlir._mlir_libs._mlir.ir.InsertionPoint object at 0x7f305a00b770>, symbol_table=<jaxlib.mlir._mlir_libs._mlir.ir.SymbolTable object at 0x7f305a00bfb0>, backend_or_name=<jaxlib.xla_extension.Client object at 0x7f3144d13330>, platform='cpu', axis_context=ShardingContext(device_assignment=(CpuDevice(id=0),)), name_stack=NameStack(stack=(Scope(name='jit(<lambda>)'), Scope(name='jit(main)'))), keepalives=[], channel_iterator=count(1), host_callbacks=[], shape_poly_state=<jax._src.interpreters.mlir.ShapePolyLoweringState object at 0x7f305a00b0d0>, cached_primitive_lowerings={}, cached_call_jaxpr_lowerings={}, lowering_parameters=LoweringParameters(override_lowering_rules=None, platforms=None)), primitive=multiply_add, avals_in=[ShapedArray(float32[], weak_type=True), ShapedArray(float32[], weak_type=True), ShapedArray(float32[], weak_type=True)], avals_out=[ShapedArray(float32[])], tokens_in=<jax._src.interpreters.mlir.TokenSet object at 0x7f305a00a8d0>, tokens_out=None, axis_size_env=None, dim_var_values=[]), Value(%0 = \"stablehlo.constant\"() {value = dense<2.000000e+00> : tensor<f32>} : () -> tensor<f32>), Value(%1 = \"stablehlo.constant\"() {value = dense<2.000000e+00> : tensor<f32>} : () -> tensor<f32>), Value(<block argument> of type 'tensor<f32>' at index: 0))\n",
      "|<- multiply_add_lowering = [<jaxlib.mlir._mlir_libs._mlir.ir.OpResult object at 0x7f305a0094b0>]\n"
     ]
    },
    {
     "data": {
      "text/plain": [
       "Array(14., dtype=float32)"
      ]
     },
     "execution_count": 40,
     "metadata": {},
     "output_type": "execute_result"
    }
   ],
   "source": [
    "api.jit(lambda x, y: square_add_prim(x, y), static_argnums=(0,))(2., 10.)"
   ]
  },
  {
   "cell_type": "code",
   "execution_count": 51,
   "id": "65ba3a76-c7d8-49d1-b6b9-ba1539114c1d",
   "metadata": {},
   "outputs": [
    {
     "data": {
      "text/plain": [
       "['__annotations__',\n",
       " '__builtins__',\n",
       " '__call__',\n",
       " '__class__',\n",
       " '__closure__',\n",
       " '__code__',\n",
       " '__defaults__',\n",
       " '__delattr__',\n",
       " '__dict__',\n",
       " '__dir__',\n",
       " '__doc__',\n",
       " '__eq__',\n",
       " '__format__',\n",
       " '__ge__',\n",
       " '__get__',\n",
       " '__getattribute__',\n",
       " '__getstate__',\n",
       " '__globals__',\n",
       " '__gt__',\n",
       " '__hash__',\n",
       " '__init__',\n",
       " '__init_subclass__',\n",
       " '__kwdefaults__',\n",
       " '__le__',\n",
       " '__lt__',\n",
       " '__module__',\n",
       " '__name__',\n",
       " '__ne__',\n",
       " '__new__',\n",
       " '__qualname__',\n",
       " '__reduce__',\n",
       " '__reduce_ex__',\n",
       " '__repr__',\n",
       " '__setattr__',\n",
       " '__sizeof__',\n",
       " '__str__',\n",
       " '__subclasshook__',\n",
       " '__wrapped__']"
      ]
     },
     "execution_count": 51,
     "metadata": {},
     "output_type": "execute_result"
    }
   ],
   "source": [
    "z = jax.make_jaxpr(permissive_sum)\n",
    "dir(z)\n"
   ]
  },
  {
   "cell_type": "code",
   "execution_count": 52,
   "id": "1b273a50-a9b6-42f8-ae53-9f182f7c69da",
   "metadata": {},
   "outputs": [
    {
     "data": {
      "text/plain": [
       "<function __main__.permissive_sum(x)>"
      ]
     },
     "execution_count": 52,
     "metadata": {},
     "output_type": "execute_result"
    }
   ],
   "source": [
    "z.__wrapped__"
   ]
  },
  {
   "cell_type": "code",
   "execution_count": 53,
   "id": "6b06dc2d-aff2-472e-b392-c19fb03d8991",
   "metadata": {},
   "outputs": [
    {
     "name": "stdout",
     "output_type": "stream",
     "text": [
      "Help on class super in module builtins:\n",
      "\n",
      "class super(object)\n",
      " |  super() -> same as super(__class__, <first argument>)\n",
      " |  super(type) -> unbound super object\n",
      " |  super(type, obj) -> bound super object; requires isinstance(obj, type)\n",
      " |  super(type, type2) -> bound super object; requires issubclass(type2, type)\n",
      " |  Typical use to call a cooperative superclass method:\n",
      " |  class C(B):\n",
      " |      def meth(self, arg):\n",
      " |          super().meth(arg)\n",
      " |  This works for class methods too:\n",
      " |  class C(B):\n",
      " |      @classmethod\n",
      " |      def cmeth(cls, arg):\n",
      " |          super().cmeth(arg)\n",
      " |  \n",
      " |  Methods defined here:\n",
      " |  \n",
      " |  __get__(self, instance, owner=None, /)\n",
      " |      Return an attribute of instance, which is of type owner.\n",
      " |  \n",
      " |  __getattribute__(self, name, /)\n",
      " |      Return getattr(self, name).\n",
      " |  \n",
      " |  __init__(self, /, *args, **kwargs)\n",
      " |      Initialize self.  See help(type(self)) for accurate signature.\n",
      " |  \n",
      " |  __repr__(self, /)\n",
      " |      Return repr(self).\n",
      " |  \n",
      " |  ----------------------------------------------------------------------\n",
      " |  Static methods defined here:\n",
      " |  \n",
      " |  __new__(*args, **kwargs) from builtins.type\n",
      " |      Create and return a new object.  See help(type) for accurate signature.\n",
      " |  \n",
      " |  ----------------------------------------------------------------------\n",
      " |  Data descriptors defined here:\n",
      " |  \n",
      " |  __self__\n",
      " |      the instance invoking super(); may be None\n",
      " |  \n",
      " |  __self_class__\n",
      " |      the type of the instance invoking super(); may be None\n",
      " |  \n",
      " |  __thisclass__\n",
      " |      the class invoking super()\n",
      "\n"
     ]
    }
   ],
   "source": [
    "help(super)"
   ]
  },
  {
   "cell_type": "code",
   "execution_count": null,
   "id": "844b0a62-e9a5-4fb9-9f4d-81b13c25ecce",
   "metadata": {},
   "outputs": [],
   "source": []
  },
  {
   "cell_type": "code",
   "execution_count": null,
   "id": "10e72fe4-3221-4add-b14f-3b180c517477",
   "metadata": {},
   "outputs": [],
   "source": []
  },
  {
   "cell_type": "code",
   "execution_count": null,
   "id": "83e7306f-8c3b-422e-a4f4-cf6f501c80a0",
   "metadata": {},
   "outputs": [],
   "source": []
  },
  {
   "cell_type": "code",
   "execution_count": null,
   "id": "86ab05af-600c-44dd-a995-209e2c2bce13",
   "metadata": {},
   "outputs": [],
   "source": []
  },
  {
   "cell_type": "code",
   "execution_count": null,
   "id": "e6c3df77-ca21-4918-ba06-4f155a084b84",
   "metadata": {},
   "outputs": [],
   "source": []
  },
  {
   "cell_type": "code",
   "execution_count": null,
   "id": "200e19c9-c87a-44cf-b304-508296812ec1",
   "metadata": {},
   "outputs": [],
   "source": []
  },
  {
   "cell_type": "code",
   "execution_count": null,
   "id": "6ef990dc-98ed-488b-bcee-0ac976fd42f7",
   "metadata": {},
   "outputs": [],
   "source": []
  },
  {
   "cell_type": "code",
   "execution_count": null,
   "id": "8b249ac8-d7fb-428f-bed0-fe15412eb054",
   "metadata": {},
   "outputs": [],
   "source": []
  },
  {
   "cell_type": "code",
   "execution_count": null,
   "id": "e72e17f4-fe78-4be0-900b-b1ebd7ccbe7f",
   "metadata": {},
   "outputs": [],
   "source": []
  },
  {
   "cell_type": "code",
   "execution_count": null,
   "id": "59c275d4-6ad9-48b9-b0b7-6ae9375b1ec5",
   "metadata": {},
   "outputs": [],
   "source": []
  },
  {
   "cell_type": "code",
   "execution_count": null,
   "id": "7803cf16-c2bb-4397-a6e0-5b1a23384b08",
   "metadata": {},
   "outputs": [],
   "source": []
  },
  {
   "cell_type": "code",
   "execution_count": null,
   "id": "6bb6e872-f6ea-41d6-91cd-a0f06d25b942",
   "metadata": {},
   "outputs": [],
   "source": []
  },
  {
   "cell_type": "code",
   "execution_count": 59,
   "id": "6d439f1a-e6f5-47a9-8478-1cd4c10f982c",
   "metadata": {},
   "outputs": [
    {
     "name": "stdout",
     "output_type": "stream",
     "text": [
      "<class 'method'>\n"
     ]
    }
   ],
   "source": [
    "class A:\n",
    "    def __init__(self, name):\n",
    "        self.name = name\n",
    "\n",
    "    def def_call(self, call):\n",
    "        self.call = call\n",
    "    #\n",
    "\n",
    "    def call(self, *args, **kwargs):\n",
    "        raise NotImplementedError(\"CALL is not implemented\")\n",
    "#\n",
    "\n",
    "a = A(\"test\")\n",
    "print(type(a.call))\n",
    "\n",
    "def p(*args, **kwargs):\n",
    "    print(\"args: \" + \", \".join(repr(x) for x in args) + \"; kwargs: \" + \", \".join(f\"{repr(k)}:{repr(v)}\" for k, v in kwargs.items()))\n",
    "#\n",
    "\n",
    "\n"
   ]
  },
  {
   "cell_type": "code",
   "execution_count": 60,
   "id": "0cd45df1-53f5-4500-b678-1d79dca302f2",
   "metadata": {},
   "outputs": [],
   "source": [
    "a.def_call(p)"
   ]
  },
  {
   "cell_type": "code",
   "execution_count": 61,
   "id": "b555b30c-1f3f-480b-b92f-4424b1438763",
   "metadata": {},
   "outputs": [
    {
     "name": "stdout",
     "output_type": "stream",
     "text": [
      "args: 'jkjkjk', 1; kwargs: 'z':5\n"
     ]
    }
   ],
   "source": [
    "a.call(\"jkjkjk\", 1, z=5)"
   ]
  },
  {
   "cell_type": "code",
   "execution_count": 62,
   "id": "ddeb745d-0632-455e-b1fe-cff43ec6cf29",
   "metadata": {},
   "outputs": [
    {
     "data": {
      "text/plain": [
       "function"
      ]
     },
     "execution_count": 62,
     "metadata": {},
     "output_type": "execute_result"
    }
   ],
   "source": [
    "type(a.call)"
   ]
  },
  {
   "cell_type": "code",
   "execution_count": null,
   "id": "f2f8b320-4b78-4fdd-9f95-6dbeac2beec9",
   "metadata": {},
   "outputs": [],
   "source": []
  },
  {
   "cell_type": "code",
   "execution_count": null,
   "id": "680131e2-67a4-4833-8184-e4299b308287",
   "metadata": {},
   "outputs": [],
   "source": []
  },
  {
   "cell_type": "code",
   "execution_count": null,
   "id": "9a403807-0a79-4df0-99f8-9c18a34da95b",
   "metadata": {},
   "outputs": [],
   "source": []
  },
  {
   "cell_type": "code",
   "execution_count": null,
   "id": "fa80b042-4640-493f-bf7b-c67188e3fccf",
   "metadata": {},
   "outputs": [],
   "source": []
  },
  {
   "cell_type": "code",
   "execution_count": null,
   "id": "72a91597-b7f1-4e8f-af22-50fcee1a755f",
   "metadata": {},
   "outputs": [],
   "source": []
  },
  {
   "cell_type": "code",
   "execution_count": null,
   "id": "6331230a-5071-4af8-8130-9d01a53bb02c",
   "metadata": {},
   "outputs": [],
   "source": []
  }
 ],
 "metadata": {
  "kernelspec": {
   "display_name": "Python 3 (ipykernel)",
   "language": "python",
   "name": "python3"
  },
  "language_info": {
   "codemirror_mode": {
    "name": "ipython",
    "version": 3
   },
   "file_extension": ".py",
   "mimetype": "text/x-python",
   "name": "python",
   "nbconvert_exporter": "python",
   "pygments_lexer": "ipython3",
   "version": "3.11.5"
  }
 },
 "nbformat": 4,
 "nbformat_minor": 5
}
