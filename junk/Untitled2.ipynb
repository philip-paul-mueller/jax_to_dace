{
 "cells": [
  {
   "cell_type": "code",
   "execution_count": 1,
   "id": "a07fb463-8653-470c-a057-937433625eed",
   "metadata": {},
   "outputs": [],
   "source": [
    "import numpy as np\n",
    "import jax\n",
    "import matplotlib\n",
    "from matplotlib import pyplot as plt\n",
    "import jax.numpy as jnp\n",
    "from jax import jit, grad, vmap\n",
    "from jax import random"
   ]
  },
  {
   "cell_type": "code",
   "execution_count": 128,
   "id": "bc98f1a3-0e89-488b-a29d-aeb4a0c643ac",
   "metadata": {},
   "outputs": [
    {
     "data": {
      "image/png": "[encoded data removed]",
      "text/plain": [
       "<Figure size 640x480 with 1 Axes>"
      ]
     },
     "metadata": {},
     "output_type": "display_data"
    }
   ],
   "source": [
    "x = 0.1 * np.arange(100)\n",
    "y = x ** 3 - 4 * x\n",
    "dy = 3 * x ** 2 - 4\n",
    "\n",
    "\n",
    "def my_diff(a):\n",
    "    a_p = a[2:]\n",
    "    a_m = a[:-2]\n",
    "    return a_p - a_m\n",
    "#\n",
    "\n",
    "def space_centrad_diff(x, y):\n",
    "    dx = my_diff(x)\n",
    "    dy = my_diff(y)\n",
    "    diff = dy / dx\n",
    "    diff = diff.at[0].set(0.)\n",
    "    diff = diff.at[-1].set(0.)\n",
    "    return diff\n",
    "#\n",
    "\n",
    "def matrix_example(A, B):\n",
    "    return A @ B\n",
    "#\n",
    "\n",
    "A = np.random.rand(20, 20)\n",
    "B = np.random.rand(20, 20)\n",
    "\n",
    "\n",
    "dy_num = space_centrad_diff(jnp.asarray(x), jnp.asarray(y))\n",
    "\n",
    "plt.plot(x, dy, label=\"Expected\")\n",
    "plt.plot(x[1:-1], dy_num, label=\"Numeric\", linestyle='--')\n",
    "\n",
    "plt.legend()\n",
    "plt.show()\n",
    "\n",
    "\n",
    "\n",
    "\n",
    "\n",
    "\n",
    "    \n",
    "\n",
    "\n",
    "\n"
   ]
  },
  {
   "cell_type": "code",
   "execution_count": 102,
   "id": "2e59bbeb-8969-42f3-bebe-55c939e77d1e",
   "metadata": {},
   "outputs": [],
   "source": [
    "cjaxpr = jax.make_jaxpr(space_centrad_diff)(x, y)\n",
    "jaxpr  = cjaxpr.jaxpr"
   ]
  },
  {
   "cell_type": "code",
   "execution_count": 103,
   "id": "e6c4cbd6-91b8-400f-abbf-5f01ca5dd1dd",
   "metadata": {},
   "outputs": [
    {
     "ename": "SyntaxError",
     "evalue": "invalid syntax (1085581943.py, line 1)",
     "output_type": "error",
     "traceback": [
      "\u001b[0;36m  Cell \u001b[0;32mIn[103], line 1\u001b[0;36m\u001b[0m\n\u001b[0;31m    cjaxpr.jaxpr.invars[0].\u001b[0m\n\u001b[0m                           ^\u001b[0m\n\u001b[0;31mSyntaxError\u001b[0m\u001b[0;31m:\u001b[0m invalid syntax\n"
     ]
    }
   ],
   "source": [
    "cjaxpr.jaxpr.invars[0]."
   ]
  },
  {
   "cell_type": "code",
   "execution_count": 118,
   "id": "c93a3174-50b1-4de4-865a-b0ed8986358b",
   "metadata": {},
   "outputs": [
    {
     "data": {
      "text/plain": [
       "-1"
      ]
     },
     "execution_count": 118,
     "metadata": {},
     "output_type": "execute_result"
    }
   ],
   "source": [
    "cjaxpr.eqns[9].invars[0].val"
   ]
  },
  {
   "cell_type": "code",
   "execution_count": 104,
   "id": "ff8a8baa-9cc0-4213-b505-11a88f85694b",
   "metadata": {},
   "outputs": [
    {
     "name": "stdout",
     "output_type": "stream",
     "text": [
      "{ \u001b[34m\u001b[22m\u001b[1mlambda \u001b[39m\u001b[22m\u001b[22m; a\u001b[35m:f32[100]\u001b[39m b\u001b[35m:f32[100]\u001b[39m. \u001b[34m\u001b[22m\u001b[1mlet\n",
      "    \u001b[39m\u001b[22m\u001b[22mc\u001b[35m:f32[98]\u001b[39m = slice[limit_indices=(100,) start_indices=(2,) strides=None] a\n",
      "    d\u001b[35m:f32[98]\u001b[39m = slice[limit_indices=(98,) start_indices=(0,) strides=None] a\n",
      "    e\u001b[35m:f32[98]\u001b[39m = sub c d\n",
      "    f\u001b[35m:f32[98]\u001b[39m = slice[limit_indices=(100,) start_indices=(2,) strides=None] b\n",
      "    g\u001b[35m:f32[98]\u001b[39m = slice[limit_indices=(98,) start_indices=(0,) strides=None] b\n",
      "    h\u001b[35m:f32[98]\u001b[39m = sub f g\n",
      "    i\u001b[35m:f32[98]\u001b[39m = div h e\n",
      "    j\u001b[35m:i32[1]\u001b[39m = broadcast_in_dim[broadcast_dimensions=() shape=(1,)] 0\n",
      "    k\u001b[35m:f32[98]\u001b[39m = scatter[\n",
      "      dimension_numbers=ScatterDimensionNumbers(update_window_dims=(), inserted_window_dims=(0,), scatter_dims_to_operand_dims=(0,))\n",
      "      indices_are_sorted=True\n",
      "      mode=GatherScatterMode.FILL_OR_DROP\n",
      "      unique_indices=True\n",
      "      update_consts=()\n",
      "      update_jaxpr=None\n",
      "    ] i j 0.0\n",
      "    l\u001b[35m:i32[]\u001b[39m = add -1 98\n",
      "    m\u001b[35m:i32[]\u001b[39m = convert_element_type[new_dtype=int32 weak_type=False] l\n",
      "    n\u001b[35m:i32[1]\u001b[39m = broadcast_in_dim[broadcast_dimensions=() shape=(1,)] m\n",
      "    o\u001b[35m:f32[98]\u001b[39m = scatter[\n",
      "      dimension_numbers=ScatterDimensionNumbers(update_window_dims=(), inserted_window_dims=(0,), scatter_dims_to_operand_dims=(0,))\n",
      "      indices_are_sorted=True\n",
      "      mode=GatherScatterMode.FILL_OR_DROP\n",
      "      unique_indices=True\n",
      "      update_consts=()\n",
      "      update_jaxpr=None\n",
      "    ] k n 0.0\n",
      "  \u001b[34m\u001b[22m\u001b[1min \u001b[39m\u001b[22m\u001b[22m(o,) }\n"
     ]
    }
   ],
   "source": [
    "print(jaxpr)"
   ]
  },
  {
   "cell_type": "code",
   "execution_count": 121,
   "id": "f8285ede-0abd-4114-adf7-e9bbe647f89c",
   "metadata": {},
   "outputs": [
    {
     "data": {
      "text/plain": [
       "[]"
      ]
     },
     "execution_count": 121,
     "metadata": {},
     "output_type": "execute_result"
    }
   ],
   "source": [
    "cjaxpr.jaxpr.constvars"
   ]
  },
  {
   "cell_type": "code",
   "execution_count": null,
   "id": "5ad3d940-7225-4951-a85d-b3e088fc1316",
   "metadata": {},
   "outputs": [],
   "source": []
  },
  {
   "cell_type": "code",
   "execution_count": 129,
   "id": "e4329371-f4cf-439c-ab0d-abca481eecb0",
   "metadata": {},
   "outputs": [],
   "source": [
    "cjaxprM = jax.make_jaxpr(matrix_example)(A, B)\n",
    "jaxprM  = cjaxprM.jaxpr"
   ]
  },
  {
   "cell_type": "code",
   "execution_count": 130,
   "id": "8ff0d02e-d4d6-4b61-aca0-88b76728e59b",
   "metadata": {},
   "outputs": [
    {
     "name": "stdout",
     "output_type": "stream",
     "text": [
      "{ \u001b[34m\u001b[22m\u001b[1mlambda \u001b[39m\u001b[22m\u001b[22m; a\u001b[35m:f32[20,20]\u001b[39m b\u001b[35m:f32[20,20]\u001b[39m. \u001b[34m\u001b[22m\u001b[1mlet\n",
      "    \u001b[39m\u001b[22m\u001b[22mc\u001b[35m:f32[20,20]\u001b[39m = dot_general[\n",
      "      dimension_numbers=(([1], [0]), ([], []))\n",
      "      preferred_element_type=float32\n",
      "    ] a b\n",
      "  \u001b[34m\u001b[22m\u001b[1min \u001b[39m\u001b[22m\u001b[22m(c,) }\n"
     ]
    }
   ],
   "source": [
    "print(cjaxprM)"
   ]
  },
  {
   "cell_type": "code",
   "execution_count": null,
   "id": "b4473658-0a1c-4c3a-b2c3-d560c5a05d35",
   "metadata": {},
   "outputs": [],
   "source": []
  },
  {
   "cell_type": "code",
   "execution_count": null,
   "id": "ad336009-c61c-480c-8921-350bd1c0e701",
   "metadata": {},
   "outputs": [],
   "source": []
  },
  {
   "cell_type": "code",
   "execution_count": null,
   "id": "668a28e6-12f9-42bb-b83e-e2b4042b3510",
   "metadata": {},
   "outputs": [],
   "source": []
  }
 ],
 "metadata": {
  "kernelspec": {
   "display_name": "Python 3 (ipykernel)",
   "language": "python",
   "name": "python3"
  },
  "language_info": {
   "codemirror_mode": {
    "name": "ipython",
    "version": 3
   },
   "file_extension": ".py",
   "mimetype": "text/x-python",
   "name": "python",
   "nbconvert_exporter": "python",
   "pygments_lexer": "ipython3",
   "version": "3.11.5"
  }
 },
 "nbformat": 4,
 "nbformat_minor": 5
}
